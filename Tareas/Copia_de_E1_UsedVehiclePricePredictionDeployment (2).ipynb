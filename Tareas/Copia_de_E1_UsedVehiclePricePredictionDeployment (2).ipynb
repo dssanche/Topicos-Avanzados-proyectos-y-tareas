{
  "cells": [
    {
      "cell_type": "markdown",
      "metadata": {
        "id": "sxFxQIOfeK4F"
      },
      "source": [
        "\n",
        "# E1 - Model Deployment in Used Vehicle Price Prediction"
      ]
    },
    {
      "cell_type": "markdown",
      "metadata": {
        "id": "sJ9F7SjKeK4G"
      },
      "source": [
        "## Introduction\n",
        "\n",
        "- 1.2 Million listings scraped from TrueCar.com - Price, Mileage, Make, Model dataset from Kaggle: [data](https://www.kaggle.com/jpayne/852k-used-car-listings)\n",
        "- Each observation represents the price of an used car"
      ]
    },
    {
      "cell_type": "code",
      "execution_count": 1,
      "metadata": {
        "id": "xbFTQNlbeK4H"
      },
      "outputs": [],
      "source": [
        "%matplotlib inline\n",
        "import pandas as pd"
      ]
    },
    {
      "cell_type": "code",
      "execution_count": 2,
      "metadata": {
        "id": "G8n9pb2JeK4I"
      },
      "outputs": [],
      "source": [
        "data = pd.read_csv('https://github.com/sergiomora03/AdvancedTopicsAnalytics/raw/main/datasets/dataTrain_carListings.zip')"
      ]
    },
    {
      "cell_type": "code",
      "execution_count": 3,
      "metadata": {
        "colab": {
          "base_uri": "https://localhost:8080/",
          "height": 206
        },
        "id": "7DKvXgDmeK4J",
        "outputId": "4c4f26c5-e203-4c2e-ebbb-a0936ffb1358"
      },
      "outputs": [
        {
          "data": {
            "text/html": [
              "<div>\n",
              "<style scoped>\n",
              "    .dataframe tbody tr th:only-of-type {\n",
              "        vertical-align: middle;\n",
              "    }\n",
              "\n",
              "    .dataframe tbody tr th {\n",
              "        vertical-align: top;\n",
              "    }\n",
              "\n",
              "    .dataframe thead th {\n",
              "        text-align: right;\n",
              "    }\n",
              "</style>\n",
              "<table border=\"1\" class=\"dataframe\">\n",
              "  <thead>\n",
              "    <tr style=\"text-align: right;\">\n",
              "      <th></th>\n",
              "      <th>Price</th>\n",
              "      <th>Year</th>\n",
              "      <th>Mileage</th>\n",
              "      <th>State</th>\n",
              "      <th>Make</th>\n",
              "      <th>Model</th>\n",
              "    </tr>\n",
              "  </thead>\n",
              "  <tbody>\n",
              "    <tr>\n",
              "      <th>0</th>\n",
              "      <td>21490</td>\n",
              "      <td>2014</td>\n",
              "      <td>31909</td>\n",
              "      <td>MD</td>\n",
              "      <td>Nissan</td>\n",
              "      <td>MuranoAWD</td>\n",
              "    </tr>\n",
              "    <tr>\n",
              "      <th>1</th>\n",
              "      <td>21250</td>\n",
              "      <td>2016</td>\n",
              "      <td>25741</td>\n",
              "      <td>KY</td>\n",
              "      <td>Chevrolet</td>\n",
              "      <td>CamaroCoupe</td>\n",
              "    </tr>\n",
              "    <tr>\n",
              "      <th>2</th>\n",
              "      <td>20925</td>\n",
              "      <td>2016</td>\n",
              "      <td>24633</td>\n",
              "      <td>SC</td>\n",
              "      <td>Hyundai</td>\n",
              "      <td>Santa</td>\n",
              "    </tr>\n",
              "    <tr>\n",
              "      <th>3</th>\n",
              "      <td>14500</td>\n",
              "      <td>2012</td>\n",
              "      <td>84026</td>\n",
              "      <td>OK</td>\n",
              "      <td>Jeep</td>\n",
              "      <td>Grand</td>\n",
              "    </tr>\n",
              "    <tr>\n",
              "      <th>4</th>\n",
              "      <td>32488</td>\n",
              "      <td>2013</td>\n",
              "      <td>22816</td>\n",
              "      <td>TN</td>\n",
              "      <td>Jeep</td>\n",
              "      <td>Wrangler</td>\n",
              "    </tr>\n",
              "  </tbody>\n",
              "</table>\n",
              "</div>"
            ],
            "text/plain": [
              "   Price  Year  Mileage State       Make        Model\n",
              "0  21490  2014    31909    MD     Nissan    MuranoAWD\n",
              "1  21250  2016    25741    KY  Chevrolet  CamaroCoupe\n",
              "2  20925  2016    24633    SC    Hyundai        Santa\n",
              "3  14500  2012    84026    OK       Jeep        Grand\n",
              "4  32488  2013    22816    TN       Jeep     Wrangler"
            ]
          },
          "execution_count": 3,
          "metadata": {},
          "output_type": "execute_result"
        }
      ],
      "source": [
        "data.head()"
      ]
    },
    {
      "cell_type": "code",
      "execution_count": 4,
      "metadata": {
        "colab": {
          "base_uri": "https://localhost:8080/"
        },
        "id": "_aoPSO3KeK4J",
        "outputId": "dea93090-7986-4884-8482-17b1b82fdff2"
      },
      "outputs": [
        {
          "data": {
            "text/plain": [
              "(500000, 6)"
            ]
          },
          "execution_count": 4,
          "metadata": {},
          "output_type": "execute_result"
        }
      ],
      "source": [
        "data.shape"
      ]
    },
    {
      "cell_type": "code",
      "execution_count": 5,
      "metadata": {
        "colab": {
          "base_uri": "https://localhost:8080/"
        },
        "id": "5DZ-QvJLeK4L",
        "outputId": "5119e217-07b6-4df6-fb4d-2ba443307676"
      },
      "outputs": [
        {
          "data": {
            "text/plain": [
              "Index(['Price', 'Year', 'Mileage', 'State', 'Make', 'Model'], dtype='object')"
            ]
          },
          "execution_count": 5,
          "metadata": {},
          "output_type": "execute_result"
        }
      ],
      "source": [
        "data.columns"
      ]
    },
    {
      "cell_type": "code",
      "execution_count": 6,
      "metadata": {
        "colab": {
          "base_uri": "https://localhost:8080/",
          "height": 272
        },
        "id": "riE3diQSC_Mp",
        "outputId": "97da1216-7c44-4763-d4d3-2e909b37d5b7"
      },
      "outputs": [
        {
          "data": {
            "text/plain": [
              "Price       int64\n",
              "Year        int64\n",
              "Mileage     int64\n",
              "State      object\n",
              "Make       object\n",
              "Model      object\n",
              "dtype: object"
            ]
          },
          "execution_count": 6,
          "metadata": {},
          "output_type": "execute_result"
        }
      ],
      "source": [
        "data.dtypes"
      ]
    },
    {
      "cell_type": "code",
      "execution_count": 7,
      "metadata": {
        "colab": {
          "base_uri": "https://localhost:8080/",
          "height": 272
        },
        "id": "czSt2YNpPI0C",
        "outputId": "dc80778d-b312-4f7d-aa7e-5395b8d50667"
      },
      "outputs": [
        {
          "data": {
            "text/plain": [
              "Price       int64\n",
              "Year        int64\n",
              "Mileage     int64\n",
              "State      object\n",
              "Make       object\n",
              "Model      object\n",
              "dtype: object"
            ]
          },
          "execution_count": 7,
          "metadata": {},
          "output_type": "execute_result"
        }
      ],
      "source": [
        "data.dtypes"
      ]
    },
    {
      "cell_type": "code",
      "execution_count": 8,
      "metadata": {
        "colab": {
          "base_uri": "https://localhost:8080/",
          "height": 272
        },
        "id": "KhU_UvjUV1Su",
        "outputId": "5c7ccc67-8564-4c10-ecb0-944936a28345"
      },
      "outputs": [
        {
          "data": {
            "text/plain": [
              "Price       int64\n",
              "Year        int64\n",
              "Mileage     int64\n",
              "State      object\n",
              "Make       object\n",
              "Model      object\n",
              "dtype: object"
            ]
          },
          "execution_count": 8,
          "metadata": {},
          "output_type": "execute_result"
        }
      ],
      "source": [
        "data.dtypes"
      ]
    },
    {
      "cell_type": "markdown",
      "metadata": {
        "id": "7iz8pi7CeK4M"
      },
      "source": [
        "# Exercise P0.1 (50%)-LEONARDO\n",
        "\n",
        "Develop a machine learning model that predicts the price of the of car using as an input ['Year', 'Mileage', 'State', 'Make', 'Model']\n",
        "\n",
        "#### Evaluation:\n",
        "- 25% - Performance of the models using a manually implemented K-Fold (K=10) cross-validation\n",
        "- 25% - Notebook explaining the process for selecting the best model. You must specify how the calibration of each of the parameters is done and how these change the performance of the model. It is expected that a clear comparison will be made of all implemented models.. Present the most relevant conslusions about the whole process.\n"
      ]
    },
    {
      "cell_type": "markdown",
      "metadata": {
        "id": "mIkPEnqC-jou"
      },
      "source": [
        "**ANSWER**"
      ]
    },
    {
      "cell_type": "markdown",
      "metadata": {
        "id": "rnLdAQGRX8fo"
      },
      "source": [
        "We start by importing the libraries needed to develop the model."
      ]
    },
    {
      "cell_type": "code",
      "execution_count": 11,
      "metadata": {
        "id": "uYajOYkO-ugI"
      },
      "outputs": [],
      "source": [
        "import pandas as pd\n",
        "from sklearn.model_selection import KFold\n",
        "from sklearn.linear_model import LinearRegression  # Example model\n",
        "from sklearn.metrics import mean_squared_error  # Example metric\n",
        "from sklearn.metrics import mean_absolute_percentage_error\n",
        "import numpy as np\n",
        "from sklearn.metrics import mean_absolute_percentage_error\n",
        "import xgboost as xgb\n",
        "from sklearn.preprocessing import OneHotEncoder  # Import OneHotEncoder\n",
        "from sklearn.model_selection import train_test_split"
      ]
    },
    {
      "cell_type": "code",
      "execution_count": 13,
      "metadata": {},
      "outputs": [],
      "source": [
        "#pip install xgboost"
      ]
    },
    {
      "cell_type": "markdown",
      "metadata": {
        "id": "KSwSDRbDDxLM"
      },
      "source": [
        "Before we develop the model we need a base line to looking for the principal variables and the best way how we can improve the model. So, we start the develop with a linear regression model looking foward the following steps:\n",
        "\n",
        "1. Data preparation (Feature Enginering is not performed in this initial model).\n",
        "2. Data splitting into training and testing.\n",
        "3. One-Hot coding for categorical variables.\n",
        "4. Model initialisation (Linear Regression).\n",
        "5. K-Fold Cross Validation (10 Folds).\n",
        "6. Calculation of model performance metrics.\n",
        "7. Final model evaluation.\n",
        "\n"
      ]
    },
    {
      "cell_type": "code",
      "execution_count": 14,
      "metadata": {
        "colab": {
          "base_uri": "https://localhost:8080/"
        },
        "id": "HX6XlZPa79Mo",
        "outputId": "9bbfdb98-7ee0-4dac-fc51-efcefc6b2a7d"
      },
      "outputs": [
        {
          "name": "stdout",
          "output_type": "stream",
          "text": [
            "Promedio de MAPE en todos los folds: 0.1644466575812759\n",
            "Promedio de RMSE en todos los folds: 4407.738310981288\n"
          ]
        }
      ],
      "source": [
        "#1. Data Preparation we identied the independent an dependent variables\n",
        "X = data[['Year', 'Mileage', 'State', 'Make', 'Model']]\n",
        "y = data['Price']\n",
        "\n",
        "#2. Split dataset in train and test (0.2)\n",
        "X_train, X_test, y_train, y_test = train_test_split(X, y, test_size=0.2, random_state=42)\n",
        "\n",
        "#3. For the categorical variable we implement One-Hot Encoder.\n",
        "encoder = OneHotEncoder(handle_unknown='ignore', sparse_output=False)\n",
        "\n",
        "### We adjust the encoder an transform the categories\n",
        "X_train_encoded = encoder.fit_transform(X_train[['State', 'Make', 'Model']])\n",
        "\n",
        "### After the encoder we identified the name of the principal variables\n",
        "encoded_feature_names = encoder.get_feature_names_out(['State', 'Make', 'Model'])\n",
        "\n",
        "### And crate a dataframe with the variables\n",
        "X_train_encoded_df = pd.DataFrame(X_train_encoded, columns=encoded_feature_names, index=X_train.index)\n",
        "\n",
        "### After, we concatenate the numeric variables (Year,Mileage)\n",
        "X_train_final = pd.concat([X_train[['Year', 'Mileage']], X_train_encoded_df], axis=1)\n",
        "\n",
        "#4. The Fourth step is to incializate the Linear Regression Model\n",
        "linear_model = LinearRegression()\n",
        "\n",
        "#5. Then we made a Cross Validation with K-Folds (10 folds)\n",
        "kf = KFold(n_splits=10, shuffle=True, random_state=42)\n",
        "mape_scores = []\n",
        "rmse_scores = []\n",
        "\n",
        "for train_index, val_index in kf.split(X_train_final):\n",
        "    X_train_fold, X_val_fold = X_train_final.iloc[train_index], X_train_final.iloc[val_index]\n",
        "    y_train_fold, y_val_fold = y_train.iloc[train_index], y_train.iloc[val_index]\n",
        "\n",
        "##### We Adjust the linear regression model\n",
        "    linear_model.fit(X_train_fold, y_train_fold)\n",
        "\n",
        "##### and Made the Predictions\n",
        "    y_pred = linear_model.predict(X_val_fold)\n",
        "\n",
        "# 6. Finally we calculate the performance meassure\n",
        "### calculate MAPE y RMSE\n",
        "    mape = mean_absolute_percentage_error(y_val_fold, y_pred)\n",
        "    rmse = np.sqrt(mean_squared_error(y_val_fold, y_pred))\n",
        "\n",
        "### Add pointers\n",
        "    mape_scores.append(mape)\n",
        "    rmse_scores.append(rmse)\n",
        "\n",
        "#7 And Evaluate the model\n",
        "print(f\"Promedio de MAPE en todos los folds: {np.mean(mape_scores)}\")\n",
        "print(f\"Promedio de RMSE en todos los folds: {np.mean(rmse_scores)}\")"
      ]
    },
    {
      "cell_type": "markdown",
      "metadata": {
        "id": "3qgn77P3GeTu"
      },
      "source": [
        "Once the model has been run with the cross validation we obtain the baseline of the model with the MAPE and RMSE metrics with values 0.1644 and 4407.73 respectively, with this baseline we will proceed to perform the corresponding Feature Engineering procedure to improve the performance metrics."
      ]
    },
    {
      "cell_type": "markdown",
      "metadata": {
        "id": "DwoJptZAXRLo"
      },
      "source": [
        "# **Data Preparation/Feature Engineering**"
      ]
    },
    {
      "cell_type": "markdown",
      "metadata": {
        "id": "gzgZoQeaGm3B"
      },
      "source": [
        "Starting from the baseline and taking into account that in the exploratory phase of the data a large number of categories have been identified for the variables ‘Model’, ‘State’ and ‘Make’, a good approach to achieve a reduction of variable categories is to apply the clustering method and identify an optimal grouping strategy. In clustering, the Elbow method is applied to visually inspect the point on the graph that most optimizes the WCSS to determine the number of categories by which each variable should be reduced"
      ]
    },
    {
      "cell_type": "code",
      "execution_count": 15,
      "metadata": {
        "id": "wrVBCjpfhE4M"
      },
      "outputs": [],
      "source": [
        "import numpy as np\n",
        "import pandas as pd\n",
        "from sklearn.cluster import KMeans\n",
        "import matplotlib.pyplot as plt\n",
        "\n",
        "def find_optimal_clusters_elbow(data, feature, max_clusters=10):\n",
        "    \"\"\"Finds the optimal number of clusters for a categorical feature using the elbow method.\n",
        "\n",
        "    Args:\n",
        "        data (pd.DataFrame): The input DataFrame.\n",
        "        feature (str): The name of the categorical feature.\n",
        "        max_clusters (int, optional): The maximum number of clusters to consider. Defaults to 10.\n",
        "\n",
        "    Returns:\n",
        "        int: The optimal number of clusters.\n",
        "    \"\"\"\n",
        "\n",
        "    # 1. Encode the categorical feature (replace with your preferred encoding method)\n",
        "\n",
        "    !pip install category_encoders\n",
        "    import category_encoders as ce\n",
        "    encoder = ce.TargetEncoder(cols=[feature])\n",
        "    data_encoded = encoder.fit_transform(data[[feature]], data['Price'])\n",
        "\n",
        "\n",
        "    # 2. Calculate WCSS for different numbers of clusters\n",
        "    wcss = []\n",
        "    for k in range(1, max_clusters + 1):\n",
        "        kmeans = KMeans(n_clusters=k, random_state=42)\n",
        "        kmeans.fit(data_encoded)\n",
        "        wcss.append(kmeans.inertia_)\n",
        "\n",
        "    # 3. Find the elbow point (visually or using a more automated approach)\n",
        "\n",
        "    plt.plot(range(1, max_clusters + 1), wcss)\n",
        "    plt.title(f'Elbow Method for {feature}')\n",
        "    plt.xlabel('Number of Clusters (k)')\n",
        "    plt.ylabel('WCSS')\n",
        "    plt.show()\n",
        "\n",
        "    return #optimal_k"
      ]
    },
    {
      "cell_type": "markdown",
      "metadata": {
        "id": "GM5m08rmLqa5"
      },
      "source": [
        "We apply the method for ‘Model’ variable."
      ]
    },
    {
      "cell_type": "code",
      "execution_count": 16,
      "metadata": {
        "colab": {
          "base_uri": "https://localhost:8080/",
          "height": 869
        },
        "id": "8NQ-DfxkLx3I",
        "outputId": "27d71285-6dfd-4410-9bf7-ca10ccacec9e"
      },
      "outputs": [
        {
          "name": "stdout",
          "output_type": "stream",
          "text": [
            "Requirement already satisfied: category_encoders in c:\\users\\usuario\\anaconda3\\lib\\site-packages (2.8.0)\n",
            "Requirement already satisfied: numpy>=1.14.0 in c:\\users\\usuario\\anaconda3\\lib\\site-packages (from category_encoders) (1.26.4)\n",
            "Requirement already satisfied: pandas>=1.0.5 in c:\\users\\usuario\\anaconda3\\lib\\site-packages (from category_encoders) (2.2.2)\n",
            "Requirement already satisfied: patsy>=0.5.1 in c:\\users\\usuario\\anaconda3\\lib\\site-packages (from category_encoders) (0.5.6)\n",
            "Requirement already satisfied: scikit-learn>=1.6.0 in c:\\users\\usuario\\anaconda3\\lib\\site-packages (from category_encoders) (1.6.1)\n",
            "Requirement already satisfied: scipy>=1.0.0 in c:\\users\\usuario\\anaconda3\\lib\\site-packages (from category_encoders) (1.13.1)\n",
            "Requirement already satisfied: statsmodels>=0.9.0 in c:\\users\\usuario\\anaconda3\\lib\\site-packages (from category_encoders) (0.14.2)\n",
            "Requirement already satisfied: python-dateutil>=2.8.2 in c:\\users\\usuario\\anaconda3\\lib\\site-packages (from pandas>=1.0.5->category_encoders) (2.9.0.post0)\n",
            "Requirement already satisfied: pytz>=2020.1 in c:\\users\\usuario\\anaconda3\\lib\\site-packages (from pandas>=1.0.5->category_encoders) (2024.1)\n",
            "Requirement already satisfied: tzdata>=2022.7 in c:\\users\\usuario\\anaconda3\\lib\\site-packages (from pandas>=1.0.5->category_encoders) (2023.3)\n",
            "Requirement already satisfied: six in c:\\users\\usuario\\anaconda3\\lib\\site-packages (from patsy>=0.5.1->category_encoders) (1.16.0)\n",
            "Requirement already satisfied: joblib>=1.2.0 in c:\\users\\usuario\\anaconda3\\lib\\site-packages (from scikit-learn>=1.6.0->category_encoders) (1.4.2)\n",
            "Requirement already satisfied: threadpoolctl>=3.1.0 in c:\\users\\usuario\\anaconda3\\lib\\site-packages (from scikit-learn>=1.6.0->category_encoders) (3.5.0)\n",
            "Requirement already satisfied: packaging>=21.3 in c:\\users\\usuario\\anaconda3\\lib\\site-packages (from statsmodels>=0.9.0->category_encoders) (24.1)\n"
          ]
        },
        {
          "name": "stderr",
          "output_type": "stream",
          "text": [
            "c:\\Users\\USUARIO\\anaconda3\\Lib\\site-packages\\joblib\\externals\\loky\\backend\\context.py:136: UserWarning: Could not find the number of physical cores for the following reason:\n",
            "[WinError 2] El sistema no puede encontrar el archivo especificado\n",
            "Returning the number of logical cores instead. You can silence this warning by setting LOKY_MAX_CPU_COUNT to the number of cores you want to use.\n",
            "  warnings.warn(\n",
            "  File \"c:\\Users\\USUARIO\\anaconda3\\Lib\\site-packages\\joblib\\externals\\loky\\backend\\context.py\", line 257, in _count_physical_cores\n",
            "    cpu_info = subprocess.run(\n",
            "               ^^^^^^^^^^^^^^^\n",
            "  File \"c:\\Users\\USUARIO\\anaconda3\\Lib\\subprocess.py\", line 548, in run\n",
            "    with Popen(*popenargs, **kwargs) as process:\n",
            "         ^^^^^^^^^^^^^^^^^^^^^^^^^^^\n",
            "  File \"c:\\Users\\USUARIO\\anaconda3\\Lib\\subprocess.py\", line 1026, in __init__\n",
            "    self._execute_child(args, executable, preexec_fn, close_fds,\n",
            "  File \"c:\\Users\\USUARIO\\anaconda3\\Lib\\subprocess.py\", line 1538, in _execute_child\n",
            "    hp, ht, pid, tid = _winapi.CreateProcess(executable, args,\n",
            "                       ^^^^^^^^^^^^^^^^^^^^^^^^^^^^^^^^^^^^^^^\n"
          ]
        },
        {
          "data": {
            "image/png": "[encoded data removed]",
            "text/plain": [
              "<Figure size 640x480 with 1 Axes>"
            ]
          },
          "metadata": {},
          "output_type": "display_data"
        },
        {
          "name": "stdout",
          "output_type": "stream",
          "text": [
            "Optimal number of clusters for Model: None\n"
          ]
        }
      ],
      "source": [
        "optimal_k_model = find_optimal_clusters_elbow(data, 'Model')\n",
        "print(f\"Optimal number of clusters for Model: {optimal_k_model}\")"
      ]
    },
    {
      "cell_type": "markdown",
      "metadata": {
        "id": "Zl2RN7gSL8Fn"
      },
      "source": [
        "According to the Elbow Method, the optimal number of Categories for the **Model** Variable is **5**"
      ]
    },
    {
      "cell_type": "code",
      "execution_count": 17,
      "metadata": {
        "colab": {
          "base_uri": "https://localhost:8080/",
          "height": 775
        },
        "id": "FfahlMUgVLLT",
        "outputId": "1e96a1dd-5454-4ac7-fd4e-bb6007f777ca"
      },
      "outputs": [
        {
          "name": "stdout",
          "output_type": "stream",
          "text": [
            "Requirement already satisfied: category_encoders in c:\\users\\usuario\\anaconda3\\lib\\site-packages (2.8.0)\n",
            "Requirement already satisfied: numpy>=1.14.0 in c:\\users\\usuario\\anaconda3\\lib\\site-packages (from category_encoders) (1.26.4)\n",
            "Requirement already satisfied: pandas>=1.0.5 in c:\\users\\usuario\\anaconda3\\lib\\site-packages (from category_encoders) (2.2.2)\n",
            "Requirement already satisfied: patsy>=0.5.1 in c:\\users\\usuario\\anaconda3\\lib\\site-packages (from category_encoders) (0.5.6)\n",
            "Requirement already satisfied: scikit-learn>=1.6.0 in c:\\users\\usuario\\anaconda3\\lib\\site-packages (from category_encoders) (1.6.1)\n",
            "Requirement already satisfied: scipy>=1.0.0 in c:\\users\\usuario\\anaconda3\\lib\\site-packages (from category_encoders) (1.13.1)\n",
            "Requirement already satisfied: statsmodels>=0.9.0 in c:\\users\\usuario\\anaconda3\\lib\\site-packages (from category_encoders) (0.14.2)\n",
            "Requirement already satisfied: python-dateutil>=2.8.2 in c:\\users\\usuario\\anaconda3\\lib\\site-packages (from pandas>=1.0.5->category_encoders) (2.9.0.post0)\n",
            "Requirement already satisfied: pytz>=2020.1 in c:\\users\\usuario\\anaconda3\\lib\\site-packages (from pandas>=1.0.5->category_encoders) (2024.1)\n",
            "Requirement already satisfied: tzdata>=2022.7 in c:\\users\\usuario\\anaconda3\\lib\\site-packages (from pandas>=1.0.5->category_encoders) (2023.3)\n",
            "Requirement already satisfied: six in c:\\users\\usuario\\anaconda3\\lib\\site-packages (from patsy>=0.5.1->category_encoders) (1.16.0)\n",
            "Requirement already satisfied: joblib>=1.2.0 in c:\\users\\usuario\\anaconda3\\lib\\site-packages (from scikit-learn>=1.6.0->category_encoders) (1.4.2)\n",
            "Requirement already satisfied: threadpoolctl>=3.1.0 in c:\\users\\usuario\\anaconda3\\lib\\site-packages (from scikit-learn>=1.6.0->category_encoders) (3.5.0)\n",
            "Requirement already satisfied: packaging>=21.3 in c:\\users\\usuario\\anaconda3\\lib\\site-packages (from statsmodels>=0.9.0->category_encoders) (24.1)\n"
          ]
        },
        {
          "data": {
            "image/png": "[encoded data removed]",
            "text/plain": [
              "<Figure size 640x480 with 1 Axes>"
            ]
          },
          "metadata": {},
          "output_type": "display_data"
        },
        {
          "name": "stdout",
          "output_type": "stream",
          "text": [
            "Optimal number of clusters for Model: None\n"
          ]
        }
      ],
      "source": [
        "optimal_k_model2 = find_optimal_clusters_elbow(data, 'State')\n",
        "print(f\"Optimal number of clusters for Model: {optimal_k_model2}\")"
      ]
    },
    {
      "cell_type": "markdown",
      "metadata": {
        "id": "FB0Lc4jTVYa0"
      },
      "source": [
        "According to the Elbow Method, the optimal number of Categories for the **State** Variable is **5**"
      ]
    },
    {
      "cell_type": "code",
      "execution_count": 18,
      "metadata": {
        "colab": {
          "base_uri": "https://localhost:8080/",
          "height": 775
        },
        "id": "eGsU-9fwVggE",
        "outputId": "0ce9b67d-abcd-4fb8-dc41-22d1c5a2c4f9"
      },
      "outputs": [
        {
          "name": "stdout",
          "output_type": "stream",
          "text": [
            "Requirement already satisfied: category_encoders in c:\\users\\usuario\\anaconda3\\lib\\site-packages (2.8.0)\n",
            "Requirement already satisfied: numpy>=1.14.0 in c:\\users\\usuario\\anaconda3\\lib\\site-packages (from category_encoders) (1.26.4)\n",
            "Requirement already satisfied: pandas>=1.0.5 in c:\\users\\usuario\\anaconda3\\lib\\site-packages (from category_encoders) (2.2.2)\n",
            "Requirement already satisfied: patsy>=0.5.1 in c:\\users\\usuario\\anaconda3\\lib\\site-packages (from category_encoders) (0.5.6)\n",
            "Requirement already satisfied: scikit-learn>=1.6.0 in c:\\users\\usuario\\anaconda3\\lib\\site-packages (from category_encoders) (1.6.1)\n",
            "Requirement already satisfied: scipy>=1.0.0 in c:\\users\\usuario\\anaconda3\\lib\\site-packages (from category_encoders) (1.13.1)\n",
            "Requirement already satisfied: statsmodels>=0.9.0 in c:\\users\\usuario\\anaconda3\\lib\\site-packages (from category_encoders) (0.14.2)\n",
            "Requirement already satisfied: python-dateutil>=2.8.2 in c:\\users\\usuario\\anaconda3\\lib\\site-packages (from pandas>=1.0.5->category_encoders) (2.9.0.post0)\n",
            "Requirement already satisfied: pytz>=2020.1 in c:\\users\\usuario\\anaconda3\\lib\\site-packages (from pandas>=1.0.5->category_encoders) (2024.1)\n",
            "Requirement already satisfied: tzdata>=2022.7 in c:\\users\\usuario\\anaconda3\\lib\\site-packages (from pandas>=1.0.5->category_encoders) (2023.3)\n",
            "Requirement already satisfied: six in c:\\users\\usuario\\anaconda3\\lib\\site-packages (from patsy>=0.5.1->category_encoders) (1.16.0)\n",
            "Requirement already satisfied: joblib>=1.2.0 in c:\\users\\usuario\\anaconda3\\lib\\site-packages (from scikit-learn>=1.6.0->category_encoders) (1.4.2)\n",
            "Requirement already satisfied: threadpoolctl>=3.1.0 in c:\\users\\usuario\\anaconda3\\lib\\site-packages (from scikit-learn>=1.6.0->category_encoders) (3.5.0)\n",
            "Requirement already satisfied: packaging>=21.3 in c:\\users\\usuario\\anaconda3\\lib\\site-packages (from statsmodels>=0.9.0->category_encoders) (24.1)\n"
          ]
        },
        {
          "data": {
            "image/png": "[encoded data removed]",
            "text/plain": [
              "<Figure size 640x480 with 1 Axes>"
            ]
          },
          "metadata": {},
          "output_type": "display_data"
        },
        {
          "name": "stdout",
          "output_type": "stream",
          "text": [
            "Optimal number of clusters for Model: None\n"
          ]
        }
      ],
      "source": [
        "optimal_k_model3 = find_optimal_clusters_elbow(data, 'Make')\n",
        "print(f\"Optimal number of clusters for Model: {optimal_k_model3}\")"
      ]
    },
    {
      "cell_type": "markdown",
      "metadata": {
        "id": "4_Pr-JXPVm3I"
      },
      "source": [
        "According to the Elbow Method, the optimal number of Categories for the **Make** Variable is **4**"
      ]
    },
    {
      "cell_type": "markdown",
      "metadata": {
        "id": "Nr-RB7NIVtWa"
      },
      "source": [
        "Closing, the categories of variables can be grouped as follows:\n",
        "\n",
        "1.   \"**Model**\" : 5.\n",
        "2.   \"**State**\" : 5.\n",
        "3.   \"**Make**\" : 4.\n",
        "\n",
        "\n"
      ]
    },
    {
      "cell_type": "markdown",
      "metadata": {
        "id": "glDCNw4AWWWn"
      },
      "source": [
        "With the results of the clusters, the reduction of variables is then carried out."
      ]
    },
    {
      "cell_type": "code",
      "execution_count": 19,
      "metadata": {
        "colab": {
          "base_uri": "https://localhost:8080/",
          "height": 206
        },
        "id": "lbUeF2kVWpbR",
        "outputId": "504ffafc-3db4-4fff-a776-95c1ce9d436b"
      },
      "outputs": [
        {
          "data": {
            "text/html": [
              "<div>\n",
              "<style scoped>\n",
              "    .dataframe tbody tr th:only-of-type {\n",
              "        vertical-align: middle;\n",
              "    }\n",
              "\n",
              "    .dataframe tbody tr th {\n",
              "        vertical-align: top;\n",
              "    }\n",
              "\n",
              "    .dataframe thead th {\n",
              "        text-align: right;\n",
              "    }\n",
              "</style>\n",
              "<table border=\"1\" class=\"dataframe\">\n",
              "  <thead>\n",
              "    <tr style=\"text-align: right;\">\n",
              "      <th></th>\n",
              "      <th>Price</th>\n",
              "      <th>Year</th>\n",
              "      <th>Mileage</th>\n",
              "      <th>State</th>\n",
              "      <th>Make</th>\n",
              "      <th>Model</th>\n",
              "    </tr>\n",
              "  </thead>\n",
              "  <tbody>\n",
              "    <tr>\n",
              "      <th>0</th>\n",
              "      <td>21490</td>\n",
              "      <td>2014</td>\n",
              "      <td>31909</td>\n",
              "      <td>0</td>\n",
              "      <td>1</td>\n",
              "      <td>3</td>\n",
              "    </tr>\n",
              "    <tr>\n",
              "      <th>1</th>\n",
              "      <td>21250</td>\n",
              "      <td>2016</td>\n",
              "      <td>25741</td>\n",
              "      <td>1</td>\n",
              "      <td>2</td>\n",
              "      <td>3</td>\n",
              "    </tr>\n",
              "    <tr>\n",
              "      <th>2</th>\n",
              "      <td>20925</td>\n",
              "      <td>2016</td>\n",
              "      <td>24633</td>\n",
              "      <td>1</td>\n",
              "      <td>0</td>\n",
              "      <td>2</td>\n",
              "    </tr>\n",
              "    <tr>\n",
              "      <th>3</th>\n",
              "      <td>14500</td>\n",
              "      <td>2012</td>\n",
              "      <td>84026</td>\n",
              "      <td>3</td>\n",
              "      <td>2</td>\n",
              "      <td>3</td>\n",
              "    </tr>\n",
              "    <tr>\n",
              "      <th>4</th>\n",
              "      <td>32488</td>\n",
              "      <td>2013</td>\n",
              "      <td>22816</td>\n",
              "      <td>2</td>\n",
              "      <td>2</td>\n",
              "      <td>4</td>\n",
              "    </tr>\n",
              "  </tbody>\n",
              "</table>\n",
              "</div>"
            ],
            "text/plain": [
              "   Price  Year  Mileage  State  Make  Model\n",
              "0  21490  2014    31909      0     1      3\n",
              "1  21250  2016    25741      1     2      3\n",
              "2  20925  2016    24633      1     0      2\n",
              "3  14500  2012    84026      3     2      3\n",
              "4  32488  2013    22816      2     2      4"
            ]
          },
          "execution_count": 19,
          "metadata": {},
          "output_type": "execute_result"
        }
      ],
      "source": [
        "import pandas as pd\n",
        "\n",
        "def reduce_categories_by_price(data, feature, n_categories):\n",
        "    \"\"\"Reduces a categorical feature to a specified number of categories based on average price.\n",
        "\n",
        "    Args:\n",
        "        data (pd.DataFrame): The input DataFrame.\n",
        "        feature (str): The name of the categorical feature to reduce.\n",
        "        n_categories (int, optional): The desired number of categories. Defaults to 3.\n",
        "\n",
        "    Returns:\n",
        "        pd.DataFrame: The DataFrame with the reduced categorical feature.\n",
        "    \"\"\"\n",
        "\n",
        "    # Calculate average price for each category\n",
        "    category_prices = data.groupby(feature)['Price'].mean().sort_values()\n",
        "\n",
        "    # Divide categories into n_categories quantiles based on average price\n",
        "    category_bins = pd.qcut(category_prices, q=n_categories, labels=False, duplicates='drop')\n",
        "\n",
        "    # Create a dictionary mapping original categories to new categories\n",
        "    category_mapping = dict(zip(category_prices.index, category_bins))\n",
        "\n",
        "    # Replace original categories with new categories in the DataFrame\n",
        "    data[feature] = data[feature].map(category_mapping)\n",
        "\n",
        "    #If mapping dict has less than n_categories items, fill values that weren't mapped with -1\n",
        "    if len(category_mapping) < n_categories:\n",
        "        for i in range(n_categories):\n",
        "            if i not in data[feature].unique():\n",
        "                data[feature] = data[feature].fillna(i)\n",
        "\n",
        "    return data\n",
        "\n",
        "# Apply the function to reduce categories for 'State', 'Make', and 'Model'\n",
        "data = reduce_categories_by_price(data, 'Model',5)\n",
        "data = reduce_categories_by_price(data, 'State',5)\n",
        "data = reduce_categories_by_price(data, 'Make',4)\n",
        "data.head()"
      ]
    },
    {
      "cell_type": "markdown",
      "metadata": {
        "id": "RVrHjSFQWwkK"
      },
      "source": [
        "Also, a part of the reduced variables we create a new variable \"Car age\" wich represent the how old is the car and also we try to reduce the effect of the atipical mileage data usint the logarithm."
      ]
    },
    {
      "cell_type": "code",
      "execution_count": 20,
      "metadata": {
        "id": "ZCYLLvWrXGto"
      },
      "outputs": [],
      "source": [
        "# Calculate car age\n",
        "data['Car_Age'] = 2025 - data['Year']\n",
        "\n",
        "# Calculate the logarithm of Mileage\n",
        "data['Log_Mileage'] = np.log1p(data['Mileage'])"
      ]
    },
    {
      "cell_type": "markdown",
      "metadata": {
        "id": "pbluLkQRXue6"
      },
      "source": [
        "# **First Model XGBoost**"
      ]
    },
    {
      "cell_type": "markdown",
      "metadata": {
        "id": "zps-hF-RYBlR"
      },
      "source": [
        "Once we train the Linear Regression Model the first model we want to train is a XGBoost using GridSearch for now the best hyperparameter and then evaluate it, with the KFolds=10"
      ]
    },
    {
      "cell_type": "code",
      "execution_count": 21,
      "metadata": {
        "colab": {
          "base_uri": "https://localhost:8080/"
        },
        "id": "fpIWI648Y8gJ",
        "outputId": "01496b29-bd27-4940-a098-03aada6b0745"
      },
      "outputs": [
        {
          "name": "stdout",
          "output_type": "stream",
          "text": [
            "Best parameters found:  {'colsample_bytree': 0.8, 'learning_rate': 0.1, 'max_depth': 7, 'n_estimators': 200, 'subsample': 1.0}\n",
            "Lowest RMSE found:  5065.444921875\n"
          ]
        }
      ],
      "source": [
        "import pandas as pd\n",
        "import numpy as np\n",
        "from sklearn.model_selection import KFold\n",
        "from sklearn.metrics import mean_squared_error, mean_absolute_percentage_error\n",
        "from sklearn.linear_model import LinearRegression\n",
        "from sklearn.preprocessing import OneHotEncoder\n",
        "import xgboost as xgb\n",
        "from sklearn.model_selection import GridSearchCV\n",
        "\n",
        "\n",
        "# Prepare the data\n",
        "X = data[['Year', 'State', 'Make', 'Model','Car_Age','Log_Mileage']]\n",
        "y = data['Price']\n",
        "\n",
        "# Split Data Train and Test\n",
        "X_train, X_test, y_train, y_test = train_test_split(X, y, test_size=0.2, random_state=42)\n",
        "\n",
        "# One-hot encode categorical features\n",
        "encoder = OneHotEncoder(handle_unknown='ignore', sparse_output=False)\n",
        "X_train_encoded = encoder.fit_transform(X_train[['State', 'Make', 'Model']])\n",
        "encoded_feature_names = encoder.get_feature_names_out(['State', 'Make', 'Model'])\n",
        "X_train_encoded_df = pd.DataFrame(X_train_encoded, columns=encoded_feature_names, index=X_train.index)\n",
        "X_train_final = pd.concat([X_train[['Year','Car_Age', 'Log_Mileage']], X_train_encoded_df], axis=1)\n",
        "\n",
        "\n",
        "# Define the parameter grid for XGBoost\n",
        "param_grid = {\n",
        "    'n_estimators': [50, 100, 200],\n",
        "    'learning_rate': [0.01, 0.1, 0.2],\n",
        "    'max_depth': [3, 5, 7],\n",
        "    'subsample': [0.8, 0.9, 1.0],\n",
        "    'colsample_bytree': [0.8, 0.9, 1.0]\n",
        "}\n",
        "\n",
        "# Initialize XGBoost model\n",
        "xgb_model = xgb.XGBRegressor(objective='reg:squarederror',\n",
        "                            eval_metric='rmse',  # Agregar eval_metric\n",
        "                            seed=42)\n",
        "\n",
        "# Initialize GridSearchCV\n",
        "grid_search = GridSearchCV(estimator=xgb_model, param_grid=param_grid,\n",
        "                          scoring='neg_root_mean_squared_error',  # Cambiar scoring\n",
        "                          cv=5, n_jobs=-1)\n",
        "\n",
        "\n",
        "# Perform the grid search\n",
        "grid_search.fit(X_train_final, y_train)\n",
        "\n",
        "\n",
        "# Get the best parameters and best score\n",
        "print(\"Best parameters found: \", grid_search.best_params_)\n",
        "print(\"Lowest RMSE found: \", np.abs(grid_search.best_score_))  # Imprimir el RMSE directamente\n",
        "\n",
        "# Use the best model for predictions and further evaluation.\n",
        "best_xgb_model = grid_search.best_estimator_"
      ]
    },
    {
      "cell_type": "code",
      "execution_count": 22,
      "metadata": {
        "colab": {
          "base_uri": "https://localhost:8080/"
        },
        "id": "h2xKjJ_lokz8",
        "outputId": "3de43365-f6c1-48b8-fa94-0701c4939e6d"
      },
      "outputs": [
        {
          "name": "stdout",
          "output_type": "stream",
          "text": [
            "Average MAPE across all folds: 0.16996764689683913\n",
            "Average RMSE across all folds: 5062.772400296008\n"
          ]
        }
      ],
      "source": [
        "# Use the best model from the grid search to evaluate with RMSE and MAPE\n",
        "best_xgb_model = grid_search.best_estimator_\n",
        "\n",
        "kf = KFold(n_splits=10, shuffle=True, random_state=42)\n",
        "mape_scores = []\n",
        "rmse_scores = []\n",
        "\n",
        "for train_index, val_index in kf.split(X_train_final):\n",
        "    X_train_fold, X_val_fold = X_train_final.iloc[train_index], X_train_final.iloc[val_index]\n",
        "    y_train_fold, y_val_fold = y_train.iloc[train_index], y_train.iloc[val_index]\n",
        "\n",
        "    # Train the best model\n",
        "    best_xgb_model.fit(X_train_fold, y_train_fold)\n",
        "\n",
        "    # Make predictions\n",
        "    y_pred = best_xgb_model.predict(X_val_fold)\n",
        "\n",
        "    # Calculate MAPE and RMSE\n",
        "    mape = mean_absolute_percentage_error(y_val_fold, y_pred)\n",
        "    rmse = np.sqrt(mean_squared_error(y_val_fold, y_pred))\n",
        "\n",
        "    # Store the scores\n",
        "    mape_scores.append(mape)\n",
        "    rmse_scores.append(rmse)\n",
        "\n",
        "# Print the average scores\n",
        "print(f\"Average MAPE across all folds: {np.mean(mape_scores)}\")\n",
        "print(f\"Average RMSE across all folds: {np.mean(rmse_scores)}\")"
      ]
    },
    {
      "cell_type": "markdown",
      "metadata": {
        "id": "R3uRUFA3osEU"
      },
      "source": [
        "Below are the results of XGBoost without the hyperparameter search and the best model for MAPE indicator will be the one we evaluate. The model uses KFolds with 10 folds."
      ]
    },
    {
      "cell_type": "markdown",
      "metadata": {
        "id": "wjJxC961ouV6"
      },
      "source": [
        "Only the categories are reduced to the model because reducing the dimensionality of the variables \"State\" and \"Make\" worsens the quality of the model according to the results obtained with them. If you want to check it you can \"activate\" the lines"
      ]
    },
    {
      "cell_type": "code",
      "execution_count": 23,
      "metadata": {
        "colab": {
          "base_uri": "https://localhost:8080/"
        },
        "id": "0o3djjXmoou8",
        "outputId": "80dd3008-121a-466e-8ce1-4c31213fe7e0"
      },
      "outputs": [
        {
          "name": "stdout",
          "output_type": "stream",
          "text": [
            "Average MAPE across 10 folds: 0.17187687754631042\n",
            "Average RMSE across 10 folds: 5108.708278333839\n"
          ]
        }
      ],
      "source": [
        "import pandas as pd\n",
        "import numpy as np\n",
        "import xgboost as xgb\n",
        "from sklearn.model_selection import KFold\n",
        "from sklearn.metrics import mean_absolute_percentage_error, mean_squared_error\n",
        "from sklearn.preprocessing import OneHotEncoder\n",
        "\n",
        "# Assuming 'data' is your DataFrame with 'Price', 'Year', 'Mileage', 'Make', 'Model' columns\n",
        "\n",
        "# 1. Prepare the data\n",
        "X = data[['Year', 'Mileage', \"State\", 'Make', 'Model']]\n",
        "y = data['Price']\n",
        "\n",
        "# 2. One-hot encode categorical features\n",
        "encoder = OneHotEncoder(handle_unknown='ignore', sparse_output=False)\n",
        "encoded_features = encoder.fit_transform(X[['Make', 'Model']])\n",
        "encoded_feature_names = encoder.get_feature_names_out(['Make', 'Model'])\n",
        "X_encoded = pd.DataFrame(encoded_features, columns=encoded_feature_names, index=X.index)\n",
        "X = pd.concat([X[['Year', 'Mileage']], X_encoded], axis=1)\n",
        "\n",
        "# 3. K-fold cross-validation\n",
        "kf = KFold(n_splits=10, shuffle=True, random_state=42)\n",
        "mape_scores = []\n",
        "rmse_scores = []  # List to store RMSE scores\n",
        "predictions = []  # Store predictions for each fold\n",
        "\n",
        "for train_index, val_index in kf.split(X):\n",
        "    X_train, X_val = X.iloc[train_index], X.iloc[val_index]\n",
        "    y_train, y_val = y.iloc[train_index], y.iloc[val_index]\n",
        "\n",
        "    # 4. Train XGBoost model\n",
        "    model = xgb.XGBRegressor(objective='reg:squarederror', random_state=42)\n",
        "    model.fit(X_train, y_train)\n",
        "\n",
        "    # 5. Make predictions and evaluate\n",
        "    y_pred = model.predict(X_val)\n",
        "    mape = mean_absolute_percentage_error(y_val, y_pred)\n",
        "    rmse = np.sqrt(mean_squared_error(y_val, y_pred))  # Calculate RMSE\n",
        "    mape_scores.append(mape)\n",
        "    rmse_scores.append(rmse)  # Add RMSE to the list\n",
        "    predictions.extend(y_pred)  # Add predictions to the list\n",
        "\n",
        "# 6. Calculate average MAPE and RMSE\n",
        "avg_mape = np.mean(mape_scores)\n",
        "avg_rmse = np.mean(rmse_scores)  # Calculate average RMSE\n",
        "print(f\"Average MAPE across 10 folds: {avg_mape}\")\n",
        "print(f\"Average RMSE across 10 folds: {avg_rmse}\")  # Print average RMSE\n",
        "\n",
        "# 7. Add predictions to the original DataFrame (optional)\n",
        "data['Predicted_Price'] = predictions"
      ]
    },
    {
      "cell_type": "markdown",
      "metadata": {
        "id": "XEwWps8Qo0U8"
      },
      "source": [
        "**SECOND MODEL-LINEAR REGRESSION ADJUSTING ATIPICAL DATA WITHOUT AFFECTING CATEGORICAL VARIABLES**"
      ]
    },
    {
      "cell_type": "markdown",
      "metadata": {
        "id": "L4AHDM1Qo3Bb"
      },
      "source": [
        "Through many trial and error tests, we found that by not dummifying or changing the number of categories of the categorical variables and only reducing the impact of outliers in \"Mileage\", along with the creation of the \"Car_Age\" variable, an improvement in the RMSE indicator was found."
      ]
    },
    {
      "cell_type": "code",
      "execution_count": 24,
      "metadata": {
        "colab": {
          "base_uri": "https://localhost:8080/"
        },
        "id": "nMYcXTMCo5wo",
        "outputId": "cd51744f-02d6-4604-8bd2-ef95fe6ddbdc"
      },
      "outputs": [
        {
          "name": "stdout",
          "output_type": "stream",
          "text": [
            "Promedio de MAPE en todos los folds: 0.16795323088863695\n",
            "Promedio de RMSE en todos los folds: 4488.911313713495\n"
          ]
        }
      ],
      "source": [
        "# Preparar los datos\n",
        "data1 = pd.read_csv('https://github.com/sergiomora03/AdvancedTopicsAnalytics/raw/main/datasets/dataTrain_carListings.zip')\n",
        "\n",
        "# Calculate car age\n",
        "data1['Car_Age'] = 2025 - data1['Year']\n",
        "\n",
        "# Calculate the logarithm of Mileage\n",
        "data1['Log_Mileage'] = np.log1p(data1['Mileage'])\n",
        "\n",
        "\n",
        "\n",
        "X = data1[['Year', 'State', 'Make', 'Model','Car_Age','Log_Mileage']]\n",
        "y = data1['Price']\n",
        "\n",
        "# Split Data Train and Test\n",
        "X_train, X_test, y_train, y_test = train_test_split(X, y, test_size=0.2, random_state=42)\n",
        "\n",
        "# Crear un objeto OneHotEncoder\n",
        "encoder = OneHotEncoder(handle_unknown='ignore', sparse_output=False)\n",
        "\n",
        "# Ajustar el encoder a los datos de entrenamiento y transformarlos\n",
        "X_train_encoded = encoder.fit_transform(X_train[['State', 'Make', 'Model']])\n",
        "\n",
        "# Obtener los nombres de las características después de la codificación\n",
        "encoded_feature_names = encoder.get_feature_names_out(['State', 'Make', 'Model'])\n",
        "\n",
        "# Crear un DataFrame con las características codificadas\n",
        "X_train_encoded_df = pd.DataFrame(X_train_encoded, columns=encoded_feature_names, index=X_train.index)\n",
        "\n",
        "# Concatenar las características codificadas con las características numéricas\n",
        "X_train_final = pd.concat([X_train[['Year','Car_Age','Log_Mileage']], X_train_encoded_df], axis=1)\n",
        "\n",
        "# Inicializar el modelo de regresión lineal\n",
        "linear_model2 = LinearRegression()\n",
        "\n",
        "# Validación cruzada KFold\n",
        "kf = KFold(n_splits=10, shuffle=True, random_state=42)\n",
        "mape_scores = []\n",
        "rmse_scores = []\n",
        "\n",
        "for train_index, val_index in kf.split(X_train_final):\n",
        "    X_train_fold, X_val_fold = X_train_final.iloc[train_index], X_train_final.iloc[val_index]\n",
        "    y_train_fold, y_val_fold = y_train.iloc[train_index], y_train.iloc[val_index]\n",
        "\n",
        "    # Ajustar el modelo de regresión lineal\n",
        "    linear_model2.fit(X_train_fold, y_train_fold)\n",
        "\n",
        "    # Hacer predicciones\n",
        "    y_pred = linear_model2.predict(X_val_fold)\n",
        "\n",
        "    # Calcular MAPE y RMSE\n",
        "    mape = mean_absolute_percentage_error(y_val_fold, y_pred)\n",
        "    rmse = np.sqrt(mean_squared_error(y_val_fold, y_pred))\n",
        "\n",
        "    # Agregar las puntuaciones\n",
        "    mape_scores.append(mape)\n",
        "    rmse_scores.append(rmse)\n",
        "\n",
        "# Imprimir las puntuaciones promedio\n",
        "print(f\"Promedio de MAPE en todos los folds: {np.mean(mape_scores)}\")\n",
        "print(f\"Promedio de RMSE en todos los folds: {np.mean(rmse_scores)}\")"
      ]
    },
    {
      "cell_type": "markdown",
      "metadata": {
        "id": "7w9I9YMlo9kS"
      },
      "source": [
        "**THIRD MODEL- ANN**"
      ]
    },
    {
      "cell_type": "markdown",
      "metadata": {
        "id": "EHDliK7qpEkX"
      },
      "source": [
        "Why is this structure suitable for prediction in your case?\n",
        "\n",
        "Regression problem: You are trying to predict a continuous value (car price), which makes a regression neural network structure suitable. The output layer without activation function and the MSE loss function are typical in this type of problems. Problem complexity: Predicting the price of a car depends on several features, some with non-linear relationships. The network structure with multiple dense layers and the relu activation function allows to model this complexity. Number of features: The number of neurons in the first hidden layer (128) is related to the number of input features. This gives the network enough capacity to learn from the features, due to we have a lot Pyramid structure: Gradual reduction of neurons in the hidden layers helps the network to learn more abstract and refined representations of the data, which can improve the prediction accuracy. In summary, this neural network structure is a good choice for your car price prediction problem because it is a typical structure for regression, has the ability to model the complexity of the problem, and uses a configuration of layers and neurons that is well suited to the number of features and the nature of the data.\n",
        "\n",
        "It is always advisable to experiment with different neural network structures and configurations to find the one that best fits your specific problem."
      ]
    },
    {
      "cell_type": "code",
      "execution_count": 25,
      "metadata": {
        "colab": {
          "base_uri": "https://localhost:8080/"
        },
        "id": "9Fr6C8oPpDwq",
        "outputId": "0ffe5910-8c91-489b-8a15-cbaeb9dda876"
      },
      "outputs": [
        {
          "name": "stderr",
          "output_type": "stream",
          "text": [
            "c:\\Users\\USUARIO\\anaconda3\\Lib\\site-packages\\keras\\src\\layers\\core\\dense.py:87: UserWarning: Do not pass an `input_shape`/`input_dim` argument to a layer. When using Sequential models, prefer using an `Input(shape)` object as the first layer in the model instead.\n",
            "  super().__init__(activity_regularizer=activity_regularizer, **kwargs)\n"
          ]
        },
        {
          "name": "stdout",
          "output_type": "stream",
          "text": [
            "Epoch 1/50\n",
            "\u001b[1m12500/12500\u001b[0m \u001b[32m━━━━━━━━━━━━━━━━━━━━\u001b[0m\u001b[37m\u001b[0m \u001b[1m24s\u001b[0m 2ms/step - loss: 69823328.0000 - root_mean_squared_error: 7645.3247 - val_loss: 16027634.0000 - val_root_mean_squared_error: 4003.4529\n",
            "Epoch 2/50\n",
            "\u001b[1m12500/12500\u001b[0m \u001b[32m━━━━━━━━━━━━━━━━━━━━\u001b[0m\u001b[37m\u001b[0m \u001b[1m22s\u001b[0m 2ms/step - loss: 15291731.0000 - root_mean_squared_error: 3910.1062 - val_loss: 15557548.0000 - val_root_mean_squared_error: 3944.3057\n",
            "Epoch 3/50\n",
            "\u001b[1m12500/12500\u001b[0m \u001b[32m━━━━━━━━━━━━━━━━━━━━\u001b[0m\u001b[37m\u001b[0m \u001b[1m23s\u001b[0m 2ms/step - loss: 14528876.0000 - root_mean_squared_error: 3811.5662 - val_loss: 15211950.0000 - val_root_mean_squared_error: 3900.2500\n",
            "Epoch 4/50\n",
            "\u001b[1m12500/12500\u001b[0m \u001b[32m━━━━━━━━━━━━━━━━━━━━\u001b[0m\u001b[37m\u001b[0m \u001b[1m23s\u001b[0m 2ms/step - loss: 14450010.0000 - root_mean_squared_error: 3801.2078 - val_loss: 15045193.0000 - val_root_mean_squared_error: 3878.8132\n",
            "Epoch 5/50\n",
            "\u001b[1m12500/12500\u001b[0m \u001b[32m━━━━━━━━━━━━━━━━━━━━\u001b[0m\u001b[37m\u001b[0m \u001b[1m22s\u001b[0m 2ms/step - loss: 14389825.0000 - root_mean_squared_error: 3793.3484 - val_loss: 15022539.0000 - val_root_mean_squared_error: 3875.8921\n",
            "Epoch 6/50\n",
            "\u001b[1m12500/12500\u001b[0m \u001b[32m━━━━━━━━━━━━━━━━━━━━\u001b[0m\u001b[37m\u001b[0m \u001b[1m24s\u001b[0m 2ms/step - loss: 14264891.0000 - root_mean_squared_error: 3776.8118 - val_loss: 14755628.0000 - val_root_mean_squared_error: 3841.3054\n",
            "Epoch 7/50\n",
            "\u001b[1m12500/12500\u001b[0m \u001b[32m━━━━━━━━━━━━━━━━━━━━\u001b[0m\u001b[37m\u001b[0m \u001b[1m24s\u001b[0m 2ms/step - loss: 14051368.0000 - root_mean_squared_error: 3748.4690 - val_loss: 14915341.0000 - val_root_mean_squared_error: 3862.0383\n",
            "Epoch 8/50\n",
            "\u001b[1m12500/12500\u001b[0m \u001b[32m━━━━━━━━━━━━━━━━━━━━\u001b[0m\u001b[37m\u001b[0m \u001b[1m23s\u001b[0m 2ms/step - loss: 14113650.0000 - root_mean_squared_error: 3756.6133 - val_loss: 14764031.0000 - val_root_mean_squared_error: 3842.3992\n",
            "Epoch 9/50\n",
            "\u001b[1m12500/12500\u001b[0m \u001b[32m━━━━━━━━━━━━━━━━━━━━\u001b[0m\u001b[37m\u001b[0m \u001b[1m24s\u001b[0m 2ms/step - loss: 13987831.0000 - root_mean_squared_error: 3739.9468 - val_loss: 13963909.0000 - val_root_mean_squared_error: 3736.8313\n",
            "Epoch 10/50\n",
            "\u001b[1m12500/12500\u001b[0m \u001b[32m━━━━━━━━━━━━━━━━━━━━\u001b[0m\u001b[37m\u001b[0m \u001b[1m23s\u001b[0m 2ms/step - loss: 13170224.0000 - root_mean_squared_error: 3628.9766 - val_loss: 13732555.0000 - val_root_mean_squared_error: 3705.7461\n",
            "Epoch 11/50\n",
            "\u001b[1m12500/12500\u001b[0m \u001b[32m━━━━━━━━━━━━━━━━━━━━\u001b[0m\u001b[37m\u001b[0m \u001b[1m23s\u001b[0m 2ms/step - loss: 12922200.0000 - root_mean_squared_error: 3594.6570 - val_loss: 13556888.0000 - val_root_mean_squared_error: 3681.9680\n",
            "Epoch 12/50\n",
            "\u001b[1m12500/12500\u001b[0m \u001b[32m━━━━━━━━━━━━━━━━━━━━\u001b[0m\u001b[37m\u001b[0m \u001b[1m23s\u001b[0m 2ms/step - loss: 12834550.0000 - root_mean_squared_error: 3582.4731 - val_loss: 13473390.0000 - val_root_mean_squared_error: 3670.6116\n",
            "Epoch 13/50\n",
            "\u001b[1m12500/12500\u001b[0m \u001b[32m━━━━━━━━━━━━━━━━━━━━\u001b[0m\u001b[37m\u001b[0m \u001b[1m23s\u001b[0m 2ms/step - loss: 12749237.0000 - root_mean_squared_error: 3570.3867 - val_loss: 13480869.0000 - val_root_mean_squared_error: 3671.6304\n",
            "Epoch 14/50\n",
            "\u001b[1m12500/12500\u001b[0m \u001b[32m━━━━━━━━━━━━━━━━━━━━\u001b[0m\u001b[37m\u001b[0m \u001b[1m23s\u001b[0m 2ms/step - loss: 12735641.0000 - root_mean_squared_error: 3568.6045 - val_loss: 13491339.0000 - val_root_mean_squared_error: 3673.0559\n",
            "Epoch 15/50\n",
            "\u001b[1m12500/12500\u001b[0m \u001b[32m━━━━━━━━━━━━━━━━━━━━\u001b[0m\u001b[37m\u001b[0m \u001b[1m23s\u001b[0m 2ms/step - loss: 12567132.0000 - root_mean_squared_error: 3544.8193 - val_loss: 13316698.0000 - val_root_mean_squared_error: 3649.2051\n",
            "Epoch 16/50\n",
            "\u001b[1m12500/12500\u001b[0m \u001b[32m━━━━━━━━━━━━━━━━━━━━\u001b[0m\u001b[37m\u001b[0m \u001b[1m23s\u001b[0m 2ms/step - loss: 12483755.0000 - root_mean_squared_error: 3533.1355 - val_loss: 13346880.0000 - val_root_mean_squared_error: 3653.3381\n",
            "Epoch 17/50\n",
            "\u001b[1m12500/12500\u001b[0m \u001b[32m━━━━━━━━━━━━━━━━━━━━\u001b[0m\u001b[37m\u001b[0m \u001b[1m22s\u001b[0m 2ms/step - loss: 12638473.0000 - root_mean_squared_error: 3554.8857 - val_loss: 13277595.0000 - val_root_mean_squared_error: 3643.8435\n",
            "Epoch 18/50\n",
            "\u001b[1m12500/12500\u001b[0m \u001b[32m━━━━━━━━━━━━━━━━━━━━\u001b[0m\u001b[37m\u001b[0m \u001b[1m23s\u001b[0m 2ms/step - loss: 12505659.0000 - root_mean_squared_error: 3536.2080 - val_loss: 13052251.0000 - val_root_mean_squared_error: 3612.7900\n",
            "Epoch 19/50\n",
            "\u001b[1m12500/12500\u001b[0m \u001b[32m━━━━━━━━━━━━━━━━━━━━\u001b[0m\u001b[37m\u001b[0m \u001b[1m23s\u001b[0m 2ms/step - loss: 12403483.0000 - root_mean_squared_error: 3521.7419 - val_loss: 13008047.0000 - val_root_mean_squared_error: 3606.6670\n",
            "Epoch 20/50\n",
            "\u001b[1m12500/12500\u001b[0m \u001b[32m━━━━━━━━━━━━━━━━━━━━\u001b[0m\u001b[37m\u001b[0m \u001b[1m23s\u001b[0m 2ms/step - loss: 12196409.0000 - root_mean_squared_error: 3492.2471 - val_loss: 13015693.0000 - val_root_mean_squared_error: 3607.7268\n",
            "Epoch 21/50\n",
            "\u001b[1m12500/12500\u001b[0m \u001b[32m━━━━━━━━━━━━━━━━━━━━\u001b[0m\u001b[37m\u001b[0m \u001b[1m22s\u001b[0m 2ms/step - loss: 12199308.0000 - root_mean_squared_error: 3492.6565 - val_loss: 12876483.0000 - val_root_mean_squared_error: 3588.3816\n",
            "Epoch 22/50\n",
            "\u001b[1m12500/12500\u001b[0m \u001b[32m━━━━━━━━━━━━━━━━━━━━\u001b[0m\u001b[37m\u001b[0m \u001b[1m22s\u001b[0m 2ms/step - loss: 12105812.0000 - root_mean_squared_error: 3479.0830 - val_loss: 12899360.0000 - val_root_mean_squared_error: 3591.5679\n",
            "Epoch 23/50\n",
            "\u001b[1m12500/12500\u001b[0m \u001b[32m━━━━━━━━━━━━━━━━━━━━\u001b[0m\u001b[37m\u001b[0m \u001b[1m22s\u001b[0m 2ms/step - loss: 11918610.0000 - root_mean_squared_error: 3452.2202 - val_loss: 12765786.0000 - val_root_mean_squared_error: 3572.9241\n",
            "Epoch 24/50\n",
            "\u001b[1m12500/12500\u001b[0m \u001b[32m━━━━━━━━━━━━━━━━━━━━\u001b[0m\u001b[37m\u001b[0m \u001b[1m22s\u001b[0m 2ms/step - loss: 11790827.0000 - root_mean_squared_error: 3433.4724 - val_loss: 12790592.0000 - val_root_mean_squared_error: 3576.3938\n",
            "Epoch 25/50\n",
            "\u001b[1m12500/12500\u001b[0m \u001b[32m━━━━━━━━━━━━━━━━━━━━\u001b[0m\u001b[37m\u001b[0m \u001b[1m22s\u001b[0m 2ms/step - loss: 11841709.0000 - root_mean_squared_error: 3441.0925 - val_loss: 12858272.0000 - val_root_mean_squared_error: 3585.8433\n",
            "Epoch 26/50\n",
            "\u001b[1m12500/12500\u001b[0m \u001b[32m━━━━━━━━━━━━━━━━━━━━\u001b[0m\u001b[37m\u001b[0m \u001b[1m23s\u001b[0m 2ms/step - loss: 11925303.0000 - root_mean_squared_error: 3453.2310 - val_loss: 12739966.0000 - val_root_mean_squared_error: 3569.3088\n",
            "Epoch 27/50\n",
            "\u001b[1m12500/12500\u001b[0m \u001b[32m━━━━━━━━━━━━━━━━━━━━\u001b[0m\u001b[37m\u001b[0m \u001b[1m22s\u001b[0m 2ms/step - loss: 11868714.0000 - root_mean_squared_error: 3445.0356 - val_loss: 12698709.0000 - val_root_mean_squared_error: 3563.5249\n",
            "Epoch 28/50\n",
            "\u001b[1m12500/12500\u001b[0m \u001b[32m━━━━━━━━━━━━━━━━━━━━\u001b[0m\u001b[37m\u001b[0m \u001b[1m23s\u001b[0m 2ms/step - loss: 11812287.0000 - root_mean_squared_error: 3436.8118 - val_loss: 12839927.0000 - val_root_mean_squared_error: 3583.2844\n",
            "Epoch 29/50\n",
            "\u001b[1m12500/12500\u001b[0m \u001b[32m━━━━━━━━━━━━━━━━━━━━\u001b[0m\u001b[37m\u001b[0m \u001b[1m23s\u001b[0m 2ms/step - loss: 11703337.0000 - root_mean_squared_error: 3420.9607 - val_loss: 12767805.0000 - val_root_mean_squared_error: 3573.2065\n",
            "Epoch 30/50\n",
            "\u001b[1m12500/12500\u001b[0m \u001b[32m━━━━━━━━━━━━━━━━━━━━\u001b[0m\u001b[37m\u001b[0m \u001b[1m23s\u001b[0m 2ms/step - loss: 11641288.0000 - root_mean_squared_error: 3411.8704 - val_loss: 12683657.0000 - val_root_mean_squared_error: 3561.4121\n",
            "Epoch 31/50\n",
            "\u001b[1m12500/12500\u001b[0m \u001b[32m━━━━━━━━━━━━━━━━━━━━\u001b[0m\u001b[37m\u001b[0m \u001b[1m23s\u001b[0m 2ms/step - loss: 11742987.0000 - root_mean_squared_error: 3426.7495 - val_loss: 12651409.0000 - val_root_mean_squared_error: 3556.8818\n",
            "Epoch 32/50\n",
            "\u001b[1m12500/12500\u001b[0m \u001b[32m━━━━━━━━━━━━━━━━━━━━\u001b[0m\u001b[37m\u001b[0m \u001b[1m23s\u001b[0m 2ms/step - loss: 11599758.0000 - root_mean_squared_error: 3405.7485 - val_loss: 12630386.0000 - val_root_mean_squared_error: 3553.9255\n",
            "Epoch 33/50\n",
            "\u001b[1m12500/12500\u001b[0m \u001b[32m━━━━━━━━━━━━━━━━━━━━\u001b[0m\u001b[37m\u001b[0m \u001b[1m23s\u001b[0m 2ms/step - loss: 11596690.0000 - root_mean_squared_error: 3405.2695 - val_loss: 12584054.0000 - val_root_mean_squared_error: 3547.4011\n",
            "Epoch 34/50\n",
            "\u001b[1m12500/12500\u001b[0m \u001b[32m━━━━━━━━━━━━━━━━━━━━\u001b[0m\u001b[37m\u001b[0m \u001b[1m23s\u001b[0m 2ms/step - loss: 11718879.0000 - root_mean_squared_error: 3423.2380 - val_loss: 12620147.0000 - val_root_mean_squared_error: 3552.4846\n",
            "Epoch 35/50\n",
            "\u001b[1m12500/12500\u001b[0m \u001b[32m━━━━━━━━━━━━━━━━━━━━\u001b[0m\u001b[37m\u001b[0m \u001b[1m22s\u001b[0m 2ms/step - loss: 11685406.0000 - root_mean_squared_error: 3418.2839 - val_loss: 12703561.0000 - val_root_mean_squared_error: 3564.2056\n",
            "Epoch 36/50\n",
            "\u001b[1m12500/12500\u001b[0m \u001b[32m━━━━━━━━━━━━━━━━━━━━\u001b[0m\u001b[37m\u001b[0m \u001b[1m23s\u001b[0m 2ms/step - loss: 11551039.0000 - root_mean_squared_error: 3398.6125 - val_loss: 12596760.0000 - val_root_mean_squared_error: 3549.1914\n",
            "Epoch 37/50\n",
            "\u001b[1m12500/12500\u001b[0m \u001b[32m━━━━━━━━━━━━━━━━━━━━\u001b[0m\u001b[37m\u001b[0m \u001b[1m24s\u001b[0m 2ms/step - loss: 11472225.0000 - root_mean_squared_error: 3387.0042 - val_loss: 12757504.0000 - val_root_mean_squared_error: 3571.7649\n",
            "Epoch 38/50\n",
            "\u001b[1m12500/12500\u001b[0m \u001b[32m━━━━━━━━━━━━━━━━━━━━\u001b[0m\u001b[37m\u001b[0m \u001b[1m22s\u001b[0m 2ms/step - loss: 11608914.0000 - root_mean_squared_error: 3407.0916 - val_loss: 12564305.0000 - val_root_mean_squared_error: 3544.6165\n",
            "Epoch 39/50\n",
            "\u001b[1m12500/12500\u001b[0m \u001b[32m━━━━━━━━━━━━━━━━━━━━\u001b[0m\u001b[37m\u001b[0m \u001b[1m22s\u001b[0m 2ms/step - loss: 11461511.0000 - root_mean_squared_error: 3385.4111 - val_loss: 12569523.0000 - val_root_mean_squared_error: 3545.3523\n",
            "Epoch 40/50\n",
            "\u001b[1m12500/12500\u001b[0m \u001b[32m━━━━━━━━━━━━━━━━━━━━\u001b[0m\u001b[37m\u001b[0m \u001b[1m22s\u001b[0m 2ms/step - loss: 11340797.0000 - root_mean_squared_error: 3367.4531 - val_loss: 12624322.0000 - val_root_mean_squared_error: 3553.0723\n",
            "Epoch 41/50\n",
            "\u001b[1m12500/12500\u001b[0m \u001b[32m━━━━━━━━━━━━━━━━━━━━\u001b[0m\u001b[37m\u001b[0m \u001b[1m23s\u001b[0m 2ms/step - loss: 11518860.0000 - root_mean_squared_error: 3393.8579 - val_loss: 12707928.0000 - val_root_mean_squared_error: 3564.8181\n",
            "Epoch 42/50\n",
            "\u001b[1m12500/12500\u001b[0m \u001b[32m━━━━━━━━━━━━━━━━━━━━\u001b[0m\u001b[37m\u001b[0m \u001b[1m23s\u001b[0m 2ms/step - loss: 11291938.0000 - root_mean_squared_error: 3360.1067 - val_loss: 12694250.0000 - val_root_mean_squared_error: 3562.8992\n",
            "Epoch 43/50\n",
            "\u001b[1m12500/12500\u001b[0m \u001b[32m━━━━━━━━━━━━━━━━━━━━\u001b[0m\u001b[37m\u001b[0m \u001b[1m23s\u001b[0m 2ms/step - loss: 11491110.0000 - root_mean_squared_error: 3389.7075 - val_loss: 12523273.0000 - val_root_mean_squared_error: 3538.8237\n",
            "Epoch 44/50\n",
            "\u001b[1m12500/12500\u001b[0m \u001b[32m━━━━━━━━━━━━━━━━━━━━\u001b[0m\u001b[37m\u001b[0m \u001b[1m23s\u001b[0m 2ms/step - loss: 11470280.0000 - root_mean_squared_error: 3386.6584 - val_loss: 12516679.0000 - val_root_mean_squared_error: 3537.8918\n",
            "Epoch 45/50\n",
            "\u001b[1m12500/12500\u001b[0m \u001b[32m━━━━━━━━━━━━━━━━━━━━\u001b[0m\u001b[37m\u001b[0m \u001b[1m23s\u001b[0m 2ms/step - loss: 11396729.0000 - root_mean_squared_error: 3375.8435 - val_loss: 12520578.0000 - val_root_mean_squared_error: 3538.4429\n",
            "Epoch 46/50\n",
            "\u001b[1m12500/12500\u001b[0m \u001b[32m━━━━━━━━━━━━━━━━━━━━\u001b[0m\u001b[37m\u001b[0m \u001b[1m22s\u001b[0m 2ms/step - loss: 11386564.0000 - root_mean_squared_error: 3374.2212 - val_loss: 12536810.0000 - val_root_mean_squared_error: 3540.7358\n",
            "Epoch 47/50\n",
            "\u001b[1m12500/12500\u001b[0m \u001b[32m━━━━━━━━━━━━━━━━━━━━\u001b[0m\u001b[37m\u001b[0m \u001b[1m22s\u001b[0m 2ms/step - loss: 11347230.0000 - root_mean_squared_error: 3368.4685 - val_loss: 12485701.0000 - val_root_mean_squared_error: 3533.5112\n",
            "Epoch 48/50\n",
            "\u001b[1m12500/12500\u001b[0m \u001b[32m━━━━━━━━━━━━━━━━━━━━\u001b[0m\u001b[37m\u001b[0m \u001b[1m26s\u001b[0m 2ms/step - loss: 11264935.0000 - root_mean_squared_error: 3356.2581 - val_loss: 12488813.0000 - val_root_mean_squared_error: 3533.9514\n",
            "Epoch 49/50\n",
            "\u001b[1m12500/12500\u001b[0m \u001b[32m━━━━━━━━━━━━━━━━━━━━\u001b[0m\u001b[37m\u001b[0m \u001b[1m21s\u001b[0m 2ms/step - loss: 11213222.0000 - root_mean_squared_error: 3348.4414 - val_loss: 12488695.0000 - val_root_mean_squared_error: 3533.9348\n",
            "Epoch 50/50\n",
            "\u001b[1m12500/12500\u001b[0m \u001b[32m━━━━━━━━━━━━━━━━━━━━\u001b[0m\u001b[37m\u001b[0m \u001b[1m21s\u001b[0m 2ms/step - loss: 11189339.0000 - root_mean_squared_error: 3344.9392 - val_loss: 12543286.0000 - val_root_mean_squared_error: 3541.6501\n",
            "\u001b[1m3125/3125\u001b[0m \u001b[32m━━━━━━━━━━━━━━━━━━━━\u001b[0m\u001b[37m\u001b[0m \u001b[1m2s\u001b[0m 732us/step\n",
            "RMSE: 3541.647497987342\n",
            "MAPE: 0.10633078217506409\n"
          ]
        }
      ],
      "source": [
        "import pandas as pd\n",
        "import numpy as np\n",
        "from sklearn.model_selection import train_test_split\n",
        "from sklearn.preprocessing import StandardScaler, OneHotEncoder\n",
        "from sklearn.compose import ColumnTransformer\n",
        "from tensorflow import keras\n",
        "from tensorflow.keras import layers\n",
        "from sklearn.metrics import mean_squared_error, mean_absolute_percentage_error\n",
        "\n",
        "# Load your data (replace 'your_data.csv' with the actual file path)\n",
        "# Assuming 'data' is your DataFrame with 'Price', 'Year', 'Mileage', 'State', 'Make', 'Model' columns\n",
        "data = pd.read_csv('https://github.com/sergiomora03/AdvancedTopicsAnalytics/raw/main/datasets/dataTrain_carListings.zip')\n",
        "\n",
        "# Feature Engineering (same as before)\n",
        "data['Car_Age'] = 2025 - data['Year']\n",
        "data['Log_Mileage'] = np.log1p(data['Mileage'])\n",
        "\n",
        "\n",
        "# Prepare the data\n",
        "X = data[['Year', 'State', 'Make', 'Model', 'Car_Age', 'Log_Mileage']]\n",
        "y = data['Price']\n",
        "\n",
        "# Split Data Train and Test\n",
        "X_train, X_val, y_train, y_val = train_test_split(X, y, test_size=0.2, random_state=42)\n",
        "\n",
        "# Preprocessing: One-hot encoding for categorical features and scaling for numerical features\n",
        "numerical_features = ['Year', 'Car_Age', 'Log_Mileage']\n",
        "categorical_features = ['State', 'Make', 'Model']\n",
        "\n",
        "preprocessor = ColumnTransformer(\n",
        "    transformers=[\n",
        "        ('num', StandardScaler(), numerical_features),\n",
        "        ('cat', OneHotEncoder(handle_unknown='ignore', sparse_output=False), categorical_features)\n",
        "    ])\n",
        "\n",
        "X_train_processed = preprocessor.fit_transform(X_train)\n",
        "X_val_processed = preprocessor.transform(X_val)\n",
        "\n",
        "# Define the ANN model\n",
        "modelANN = keras.Sequential([\n",
        "    layers.Dense(128, activation='relu', input_shape=(X_train_processed.shape[1],)),\n",
        "    layers.Dense(64, activation='relu'),\n",
        "    layers.Dense(32, activation='relu'),\n",
        "    layers.Dense(1) # Output layer (no activation for regression)\n",
        "])\n",
        "\n",
        "# Compile the model\n",
        "#model.compile(optimizer='adam', loss='mse', metrics=['mae']) # Mean Squared Error\n",
        "modelANN.compile(optimizer='adam', loss='mse', metrics=[keras.metrics.RootMeanSquaredError()])\n",
        "\n",
        "# Train the model\n",
        "history = modelANN.fit(X_train_processed, y_train, epochs=50, batch_size=32, validation_data=(X_val_processed, y_val))\n",
        "\n",
        "# Make predictions on the validation set\n",
        "y_pred = modelANN.predict(X_val_processed).flatten()\n",
        "\n",
        "# Evaluate the model\n",
        "rmse = np.sqrt(mean_squared_error(y_val, y_pred))\n",
        "mape = mean_absolute_percentage_error(y_val, y_pred)\n",
        "\n",
        "print(f'RMSE: {rmse}')\n",
        "print(f'MAPE: {mape}')"
      ]
    },
    {
      "cell_type": "code",
      "execution_count": 26,
      "metadata": {
        "id": "Oeb8ZzxUpQth"
      },
      "outputs": [
        {
          "name": "stderr",
          "output_type": "stream",
          "text": [
            "c:\\Users\\USUARIO\\anaconda3\\Lib\\site-packages\\keras\\src\\layers\\core\\dense.py:87: UserWarning: Do not pass an `input_shape`/`input_dim` argument to a layer. When using Sequential models, prefer using an `Input(shape)` object as the first layer in the model instead.\n",
            "  super().__init__(activity_regularizer=activity_regularizer, **kwargs)\n"
          ]
        },
        {
          "name": "stdout",
          "output_type": "stream",
          "text": [
            "\u001b[1m3125/3125\u001b[0m \u001b[32m━━━━━━━━━━━━━━━━━━━━\u001b[0m\u001b[37m\u001b[0m \u001b[1m2s\u001b[0m 710us/step\n"
          ]
        },
        {
          "name": "stderr",
          "output_type": "stream",
          "text": [
            "c:\\Users\\USUARIO\\anaconda3\\Lib\\site-packages\\keras\\src\\layers\\core\\dense.py:87: UserWarning: Do not pass an `input_shape`/`input_dim` argument to a layer. When using Sequential models, prefer using an `Input(shape)` object as the first layer in the model instead.\n",
            "  super().__init__(activity_regularizer=activity_regularizer, **kwargs)\n"
          ]
        },
        {
          "name": "stdout",
          "output_type": "stream",
          "text": [
            "\u001b[1m3125/3125\u001b[0m \u001b[32m━━━━━━━━━━━━━━━━━━━━\u001b[0m\u001b[37m\u001b[0m \u001b[1m2s\u001b[0m 727us/step\n"
          ]
        },
        {
          "name": "stderr",
          "output_type": "stream",
          "text": [
            "c:\\Users\\USUARIO\\anaconda3\\Lib\\site-packages\\keras\\src\\layers\\core\\dense.py:87: UserWarning: Do not pass an `input_shape`/`input_dim` argument to a layer. When using Sequential models, prefer using an `Input(shape)` object as the first layer in the model instead.\n",
            "  super().__init__(activity_regularizer=activity_regularizer, **kwargs)\n"
          ]
        },
        {
          "name": "stdout",
          "output_type": "stream",
          "text": [
            "\u001b[1m3125/3125\u001b[0m \u001b[32m━━━━━━━━━━━━━━━━━━━━\u001b[0m\u001b[37m\u001b[0m \u001b[1m2s\u001b[0m 731us/step\n"
          ]
        },
        {
          "name": "stderr",
          "output_type": "stream",
          "text": [
            "c:\\Users\\USUARIO\\anaconda3\\Lib\\site-packages\\keras\\src\\layers\\core\\dense.py:87: UserWarning: Do not pass an `input_shape`/`input_dim` argument to a layer. When using Sequential models, prefer using an `Input(shape)` object as the first layer in the model instead.\n",
            "  super().__init__(activity_regularizer=activity_regularizer, **kwargs)\n"
          ]
        },
        {
          "name": "stdout",
          "output_type": "stream",
          "text": [
            "\u001b[1m3125/3125\u001b[0m \u001b[32m━━━━━━━━━━━━━━━━━━━━\u001b[0m\u001b[37m\u001b[0m \u001b[1m2s\u001b[0m 750us/step\n"
          ]
        },
        {
          "name": "stderr",
          "output_type": "stream",
          "text": [
            "c:\\Users\\USUARIO\\anaconda3\\Lib\\site-packages\\keras\\src\\layers\\core\\dense.py:87: UserWarning: Do not pass an `input_shape`/`input_dim` argument to a layer. When using Sequential models, prefer using an `Input(shape)` object as the first layer in the model instead.\n",
            "  super().__init__(activity_regularizer=activity_regularizer, **kwargs)\n"
          ]
        },
        {
          "name": "stdout",
          "output_type": "stream",
          "text": [
            "\u001b[1m3125/3125\u001b[0m \u001b[32m━━━━━━━━━━━━━━━━━━━━\u001b[0m\u001b[37m\u001b[0m \u001b[1m2s\u001b[0m 611us/step\n"
          ]
        },
        {
          "name": "stderr",
          "output_type": "stream",
          "text": [
            "c:\\Users\\USUARIO\\anaconda3\\Lib\\site-packages\\keras\\src\\layers\\core\\dense.py:87: UserWarning: Do not pass an `input_shape`/`input_dim` argument to a layer. When using Sequential models, prefer using an `Input(shape)` object as the first layer in the model instead.\n",
            "  super().__init__(activity_regularizer=activity_regularizer, **kwargs)\n"
          ]
        },
        {
          "name": "stdout",
          "output_type": "stream",
          "text": [
            "\u001b[1m3125/3125\u001b[0m \u001b[32m━━━━━━━━━━━━━━━━━━━━\u001b[0m\u001b[37m\u001b[0m \u001b[1m2s\u001b[0m 679us/step\n"
          ]
        },
        {
          "name": "stderr",
          "output_type": "stream",
          "text": [
            "c:\\Users\\USUARIO\\anaconda3\\Lib\\site-packages\\keras\\src\\layers\\core\\dense.py:87: UserWarning: Do not pass an `input_shape`/`input_dim` argument to a layer. When using Sequential models, prefer using an `Input(shape)` object as the first layer in the model instead.\n",
            "  super().__init__(activity_regularizer=activity_regularizer, **kwargs)\n"
          ]
        },
        {
          "name": "stdout",
          "output_type": "stream",
          "text": [
            "\u001b[1m3125/3125\u001b[0m \u001b[32m━━━━━━━━━━━━━━━━━━━━\u001b[0m\u001b[37m\u001b[0m \u001b[1m2s\u001b[0m 700us/step\n"
          ]
        },
        {
          "name": "stderr",
          "output_type": "stream",
          "text": [
            "c:\\Users\\USUARIO\\anaconda3\\Lib\\site-packages\\keras\\src\\layers\\core\\dense.py:87: UserWarning: Do not pass an `input_shape`/`input_dim` argument to a layer. When using Sequential models, prefer using an `Input(shape)` object as the first layer in the model instead.\n",
            "  super().__init__(activity_regularizer=activity_regularizer, **kwargs)\n"
          ]
        },
        {
          "name": "stdout",
          "output_type": "stream",
          "text": [
            "\u001b[1m3125/3125\u001b[0m \u001b[32m━━━━━━━━━━━━━━━━━━━━\u001b[0m\u001b[37m\u001b[0m \u001b[1m5s\u001b[0m 2ms/step\n",
            "Best Hyperparameters: {'epochs': 100, 'num_neurons': 128, 'num_layers': 2}, RMSE: 3521.8672604174053\n"
          ]
        },
        {
          "name": "stderr",
          "output_type": "stream",
          "text": [
            "c:\\Users\\USUARIO\\anaconda3\\Lib\\site-packages\\keras\\src\\layers\\core\\dense.py:87: UserWarning: Do not pass an `input_shape`/`input_dim` argument to a layer. When using Sequential models, prefer using an `Input(shape)` object as the first layer in the model instead.\n",
            "  super().__init__(activity_regularizer=activity_regularizer, **kwargs)\n"
          ]
        },
        {
          "name": "stdout",
          "output_type": "stream",
          "text": [
            "\u001b[1m3125/3125\u001b[0m \u001b[32m━━━━━━━━━━━━━━━━━━━━\u001b[0m\u001b[37m\u001b[0m \u001b[1m3s\u001b[0m 778us/step\n",
            "Final Model RMSE: 3518.3362545385\n",
            "Final Model MAPE: 0.10935654491186142\n"
          ]
        }
      ],
      "source": [
        "import pandas as pd\n",
        "import numpy as np\n",
        "from sklearn.model_selection import train_test_split\n",
        "from sklearn.preprocessing import StandardScaler, OneHotEncoder\n",
        "from sklearn.compose import ColumnTransformer\n",
        "from tensorflow import keras\n",
        "from tensorflow.keras import layers\n",
        "from sklearn.metrics import mean_squared_error, mean_absolute_percentage_error\n",
        "\n",
        "# Load your data (replace 'your_data.csv' with the actual file path)\n",
        "# Assuming 'data' is your DataFrame with 'Price', 'Year', 'Mileage', 'State', 'Make', 'Model' columns\n",
        "data3 = pd.read_csv('https://github.com/sergiomora03/AdvancedTopicsAnalytics/raw/main/datasets/dataTrain_carListings.zip')\n",
        "\n",
        "# Feature Engineering (same as before)\n",
        "data3['Car_Age'] = 2025 - data3['Year']\n",
        "data3['Log_Mileage'] = np.log1p(data3['Mileage'])\n",
        "\n",
        "# Prepare the data\n",
        "X = data3[['Year', 'State', 'Make', 'Model', 'Car_Age', 'Log_Mileage']]\n",
        "y = data3['Price']\n",
        "\n",
        "# Split data into training and validation sets\n",
        "X_train, X_val, y_train, y_val = train_test_split(X, y, test_size=0.2, random_state=42)\n",
        "\n",
        "# Preprocessing: One-hot encoding for categorical features and scaling for numerical features\n",
        "numerical_features = ['Year', 'Car_Age', 'Log_Mileage']\n",
        "categorical_features = ['State', 'Make', 'Model']\n",
        "\n",
        "preprocessor = ColumnTransformer(\n",
        "    transformers=[\n",
        "        ('num', StandardScaler(), numerical_features),\n",
        "        ('cat', OneHotEncoder(handle_unknown='ignore', sparse_output=False), categorical_features)\n",
        "    ])\n",
        "\n",
        "X_train_processed = preprocessor.fit_transform(X_train)\n",
        "X_val_processed = preprocessor.transform(X_val)\n",
        "\n",
        "\n",
        "def build_and_train_model(epochs, num_neurons, num_layers):\n",
        "    modelANN2 = keras.Sequential()\n",
        "    modelANN2.add(layers.Dense(num_neurons, activation='relu', input_shape=(X_train_processed.shape[1],)))\n",
        "    for _ in range(num_layers - 1):\n",
        "        modelANN2.add(layers.Dense(num_neurons, activation='relu'))\n",
        "    modelANN2.add(layers.Dense(1))  # Output layer\n",
        "    modelANN2.compile(optimizer='adam', loss='mse', metrics=[keras.metrics.RootMeanSquaredError()])\n",
        "    modelANN2.fit(X_train_processed, y_train, epochs=epochs, batch_size=32, verbose=0) #verbose=0 to hide training output\n",
        "    return modelANN2\n",
        "\n",
        "#Hyperparameter search (example - adjust as needed)\n",
        "best_rmse = float('inf')\n",
        "best_hyperparams = {}\n",
        "\n",
        "for epochs in [50, 100]: #Example epochs values\n",
        "    for num_neurons in [64, 128]: # Example neuron values\n",
        "        for num_layers in [2, 3]: # Example number of layers\n",
        "            modelANN2 = build_and_train_model(epochs, num_neurons, num_layers)\n",
        "            y_pred = modelANN2.predict(X_val_processed).flatten()\n",
        "            rmse = np.sqrt(mean_squared_error(y_val, y_pred))\n",
        "\n",
        "            if rmse < best_rmse:\n",
        "                best_rmse = rmse\n",
        "                best_hyperparams = {'epochs': epochs, 'num_neurons': num_neurons, 'num_layers': num_layers}\n",
        "\n",
        "print(f\"Best Hyperparameters: {best_hyperparams}, RMSE: {best_rmse}\")\n",
        "\n",
        "# Train final model with best hyperparameters\n",
        "final_modelANN2 = build_and_train_model(**best_hyperparams)\n",
        "y_pred_final = final_modelANN2.predict(X_val_processed).flatten()\n",
        "rmse_final = np.sqrt(mean_squared_error(y_val, y_pred_final))\n",
        "mape_final = mean_absolute_percentage_error(y_val, y_pred_final)\n",
        "\n",
        "print(f\"Final Model RMSE: {rmse_final}\")\n",
        "print(f\"Final Model MAPE: {mape_final}\")"
      ]
    },
    {
      "cell_type": "code",
      "execution_count": 27,
      "metadata": {
        "id": "tIY2ijz7OxpD"
      },
      "outputs": [],
      "source": [
        "from tensorflow.keras.models import save_model\n",
        "final_modelANN2.save(\"car_price_model_ANN.keras\")"
      ]
    },
    {
      "cell_type": "markdown",
      "metadata": {
        "id": "qQ4ovxDNIf7d"
      },
      "source": [
        "from tensorflow.keras.models import load_model\n",
        "load_model = load_model(\"car_price_model_ANN.keras\")"
      ]
    },
    {
      "cell_type": "markdown",
      "metadata": {
        "id": "r3JWQcoUIfz-"
      },
      "source": []
    },
    {
      "cell_type": "code",
      "execution_count": null,
      "metadata": {
        "id": "xfGRWQ4EPypD"
      },
      "outputs": [],
      "source": []
    },
    {
      "cell_type": "markdown",
      "metadata": {
        "id": "Ftau7hH-eK4N"
      },
      "source": [
        "# Exercise P0.2 (50%)-DAVID\n",
        "\n",
        "Create an API of the model.\n",
        "\n",
        "#### Evaluation:\n",
        "- 40% - API hosted on a cloud service\n",
        "- 10% - Show screenshots of the model doing the predictions on the local machine\n"
      ]
    },
    {
      "cell_type": "code",
      "execution_count": null,
      "metadata": {
        "id": "dm5AV8lkN1R_"
      },
      "outputs": [],
      "source": []
    },
    {
      "cell_type": "code",
      "execution_count": 30,
      "metadata": {
        "colab": {
          "base_uri": "https://localhost:8080/"
        },
        "id": "AWooSefzf3U6",
        "outputId": "a6d6d1d4-4d18-401c-b636-2bc971503a3b"
      },
      "outputs": [],
      "source": [
        "#pip install flask tensorflow flask-cors"
      ]
    },
    {
      "cell_type": "code",
      "execution_count": 39,
      "metadata": {},
      "outputs": [
        {
          "name": "stdout",
          "output_type": "stream",
          "text": [
            "✅ Model Loaded Successfully!\n"
          ]
        }
      ],
      "source": [
        "from tensorflow.keras.models import load_model\n",
        "\n",
        "try:\n",
        "    model = load_model(\"car_price_model_ANN.keras\")\n",
        "    print(\"✅ Model Loaded Successfully!\")\n",
        "except Exception as e:\n",
        "    print(f\"❌ Error loading model: {str(e)}\")"
      ]
    },
    {
      "cell_type": "code",
      "execution_count": 41,
      "metadata": {
        "id": "xtXr8gahG3xE"
      },
      "outputs": [],
      "source": [
        "#pip install flask flask-restx"
      ]
    },
    {
      "cell_type": "code",
      "execution_count": null,
      "metadata": {},
      "outputs": [
        {
          "name": "stdout",
          "output_type": "stream",
          "text": [
            "Requirement already satisfied: flask in c:\\users\\usuario\\anaconda3\\lib\\site-packages (3.0.3)\n",
            "Requirement already satisfied: flask-restx in c:\\users\\usuario\\anaconda3\\lib\\site-packages (1.3.0)\n",
            "Requirement already satisfied: tensorflow in c:\\users\\usuario\\anaconda3\\lib\\site-packages (2.18.0)\n",
            "Requirement already satisfied: numpy in c:\\users\\usuario\\anaconda3\\lib\\site-packages (1.26.4)\n",
            "Requirement already satisfied: flask-cors in c:\\users\\usuario\\anaconda3\\lib\\site-packages (5.0.1)\n",
            "Requirement already satisfied: Werkzeug>=3.0.0 in c:\\users\\usuario\\anaconda3\\lib\\site-packages (from flask) (3.0.3)\n",
            "Requirement already satisfied: Jinja2>=3.1.2 in c:\\users\\usuario\\anaconda3\\lib\\site-packages (from flask) (3.1.4)\n",
            "Requirement already satisfied: itsdangerous>=2.1.2 in c:\\users\\usuario\\anaconda3\\lib\\site-packages (from flask) (2.2.0)\n",
            "Requirement already satisfied: click>=8.1.3 in c:\\users\\usuario\\anaconda3\\lib\\site-packages (from flask) (8.1.7)\n",
            "Requirement already satisfied: blinker>=1.6.2 in c:\\users\\usuario\\anaconda3\\lib\\site-packages (from flask) (1.6.2)\n",
            "Requirement already satisfied: aniso8601>=0.82 in c:\\users\\usuario\\anaconda3\\lib\\site-packages (from flask-restx) (10.0.0)\n",
            "Requirement already satisfied: jsonschema in c:\\users\\usuario\\anaconda3\\lib\\site-packages (from flask-restx) (4.23.0)\n",
            "Requirement already satisfied: pytz in c:\\users\\usuario\\anaconda3\\lib\\site-packages (from flask-restx) (2024.1)\n",
            "Requirement already satisfied: importlib-resources in c:\\users\\usuario\\anaconda3\\lib\\site-packages (from flask-restx) (6.5.2)\n",
            "Requirement already satisfied: tensorflow-intel==2.18.0 in c:\\users\\usuario\\anaconda3\\lib\\site-packages (from tensorflow) (2.18.0)\n",
            "Requirement already satisfied: absl-py>=1.0.0 in c:\\users\\usuario\\anaconda3\\lib\\site-packages (from tensorflow-intel==2.18.0->tensorflow) (2.1.0)\n",
            "Requirement already satisfied: astunparse>=1.6.0 in c:\\users\\usuario\\anaconda3\\lib\\site-packages (from tensorflow-intel==2.18.0->tensorflow) (1.6.3)\n",
            "Requirement already satisfied: flatbuffers>=24.3.25 in c:\\users\\usuario\\anaconda3\\lib\\site-packages (from tensorflow-intel==2.18.0->tensorflow) (25.2.10)\n",
            "Requirement already satisfied: gast!=0.5.0,!=0.5.1,!=0.5.2,>=0.2.1 in c:\\users\\usuario\\anaconda3\\lib\\site-packages (from tensorflow-intel==2.18.0->tensorflow) (0.6.0)\n",
            "Requirement already satisfied: google-pasta>=0.1.1 in c:\\users\\usuario\\anaconda3\\lib\\site-packages (from tensorflow-intel==2.18.0->tensorflow) (0.2.0)\n",
            "Requirement already satisfied: libclang>=13.0.0 in c:\\users\\usuario\\anaconda3\\lib\\site-packages (from tensorflow-intel==2.18.0->tensorflow) (18.1.1)\n",
            "Requirement already satisfied: opt-einsum>=2.3.2 in c:\\users\\usuario\\anaconda3\\lib\\site-packages (from tensorflow-intel==2.18.0->tensorflow) (3.4.0)\n",
            "Requirement already satisfied: packaging in c:\\users\\usuario\\anaconda3\\lib\\site-packages (from tensorflow-intel==2.18.0->tensorflow) (24.1)\n",
            "Requirement already satisfied: protobuf!=4.21.0,!=4.21.1,!=4.21.2,!=4.21.3,!=4.21.4,!=4.21.5,<6.0.0dev,>=3.20.3 in c:\\users\\usuario\\anaconda3\\lib\\site-packages (from tensorflow-intel==2.18.0->tensorflow) (4.25.3)\n",
            "Requirement already satisfied: requests<3,>=2.21.0 in c:\\users\\usuario\\anaconda3\\lib\\site-packages (from tensorflow-intel==2.18.0->tensorflow) (2.32.3)\n",
            "Requirement already satisfied: setuptools in c:\\users\\usuario\\anaconda3\\lib\\site-packages (from tensorflow-intel==2.18.0->tensorflow) (75.1.0)\n",
            "Requirement already satisfied: six>=1.12.0 in c:\\users\\usuario\\anaconda3\\lib\\site-packages (from tensorflow-intel==2.18.0->tensorflow) (1.16.0)\n",
            "Requirement already satisfied: termcolor>=1.1.0 in c:\\users\\usuario\\anaconda3\\lib\\site-packages (from tensorflow-intel==2.18.0->tensorflow) (2.5.0)\n",
            "Requirement already satisfied: typing-extensions>=3.6.6 in c:\\users\\usuario\\anaconda3\\lib\\site-packages (from tensorflow-intel==2.18.0->tensorflow) (4.11.0)\n",
            "Requirement already satisfied: wrapt>=1.11.0 in c:\\users\\usuario\\anaconda3\\lib\\site-packages (from tensorflow-intel==2.18.0->tensorflow) (1.14.1)\n",
            "Requirement already satisfied: grpcio<2.0,>=1.24.3 in c:\\users\\usuario\\anaconda3\\lib\\site-packages (from tensorflow-intel==2.18.0->tensorflow) (1.70.0)\n",
            "Requirement already satisfied: tensorboard<2.19,>=2.18 in c:\\users\\usuario\\anaconda3\\lib\\site-packages (from tensorflow-intel==2.18.0->tensorflow) (2.18.0)\n",
            "Requirement already satisfied: keras>=3.5.0 in c:\\users\\usuario\\anaconda3\\lib\\site-packages (from tensorflow-intel==2.18.0->tensorflow) (3.8.0)\n",
            "Requirement already satisfied: h5py>=3.11.0 in c:\\users\\usuario\\anaconda3\\lib\\site-packages (from tensorflow-intel==2.18.0->tensorflow) (3.11.0)\n",
            "Requirement already satisfied: ml-dtypes<0.5.0,>=0.4.0 in c:\\users\\usuario\\anaconda3\\lib\\site-packages (from tensorflow-intel==2.18.0->tensorflow) (0.4.1)\n",
            "Requirement already satisfied: colorama in c:\\users\\usuario\\anaconda3\\lib\\site-packages (from click>=8.1.3->flask) (0.4.6)\n",
            "Requirement already satisfied: MarkupSafe>=2.0 in c:\\users\\usuario\\anaconda3\\lib\\site-packages (from Jinja2>=3.1.2->flask) (2.1.3)\n",
            "Requirement already satisfied: attrs>=22.2.0 in c:\\users\\usuario\\anaconda3\\lib\\site-packages (from jsonschema->flask-restx) (25.1.0)\n",
            "Requirement already satisfied: jsonschema-specifications>=2023.03.6 in c:\\users\\usuario\\anaconda3\\lib\\site-packages (from jsonschema->flask-restx) (2023.7.1)\n",
            "Requirement already satisfied: referencing>=0.28.4 in c:\\users\\usuario\\anaconda3\\lib\\site-packages (from jsonschema->flask-restx) (0.30.2)\n",
            "Requirement already satisfied: rpds-py>=0.7.1 in c:\\users\\usuario\\anaconda3\\lib\\site-packages (from jsonschema->flask-restx) (0.10.6)\n",
            "Requirement already satisfied: wheel<1.0,>=0.23.0 in c:\\users\\usuario\\anaconda3\\lib\\site-packages (from astunparse>=1.6.0->tensorflow-intel==2.18.0->tensorflow) (0.44.0)\n",
            "Requirement already satisfied: rich in c:\\users\\usuario\\anaconda3\\lib\\site-packages (from keras>=3.5.0->tensorflow-intel==2.18.0->tensorflow) (13.7.1)\n",
            "Requirement already satisfied: namex in c:\\users\\usuario\\anaconda3\\lib\\site-packages (from keras>=3.5.0->tensorflow-intel==2.18.0->tensorflow) (0.0.8)\n",
            "Requirement already satisfied: optree in c:\\users\\usuario\\anaconda3\\lib\\site-packages (from keras>=3.5.0->tensorflow-intel==2.18.0->tensorflow) (0.14.1)\n",
            "Requirement already satisfied: charset-normalizer<4,>=2 in c:\\users\\usuario\\anaconda3\\lib\\site-packages (from requests<3,>=2.21.0->tensorflow-intel==2.18.0->tensorflow) (3.3.2)\n",
            "Requirement already satisfied: idna<4,>=2.5 in c:\\users\\usuario\\anaconda3\\lib\\site-packages (from requests<3,>=2.21.0->tensorflow-intel==2.18.0->tensorflow) (3.7)\n",
            "Requirement already satisfied: urllib3<3,>=1.21.1 in c:\\users\\usuario\\anaconda3\\lib\\site-packages (from requests<3,>=2.21.0->tensorflow-intel==2.18.0->tensorflow) (2.2.3)\n",
            "Requirement already satisfied: certifi>=2017.4.17 in c:\\users\\usuario\\anaconda3\\lib\\site-packages (from requests<3,>=2.21.0->tensorflow-intel==2.18.0->tensorflow) (2025.1.31)\n",
            "Requirement already satisfied: markdown>=2.6.8 in c:\\users\\usuario\\anaconda3\\lib\\site-packages (from tensorboard<2.19,>=2.18->tensorflow-intel==2.18.0->tensorflow) (3.4.1)\n",
            "Requirement already satisfied: tensorboard-data-server<0.8.0,>=0.7.0 in c:\\users\\usuario\\anaconda3\\lib\\site-packages (from tensorboard<2.19,>=2.18->tensorflow-intel==2.18.0->tensorflow) (0.7.2)\n",
            "Requirement already satisfied: markdown-it-py>=2.2.0 in c:\\users\\usuario\\anaconda3\\lib\\site-packages (from rich->keras>=3.5.0->tensorflow-intel==2.18.0->tensorflow) (2.2.0)\n",
            "Requirement already satisfied: pygments<3.0.0,>=2.13.0 in c:\\users\\usuario\\anaconda3\\lib\\site-packages (from rich->keras>=3.5.0->tensorflow-intel==2.18.0->tensorflow) (2.15.1)\n",
            "Requirement already satisfied: mdurl~=0.1 in c:\\users\\usuario\\anaconda3\\lib\\site-packages (from markdown-it-py>=2.2.0->rich->keras>=3.5.0->tensorflow-intel==2.18.0->tensorflow) (0.1.0)\n",
            "Note: you may need to restart the kernel to use updated packages.\n"
          ]
        }
      ],
      "source": [
        "#pip install flask flask-restx tensorflow numpy flask-cors"
      ]
    },
    {
      "cell_type": "code",
      "execution_count": 44,
      "metadata": {
        "id": "6JJw08bBG3tA"
      },
      "outputs": [
        {
          "name": "stdout",
          "output_type": "stream",
          "text": [
            "✅ Model Loaded Successfully!\n",
            " * Serving Flask app '__main__'\n",
            " * Debug mode: on\n"
          ]
        },
        {
          "name": "stderr",
          "output_type": "stream",
          "text": [
            "WARNING: This is a development server. Do not use it in a production deployment. Use a production WSGI server instead.\n",
            " * Running on all addresses (0.0.0.0)\n",
            " * Running on http://127.0.0.1:5000\n",
            " * Running on http://192.168.10.3:5000\n",
            "Press CTRL+C to quit\n",
            "192.168.10.3 - - [15/Mar/2025 19:16:36] \"GET / HTTP/1.1\" 200 -\n",
            "192.168.10.3 - - [15/Mar/2025 19:16:36] \"GET /swaggerui/droid-sans.css HTTP/1.1\" 304 -\n",
            "192.168.10.3 - - [15/Mar/2025 19:16:36] \"GET /swaggerui/swagger-ui.css HTTP/1.1\" 304 -\n",
            "192.168.10.3 - - [15/Mar/2025 19:16:36] \"GET /swaggerui/swagger-ui-bundle.js HTTP/1.1\" 304 -\n",
            "192.168.10.3 - - [15/Mar/2025 19:16:36] \"GET /swaggerui/swagger-ui-standalone-preset.js HTTP/1.1\" 304 -\n",
            "192.168.10.3 - - [15/Mar/2025 19:16:37] \"GET /swagger.json HTTP/1.1\" 200 -\n",
            "127.0.0.1 - - [15/Mar/2025 19:17:10] \"GET /predict/?URL=http://safe.com;http://malicious.com HTTP/1.1\" 400 -\n",
            "127.0.0.1 - - [15/Mar/2025 19:17:11] \"GET /favicon.ico HTTP/1.1\" 404 -\n"
          ]
        }
      ],
      "source": [
        "from flask import Flask, request, jsonify\n",
        "from flask_restx import Api, Resource, reqparse, fields\n",
        "from tensorflow.keras.models import load_model\n",
        "import numpy as np\n",
        "from flask_cors import CORS  # Enable CORS if needed\n",
        "\n",
        "# Initialize Flask app\n",
        "app = Flask(__name__)\n",
        "CORS(app)  # Allow cross-origin requests\n",
        "api = Api(\n",
        "    app,\n",
        "    version=\"1.0\",\n",
        "    title=\"Car Price Prediction API\",\n",
        "    description=\"API to predict car prices based on input features\"\n",
        ")\n",
        "\n",
        "# Load Model\n",
        "try:\n",
        "    model = load_model(\"car_price_model_ANN.keras\")\n",
        "    print(\"✅ Model Loaded Successfully!\")\n",
        "except Exception as e:\n",
        "    print(f\"❌ Error loading model: {str(e)}\")\n",
        "\n",
        "# Define Namespace\n",
        "ns = api.namespace(\"predict\", description=\"Car Price Predictor\")\n",
        "\n",
        "# Define Input Parser\n",
        "parser = reqparse.RequestParser()\n",
        "parser.add_argument(\n",
        "    \"features\",\n",
        "    type=str,\n",
        "    required=True,\n",
        "    help=\"Comma-separated list of input features for prediction\",\n",
        "    location=\"args\"\n",
        ")\n",
        "\n",
        "# Define Response Model\n",
        "resource_fields = api.model(\"Prediction\", {\n",
        "    \"prediction\": fields.Float,\n",
        "})\n",
        "\n",
        "# API Endpoint\n",
        "@ns.route(\"/\")\n",
        "class CarPriceAPI(Resource):\n",
        "\n",
        "    @api.doc(parser=parser)\n",
        "    @api.marshal_with(resource_fields)\n",
        "    def get(self):\n",
        "        args = parser.parse_args()\n",
        "        \n",
        "        try:\n",
        "            # Parse input features\n",
        "            features = list(map(float, args[\"features\"].split(\",\")))  # Convert string to list of floats\n",
        "            features_array = np.array(features).reshape(1, -1)  # Reshape for model\n",
        "\n",
        "            # Make prediction\n",
        "            prediction = model.predict(features_array)[0][0]  # Extract single prediction value\n",
        "            \n",
        "            return {\"prediction\": prediction}, 200\n",
        "\n",
        "        except Exception as e:\n",
        "            return {\"error\": str(e)}, 400\n",
        "\n",
        "# Run API\n",
        "if __name__ == \"__main__\":\n",
        "    app.run(debug=True, use_reloader=False, host=\"0.0.0.0\", port=5000)\n"
      ]
    },
    {
      "attachments": {
        "image.png": {
          "image/png": "[encoded data removed]"
        }
      },
      "cell_type": "markdown",
      "metadata": {},
      "source": [
        "![image.png](attachment:image.png)"
      ]
    },
    {
      "cell_type": "code",
      "execution_count": null,
      "metadata": {
        "id": "12whff-PG3qt"
      },
      "outputs": [],
      "source": [
        "python app.py\n"
      ]
    }
  ],
  "metadata": {
    "accelerator": "GPU",
    "colab": {
      "gpuType": "T4",
      "provenance": []
    },
    "kernelspec": {
      "display_name": "base",
      "language": "python",
      "name": "python3"
    },
    "language_info": {
      "codemirror_mode": {
        "name": "ipython",
        "version": 3
      },
      "file_extension": ".py",
      "mimetype": "text/x-python",
      "name": "python",
      "nbconvert_exporter": "python",
      "pygments_lexer": "ipython3",
      "version": "3.12.3"
    }
  },
  "nbformat": 4,
  "nbformat_minor": 0
}
