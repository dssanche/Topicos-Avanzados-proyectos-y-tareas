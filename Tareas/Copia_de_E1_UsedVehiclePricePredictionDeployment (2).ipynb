{
  "cells": [
    {
      "cell_type": "markdown",
      "metadata": {
        "id": "sxFxQIOfeK4F"
      },
      "source": [
        "\n",
        "# E1 - Model Deployment in Used Vehicle Price Prediction"
      ]
    },
    {
      "cell_type": "markdown",
      "metadata": {
        "id": "sJ9F7SjKeK4G"
      },
      "source": [
        "## Introduction\n",
        "\n",
        "- 1.2 Million listings scraped from TrueCar.com - Price, Mileage, Make, Model dataset from Kaggle: [data](https://www.kaggle.com/jpayne/852k-used-car-listings)\n",
        "- Each observation represents the price of an used car"
      ]
    },
    {
      "cell_type": "code",
      "execution_count": null,
      "metadata": {
        "id": "xbFTQNlbeK4H"
      },
      "outputs": [],
      "source": [
        "%matplotlib inline\n",
        "import pandas as pd"
      ]
    },
    {
      "cell_type": "code",
      "execution_count": null,
      "metadata": {
        "id": "G8n9pb2JeK4I"
      },
      "outputs": [],
      "source": [
        "data = pd.read_csv('https://github.com/sergiomora03/AdvancedTopicsAnalytics/raw/main/datasets/dataTrain_carListings.zip')"
      ]
    },
    {
      "cell_type": "code",
      "execution_count": null,
      "metadata": {
        "colab": {
          "base_uri": "https://localhost:8080/",
          "height": 206
        },
        "id": "7DKvXgDmeK4J",
        "outputId": "4c4f26c5-e203-4c2e-ebbb-a0936ffb1358"
      },
      "outputs": [
        {
          "output_type": "execute_result",
          "data": {
            "text/plain": [
              "   Price  Year  Mileage State       Make        Model\n",
              "0  21490  2014    31909    MD     Nissan    MuranoAWD\n",
              "1  21250  2016    25741    KY  Chevrolet  CamaroCoupe\n",
              "2  20925  2016    24633    SC    Hyundai        Santa\n",
              "3  14500  2012    84026    OK       Jeep        Grand\n",
              "4  32488  2013    22816    TN       Jeep     Wrangler"
            ],
            "text/html": [
              "\n",
              "  <div id=\"df-b244bd2e-e9aa-4b4e-9c5c-ed69d8d341a4\" class=\"colab-df-container\">\n",
              "    <div>\n",
              "<style scoped>\n",
              "    .dataframe tbody tr th:only-of-type {\n",
              "        vertical-align: middle;\n",
              "    }\n",
              "\n",
              "    .dataframe tbody tr th {\n",
              "        vertical-align: top;\n",
              "    }\n",
              "\n",
              "    .dataframe thead th {\n",
              "        text-align: right;\n",
              "    }\n",
              "</style>\n",
              "<table border=\"1\" class=\"dataframe\">\n",
              "  <thead>\n",
              "    <tr style=\"text-align: right;\">\n",
              "      <th></th>\n",
              "      <th>Price</th>\n",
              "      <th>Year</th>\n",
              "      <th>Mileage</th>\n",
              "      <th>State</th>\n",
              "      <th>Make</th>\n",
              "      <th>Model</th>\n",
              "    </tr>\n",
              "  </thead>\n",
              "  <tbody>\n",
              "    <tr>\n",
              "      <th>0</th>\n",
              "      <td>21490</td>\n",
              "      <td>2014</td>\n",
              "      <td>31909</td>\n",
              "      <td>MD</td>\n",
              "      <td>Nissan</td>\n",
              "      <td>MuranoAWD</td>\n",
              "    </tr>\n",
              "    <tr>\n",
              "      <th>1</th>\n",
              "      <td>21250</td>\n",
              "      <td>2016</td>\n",
              "      <td>25741</td>\n",
              "      <td>KY</td>\n",
              "      <td>Chevrolet</td>\n",
              "      <td>CamaroCoupe</td>\n",
              "    </tr>\n",
              "    <tr>\n",
              "      <th>2</th>\n",
              "      <td>20925</td>\n",
              "      <td>2016</td>\n",
              "      <td>24633</td>\n",
              "      <td>SC</td>\n",
              "      <td>Hyundai</td>\n",
              "      <td>Santa</td>\n",
              "    </tr>\n",
              "    <tr>\n",
              "      <th>3</th>\n",
              "      <td>14500</td>\n",
              "      <td>2012</td>\n",
              "      <td>84026</td>\n",
              "      <td>OK</td>\n",
              "      <td>Jeep</td>\n",
              "      <td>Grand</td>\n",
              "    </tr>\n",
              "    <tr>\n",
              "      <th>4</th>\n",
              "      <td>32488</td>\n",
              "      <td>2013</td>\n",
              "      <td>22816</td>\n",
              "      <td>TN</td>\n",
              "      <td>Jeep</td>\n",
              "      <td>Wrangler</td>\n",
              "    </tr>\n",
              "  </tbody>\n",
              "</table>\n",
              "</div>\n",
              "    <div class=\"colab-df-buttons\">\n",
              "\n",
              "  <div class=\"colab-df-container\">\n",
              "    <button class=\"colab-df-convert\" onclick=\"convertToInteractive('df-b244bd2e-e9aa-4b4e-9c5c-ed69d8d341a4')\"\n",
              "            title=\"Convert this dataframe to an interactive table.\"\n",
              "            style=\"display:none;\">\n",
              "\n",
              "  <svg xmlns=\"http://www.w3.org/2000/svg\" height=\"24px\" viewBox=\"0 -960 960 960\">\n",
              "    <path d=\"M120-120v-720h720v720H120Zm60-500h600v-160H180v160Zm220 220h160v-160H400v160Zm0 220h160v-160H400v160ZM180-400h160v-160H180v160Zm440 0h160v-160H620v160ZM180-180h160v-160H180v160Zm440 0h160v-160H620v160Z\"/>\n",
              "  </svg>\n",
              "    </button>\n",
              "\n",
              "  <style>\n",
              "    .colab-df-container {\n",
              "      display:flex;\n",
              "      gap: 12px;\n",
              "    }\n",
              "\n",
              "    .colab-df-convert {\n",
              "      background-color: #E8F0FE;\n",
              "      border: none;\n",
              "      border-radius: 50%;\n",
              "      cursor: pointer;\n",
              "      display: none;\n",
              "      fill: #1967D2;\n",
              "      height: 32px;\n",
              "      padding: 0 0 0 0;\n",
              "      width: 32px;\n",
              "    }\n",
              "\n",
              "    .colab-df-convert:hover {\n",
              "      background-color: #E2EBFA;\n",
              "      box-shadow: 0px 1px 2px rgba(60, 64, 67, 0.3), 0px 1px 3px 1px rgba(60, 64, 67, 0.15);\n",
              "      fill: #174EA6;\n",
              "    }\n",
              "\n",
              "    .colab-df-buttons div {\n",
              "      margin-bottom: 4px;\n",
              "    }\n",
              "\n",
              "    [theme=dark] .colab-df-convert {\n",
              "      background-color: #3B4455;\n",
              "      fill: #D2E3FC;\n",
              "    }\n",
              "\n",
              "    [theme=dark] .colab-df-convert:hover {\n",
              "      background-color: #434B5C;\n",
              "      box-shadow: 0px 1px 3px 1px rgba(0, 0, 0, 0.15);\n",
              "      filter: drop-shadow(0px 1px 2px rgba(0, 0, 0, 0.3));\n",
              "      fill: #FFFFFF;\n",
              "    }\n",
              "  </style>\n",
              "\n",
              "    <script>\n",
              "      const buttonEl =\n",
              "        document.querySelector('#df-b244bd2e-e9aa-4b4e-9c5c-ed69d8d341a4 button.colab-df-convert');\n",
              "      buttonEl.style.display =\n",
              "        google.colab.kernel.accessAllowed ? 'block' : 'none';\n",
              "\n",
              "      async function convertToInteractive(key) {\n",
              "        const element = document.querySelector('#df-b244bd2e-e9aa-4b4e-9c5c-ed69d8d341a4');\n",
              "        const dataTable =\n",
              "          await google.colab.kernel.invokeFunction('convertToInteractive',\n",
              "                                                    [key], {});\n",
              "        if (!dataTable) return;\n",
              "\n",
              "        const docLinkHtml = 'Like what you see? Visit the ' +\n",
              "          '<a target=\"_blank\" href=https://colab.research.google.com/notebooks/data_table.ipynb>data table notebook</a>'\n",
              "          + ' to learn more about interactive tables.';\n",
              "        element.innerHTML = '';\n",
              "        dataTable['output_type'] = 'display_data';\n",
              "        await google.colab.output.renderOutput(dataTable, element);\n",
              "        const docLink = document.createElement('div');\n",
              "        docLink.innerHTML = docLinkHtml;\n",
              "        element.appendChild(docLink);\n",
              "      }\n",
              "    </script>\n",
              "  </div>\n",
              "\n",
              "\n",
              "<div id=\"df-322b5c0b-073c-4587-add3-730fe069636b\">\n",
              "  <button class=\"colab-df-quickchart\" onclick=\"quickchart('df-322b5c0b-073c-4587-add3-730fe069636b')\"\n",
              "            title=\"Suggest charts\"\n",
              "            style=\"display:none;\">\n",
              "\n",
              "<svg xmlns=\"http://www.w3.org/2000/svg\" height=\"24px\"viewBox=\"0 0 24 24\"\n",
              "     width=\"24px\">\n",
              "    <g>\n",
              "        <path d=\"M19 3H5c-1.1 0-2 .9-2 2v14c0 1.1.9 2 2 2h14c1.1 0 2-.9 2-2V5c0-1.1-.9-2-2-2zM9 17H7v-7h2v7zm4 0h-2V7h2v10zm4 0h-2v-4h2v4z\"/>\n",
              "    </g>\n",
              "</svg>\n",
              "  </button>\n",
              "\n",
              "<style>\n",
              "  .colab-df-quickchart {\n",
              "      --bg-color: #E8F0FE;\n",
              "      --fill-color: #1967D2;\n",
              "      --hover-bg-color: #E2EBFA;\n",
              "      --hover-fill-color: #174EA6;\n",
              "      --disabled-fill-color: #AAA;\n",
              "      --disabled-bg-color: #DDD;\n",
              "  }\n",
              "\n",
              "  [theme=dark] .colab-df-quickchart {\n",
              "      --bg-color: #3B4455;\n",
              "      --fill-color: #D2E3FC;\n",
              "      --hover-bg-color: #434B5C;\n",
              "      --hover-fill-color: #FFFFFF;\n",
              "      --disabled-bg-color: #3B4455;\n",
              "      --disabled-fill-color: #666;\n",
              "  }\n",
              "\n",
              "  .colab-df-quickchart {\n",
              "    background-color: var(--bg-color);\n",
              "    border: none;\n",
              "    border-radius: 50%;\n",
              "    cursor: pointer;\n",
              "    display: none;\n",
              "    fill: var(--fill-color);\n",
              "    height: 32px;\n",
              "    padding: 0;\n",
              "    width: 32px;\n",
              "  }\n",
              "\n",
              "  .colab-df-quickchart:hover {\n",
              "    background-color: var(--hover-bg-color);\n",
              "    box-shadow: 0 1px 2px rgba(60, 64, 67, 0.3), 0 1px 3px 1px rgba(60, 64, 67, 0.15);\n",
              "    fill: var(--button-hover-fill-color);\n",
              "  }\n",
              "\n",
              "  .colab-df-quickchart-complete:disabled,\n",
              "  .colab-df-quickchart-complete:disabled:hover {\n",
              "    background-color: var(--disabled-bg-color);\n",
              "    fill: var(--disabled-fill-color);\n",
              "    box-shadow: none;\n",
              "  }\n",
              "\n",
              "  .colab-df-spinner {\n",
              "    border: 2px solid var(--fill-color);\n",
              "    border-color: transparent;\n",
              "    border-bottom-color: var(--fill-color);\n",
              "    animation:\n",
              "      spin 1s steps(1) infinite;\n",
              "  }\n",
              "\n",
              "  @keyframes spin {\n",
              "    0% {\n",
              "      border-color: transparent;\n",
              "      border-bottom-color: var(--fill-color);\n",
              "      border-left-color: var(--fill-color);\n",
              "    }\n",
              "    20% {\n",
              "      border-color: transparent;\n",
              "      border-left-color: var(--fill-color);\n",
              "      border-top-color: var(--fill-color);\n",
              "    }\n",
              "    30% {\n",
              "      border-color: transparent;\n",
              "      border-left-color: var(--fill-color);\n",
              "      border-top-color: var(--fill-color);\n",
              "      border-right-color: var(--fill-color);\n",
              "    }\n",
              "    40% {\n",
              "      border-color: transparent;\n",
              "      border-right-color: var(--fill-color);\n",
              "      border-top-color: var(--fill-color);\n",
              "    }\n",
              "    60% {\n",
              "      border-color: transparent;\n",
              "      border-right-color: var(--fill-color);\n",
              "    }\n",
              "    80% {\n",
              "      border-color: transparent;\n",
              "      border-right-color: var(--fill-color);\n",
              "      border-bottom-color: var(--fill-color);\n",
              "    }\n",
              "    90% {\n",
              "      border-color: transparent;\n",
              "      border-bottom-color: var(--fill-color);\n",
              "    }\n",
              "  }\n",
              "</style>\n",
              "\n",
              "  <script>\n",
              "    async function quickchart(key) {\n",
              "      const quickchartButtonEl =\n",
              "        document.querySelector('#' + key + ' button');\n",
              "      quickchartButtonEl.disabled = true;  // To prevent multiple clicks.\n",
              "      quickchartButtonEl.classList.add('colab-df-spinner');\n",
              "      try {\n",
              "        const charts = await google.colab.kernel.invokeFunction(\n",
              "            'suggestCharts', [key], {});\n",
              "      } catch (error) {\n",
              "        console.error('Error during call to suggestCharts:', error);\n",
              "      }\n",
              "      quickchartButtonEl.classList.remove('colab-df-spinner');\n",
              "      quickchartButtonEl.classList.add('colab-df-quickchart-complete');\n",
              "    }\n",
              "    (() => {\n",
              "      let quickchartButtonEl =\n",
              "        document.querySelector('#df-322b5c0b-073c-4587-add3-730fe069636b button');\n",
              "      quickchartButtonEl.style.display =\n",
              "        google.colab.kernel.accessAllowed ? 'block' : 'none';\n",
              "    })();\n",
              "  </script>\n",
              "</div>\n",
              "\n",
              "    </div>\n",
              "  </div>\n"
            ],
            "application/vnd.google.colaboratory.intrinsic+json": {
              "type": "dataframe",
              "variable_name": "data"
            }
          },
          "metadata": {},
          "execution_count": 3
        }
      ],
      "source": [
        "data.head()"
      ]
    },
    {
      "cell_type": "code",
      "execution_count": null,
      "metadata": {
        "colab": {
          "base_uri": "https://localhost:8080/"
        },
        "id": "_aoPSO3KeK4J",
        "outputId": "dea93090-7986-4884-8482-17b1b82fdff2"
      },
      "outputs": [
        {
          "output_type": "execute_result",
          "data": {
            "text/plain": [
              "(500000, 6)"
            ]
          },
          "metadata": {},
          "execution_count": 4
        }
      ],
      "source": [
        "data.shape"
      ]
    },
    {
      "cell_type": "code",
      "execution_count": null,
      "metadata": {
        "colab": {
          "base_uri": "https://localhost:8080/"
        },
        "id": "5DZ-QvJLeK4L",
        "outputId": "5119e217-07b6-4df6-fb4d-2ba443307676"
      },
      "outputs": [
        {
          "output_type": "execute_result",
          "data": {
            "text/plain": [
              "Index(['Price', 'Year', 'Mileage', 'State', 'Make', 'Model'], dtype='object')"
            ]
          },
          "metadata": {},
          "execution_count": 5
        }
      ],
      "source": [
        "data.columns"
      ]
    },
    {
      "cell_type": "code",
      "execution_count": null,
      "metadata": {
        "id": "riE3diQSC_Mp",
        "colab": {
          "base_uri": "https://localhost:8080/",
          "height": 272
        },
        "outputId": "97da1216-7c44-4763-d4d3-2e909b37d5b7"
      },
      "outputs": [
        {
          "output_type": "execute_result",
          "data": {
            "text/plain": [
              "Price       int64\n",
              "Year        int64\n",
              "Mileage     int64\n",
              "State      object\n",
              "Make       object\n",
              "Model      object\n",
              "dtype: object"
            ],
            "text/html": [
              "<div>\n",
              "<style scoped>\n",
              "    .dataframe tbody tr th:only-of-type {\n",
              "        vertical-align: middle;\n",
              "    }\n",
              "\n",
              "    .dataframe tbody tr th {\n",
              "        vertical-align: top;\n",
              "    }\n",
              "\n",
              "    .dataframe thead th {\n",
              "        text-align: right;\n",
              "    }\n",
              "</style>\n",
              "<table border=\"1\" class=\"dataframe\">\n",
              "  <thead>\n",
              "    <tr style=\"text-align: right;\">\n",
              "      <th></th>\n",
              "      <th>0</th>\n",
              "    </tr>\n",
              "  </thead>\n",
              "  <tbody>\n",
              "    <tr>\n",
              "      <th>Price</th>\n",
              "      <td>int64</td>\n",
              "    </tr>\n",
              "    <tr>\n",
              "      <th>Year</th>\n",
              "      <td>int64</td>\n",
              "    </tr>\n",
              "    <tr>\n",
              "      <th>Mileage</th>\n",
              "      <td>int64</td>\n",
              "    </tr>\n",
              "    <tr>\n",
              "      <th>State</th>\n",
              "      <td>object</td>\n",
              "    </tr>\n",
              "    <tr>\n",
              "      <th>Make</th>\n",
              "      <td>object</td>\n",
              "    </tr>\n",
              "    <tr>\n",
              "      <th>Model</th>\n",
              "      <td>object</td>\n",
              "    </tr>\n",
              "  </tbody>\n",
              "</table>\n",
              "</div><br><label><b>dtype:</b> object</label>"
            ]
          },
          "metadata": {},
          "execution_count": 6
        }
      ],
      "source": [
        "data.dtypes"
      ]
    },
    {
      "cell_type": "code",
      "source": [
        "data.dtypes"
      ],
      "metadata": {
        "colab": {
          "base_uri": "https://localhost:8080/",
          "height": 272
        },
        "id": "czSt2YNpPI0C",
        "outputId": "dc80778d-b312-4f7d-aa7e-5395b8d50667"
      },
      "execution_count": null,
      "outputs": [
        {
          "output_type": "execute_result",
          "data": {
            "text/plain": [
              "Price       int64\n",
              "Year        int64\n",
              "Mileage     int64\n",
              "State      object\n",
              "Make       object\n",
              "Model      object\n",
              "dtype: object"
            ],
            "text/html": [
              "<div>\n",
              "<style scoped>\n",
              "    .dataframe tbody tr th:only-of-type {\n",
              "        vertical-align: middle;\n",
              "    }\n",
              "\n",
              "    .dataframe tbody tr th {\n",
              "        vertical-align: top;\n",
              "    }\n",
              "\n",
              "    .dataframe thead th {\n",
              "        text-align: right;\n",
              "    }\n",
              "</style>\n",
              "<table border=\"1\" class=\"dataframe\">\n",
              "  <thead>\n",
              "    <tr style=\"text-align: right;\">\n",
              "      <th></th>\n",
              "      <th>0</th>\n",
              "    </tr>\n",
              "  </thead>\n",
              "  <tbody>\n",
              "    <tr>\n",
              "      <th>Price</th>\n",
              "      <td>int64</td>\n",
              "    </tr>\n",
              "    <tr>\n",
              "      <th>Year</th>\n",
              "      <td>int64</td>\n",
              "    </tr>\n",
              "    <tr>\n",
              "      <th>Mileage</th>\n",
              "      <td>int64</td>\n",
              "    </tr>\n",
              "    <tr>\n",
              "      <th>State</th>\n",
              "      <td>object</td>\n",
              "    </tr>\n",
              "    <tr>\n",
              "      <th>Make</th>\n",
              "      <td>object</td>\n",
              "    </tr>\n",
              "    <tr>\n",
              "      <th>Model</th>\n",
              "      <td>object</td>\n",
              "    </tr>\n",
              "  </tbody>\n",
              "</table>\n",
              "</div><br><label><b>dtype:</b> object</label>"
            ]
          },
          "metadata": {},
          "execution_count": 7
        }
      ]
    },
    {
      "cell_type": "code",
      "source": [
        "data.dtypes"
      ],
      "metadata": {
        "colab": {
          "base_uri": "https://localhost:8080/",
          "height": 272
        },
        "id": "KhU_UvjUV1Su",
        "outputId": "5c7ccc67-8564-4c10-ecb0-944936a28345"
      },
      "execution_count": null,
      "outputs": [
        {
          "output_type": "execute_result",
          "data": {
            "text/plain": [
              "Price       int64\n",
              "Year        int64\n",
              "Mileage     int64\n",
              "State      object\n",
              "Make       object\n",
              "Model      object\n",
              "dtype: object"
            ],
            "text/html": [
              "<div>\n",
              "<style scoped>\n",
              "    .dataframe tbody tr th:only-of-type {\n",
              "        vertical-align: middle;\n",
              "    }\n",
              "\n",
              "    .dataframe tbody tr th {\n",
              "        vertical-align: top;\n",
              "    }\n",
              "\n",
              "    .dataframe thead th {\n",
              "        text-align: right;\n",
              "    }\n",
              "</style>\n",
              "<table border=\"1\" class=\"dataframe\">\n",
              "  <thead>\n",
              "    <tr style=\"text-align: right;\">\n",
              "      <th></th>\n",
              "      <th>0</th>\n",
              "    </tr>\n",
              "  </thead>\n",
              "  <tbody>\n",
              "    <tr>\n",
              "      <th>Price</th>\n",
              "      <td>int64</td>\n",
              "    </tr>\n",
              "    <tr>\n",
              "      <th>Year</th>\n",
              "      <td>int64</td>\n",
              "    </tr>\n",
              "    <tr>\n",
              "      <th>Mileage</th>\n",
              "      <td>int64</td>\n",
              "    </tr>\n",
              "    <tr>\n",
              "      <th>State</th>\n",
              "      <td>object</td>\n",
              "    </tr>\n",
              "    <tr>\n",
              "      <th>Make</th>\n",
              "      <td>object</td>\n",
              "    </tr>\n",
              "    <tr>\n",
              "      <th>Model</th>\n",
              "      <td>object</td>\n",
              "    </tr>\n",
              "  </tbody>\n",
              "</table>\n",
              "</div><br><label><b>dtype:</b> object</label>"
            ]
          },
          "metadata": {},
          "execution_count": 8
        }
      ]
    },
    {
      "cell_type": "markdown",
      "metadata": {
        "id": "7iz8pi7CeK4M"
      },
      "source": [
        "# Exercise P0.1 (50%)-LEONARDO\n",
        "\n",
        "Develop a machine learning model that predicts the price of the of car using as an input ['Year', 'Mileage', 'State', 'Make', 'Model']\n",
        "\n",
        "#### Evaluation:\n",
        "- 25% - Performance of the models using a manually implemented K-Fold (K=10) cross-validation\n",
        "- 25% - Notebook explaining the process for selecting the best model. You must specify how the calibration of each of the parameters is done and how these change the performance of the model. It is expected that a clear comparison will be made of all implemented models.. Present the most relevant conslusions about the whole process.\n"
      ]
    },
    {
      "cell_type": "markdown",
      "source": [
        "**ANSWER**"
      ],
      "metadata": {
        "id": "mIkPEnqC-jou"
      }
    },
    {
      "cell_type": "markdown",
      "metadata": {
        "id": "rnLdAQGRX8fo"
      },
      "source": [
        "We start by importing the libraries needed to develop the model."
      ]
    },
    {
      "cell_type": "code",
      "source": [
        "import pandas as pd\n",
        "from sklearn.model_selection import KFold\n",
        "from sklearn.linear_model import LinearRegression  # Example model\n",
        "from sklearn.metrics import mean_squared_error  # Example metric\n",
        "from sklearn.metrics import mean_absolute_percentage_error\n",
        "import numpy as np\n",
        "from sklearn.metrics import mean_absolute_percentage_error\n",
        "import xgboost as xgb\n",
        "from sklearn.preprocessing import OneHotEncoder  # Import OneHotEncoder\n",
        "from sklearn.model_selection import train_test_split"
      ],
      "metadata": {
        "id": "uYajOYkO-ugI"
      },
      "execution_count": null,
      "outputs": []
    },
    {
      "cell_type": "markdown",
      "source": [
        "Before we develop the model we need a base line to looking for the principal variables and the best way how we can improve the model. So, we start the develop with a linear regression model looking foward the following steps:\n",
        "\n",
        "1. Data preparation (Feature Enginering is not performed in this initial model).\n",
        "2. Data splitting into training and testing.\n",
        "3. One-Hot coding for categorical variables.\n",
        "4. Model initialisation (Linear Regression).\n",
        "5. K-Fold Cross Validation (10 Folds).\n",
        "6. Calculation of model performance metrics.\n",
        "7. Final model evaluation.\n",
        "\n"
      ],
      "metadata": {
        "id": "KSwSDRbDDxLM"
      }
    },
    {
      "cell_type": "code",
      "source": [
        "#1. Data Preparation we identied the independent an dependent variables\n",
        "X = data[['Year', 'Mileage', 'State', 'Make', 'Model']]\n",
        "y = data['Price']\n",
        "\n",
        "#2. Split dataset in train and test (0.2)\n",
        "X_train, X_test, y_train, y_test = train_test_split(X, y, test_size=0.2, random_state=42)\n",
        "\n",
        "#3. For the categorical variable we implement One-Hot Encoder.\n",
        "encoder = OneHotEncoder(handle_unknown='ignore', sparse_output=False)\n",
        "\n",
        "### We adjust the encoder an transform the categories\n",
        "X_train_encoded = encoder.fit_transform(X_train[['State', 'Make', 'Model']])\n",
        "\n",
        "### After the encoder we identified the name of the principal variables\n",
        "encoded_feature_names = encoder.get_feature_names_out(['State', 'Make', 'Model'])\n",
        "\n",
        "### And crate a dataframe with the variables\n",
        "X_train_encoded_df = pd.DataFrame(X_train_encoded, columns=encoded_feature_names, index=X_train.index)\n",
        "\n",
        "### After, we concatenate the numeric variables (Year,Mileage)\n",
        "X_train_final = pd.concat([X_train[['Year', 'Mileage']], X_train_encoded_df], axis=1)\n",
        "\n",
        "#4. The Fourth step is to incializate the Linear Regression Model\n",
        "linear_model = LinearRegression()\n",
        "\n",
        "#5. Then we made a Cross Validation with K-Folds (10 folds)\n",
        "kf = KFold(n_splits=10, shuffle=True, random_state=42)\n",
        "mape_scores = []\n",
        "rmse_scores = []\n",
        "\n",
        "for train_index, val_index in kf.split(X_train_final):\n",
        "    X_train_fold, X_val_fold = X_train_final.iloc[train_index], X_train_final.iloc[val_index]\n",
        "    y_train_fold, y_val_fold = y_train.iloc[train_index], y_train.iloc[val_index]\n",
        "\n",
        "##### We Adjust the linear regression model\n",
        "    linear_model.fit(X_train_fold, y_train_fold)\n",
        "\n",
        "##### and Made the Predictions\n",
        "    y_pred = linear_model.predict(X_val_fold)\n",
        "\n",
        "# 6. Finally we calculate the performance meassure\n",
        "### calculate MAPE y RMSE\n",
        "    mape = mean_absolute_percentage_error(y_val_fold, y_pred)\n",
        "    rmse = np.sqrt(mean_squared_error(y_val_fold, y_pred))\n",
        "\n",
        "### Add pointers\n",
        "    mape_scores.append(mape)\n",
        "    rmse_scores.append(rmse)\n",
        "\n",
        "#7 And Evaluate the model\n",
        "print(f\"Promedio de MAPE en todos los folds: {np.mean(mape_scores)}\")\n",
        "print(f\"Promedio de RMSE en todos los folds: {np.mean(rmse_scores)}\")"
      ],
      "metadata": {
        "id": "HX6XlZPa79Mo",
        "colab": {
          "base_uri": "https://localhost:8080/"
        },
        "outputId": "9bbfdb98-7ee0-4dac-fc51-efcefc6b2a7d"
      },
      "execution_count": null,
      "outputs": [
        {
          "output_type": "stream",
          "name": "stdout",
          "text": [
            "Promedio de MAPE en todos los folds: 0.16444665758128174\n",
            "Promedio de RMSE en todos los folds: 4407.738310981319\n"
          ]
        }
      ]
    },
    {
      "cell_type": "markdown",
      "source": [
        "Once the model has been run with the cross validation we obtain the baseline of the model with the MAPE and RMSE metrics with values 0.1644 and 4407.73 respectively, with this baseline we will proceed to perform the corresponding Feature Engineering procedure to improve the performance metrics."
      ],
      "metadata": {
        "id": "3qgn77P3GeTu"
      }
    },
    {
      "cell_type": "markdown",
      "source": [
        "# **Data Preparation/Feature Engineering**"
      ],
      "metadata": {
        "id": "DwoJptZAXRLo"
      }
    },
    {
      "cell_type": "markdown",
      "source": [
        "Starting from the baseline and taking into account that in the exploratory phase of the data a large number of categories have been identified for the variables ‘Model’, ‘State’ and ‘Make’, a good approach to achieve a reduction of variable categories is to apply the clustering method and identify an optimal grouping strategy. In clustering, the Elbow method is applied to visually inspect the point on the graph that most optimizes the WCSS to determine the number of categories by which each variable should be reduced"
      ],
      "metadata": {
        "id": "gzgZoQeaGm3B"
      }
    },
    {
      "cell_type": "code",
      "source": [
        "import numpy as np\n",
        "import pandas as pd\n",
        "from sklearn.cluster import KMeans\n",
        "import matplotlib.pyplot as plt\n",
        "\n",
        "def find_optimal_clusters_elbow(data, feature, max_clusters=10):\n",
        "    \"\"\"Finds the optimal number of clusters for a categorical feature using the elbow method.\n",
        "\n",
        "    Args:\n",
        "        data (pd.DataFrame): The input DataFrame.\n",
        "        feature (str): The name of the categorical feature.\n",
        "        max_clusters (int, optional): The maximum number of clusters to consider. Defaults to 10.\n",
        "\n",
        "    Returns:\n",
        "        int: The optimal number of clusters.\n",
        "    \"\"\"\n",
        "\n",
        "    # 1. Encode the categorical feature (replace with your preferred encoding method)\n",
        "\n",
        "    !pip install category_encoders\n",
        "    import category_encoders as ce\n",
        "    encoder = ce.TargetEncoder(cols=[feature])\n",
        "    data_encoded = encoder.fit_transform(data[[feature]], data['Price'])\n",
        "\n",
        "\n",
        "    # 2. Calculate WCSS for different numbers of clusters\n",
        "    wcss = []\n",
        "    for k in range(1, max_clusters + 1):\n",
        "        kmeans = KMeans(n_clusters=k, random_state=42)\n",
        "        kmeans.fit(data_encoded)\n",
        "        wcss.append(kmeans.inertia_)\n",
        "\n",
        "    # 3. Find the elbow point (visually or using a more automated approach)\n",
        "\n",
        "    plt.plot(range(1, max_clusters + 1), wcss)\n",
        "    plt.title(f'Elbow Method for {feature}')\n",
        "    plt.xlabel('Number of Clusters (k)')\n",
        "    plt.ylabel('WCSS')\n",
        "    plt.show()\n",
        "\n",
        "    return #optimal_k"
      ],
      "metadata": {
        "id": "wrVBCjpfhE4M"
      },
      "execution_count": null,
      "outputs": []
    },
    {
      "cell_type": "markdown",
      "source": [
        "We apply the method for ‘Model’ variable."
      ],
      "metadata": {
        "id": "GM5m08rmLqa5"
      }
    },
    {
      "cell_type": "code",
      "source": [
        "optimal_k_model = find_optimal_clusters_elbow(data, 'Model')\n",
        "print(f\"Optimal number of clusters for Model: {optimal_k_model}\")"
      ],
      "metadata": {
        "colab": {
          "base_uri": "https://localhost:8080/",
          "height": 869
        },
        "id": "8NQ-DfxkLx3I",
        "outputId": "27d71285-6dfd-4410-9bf7-ca10ccacec9e"
      },
      "execution_count": null,
      "outputs": [
        {
          "output_type": "stream",
          "name": "stdout",
          "text": [
            "Collecting category_encoders\n",
            "  Downloading category_encoders-2.8.1-py3-none-any.whl.metadata (7.9 kB)\n",
            "Requirement already satisfied: numpy>=1.14.0 in /usr/local/lib/python3.11/dist-packages (from category_encoders) (1.26.4)\n",
            "Requirement already satisfied: pandas>=1.0.5 in /usr/local/lib/python3.11/dist-packages (from category_encoders) (2.2.2)\n",
            "Requirement already satisfied: patsy>=0.5.1 in /usr/local/lib/python3.11/dist-packages (from category_encoders) (1.0.1)\n",
            "Requirement already satisfied: scikit-learn>=1.6.0 in /usr/local/lib/python3.11/dist-packages (from category_encoders) (1.6.1)\n",
            "Requirement already satisfied: scipy>=1.0.0 in /usr/local/lib/python3.11/dist-packages (from category_encoders) (1.14.1)\n",
            "Requirement already satisfied: statsmodels>=0.9.0 in /usr/local/lib/python3.11/dist-packages (from category_encoders) (0.14.4)\n",
            "Requirement already satisfied: python-dateutil>=2.8.2 in /usr/local/lib/python3.11/dist-packages (from pandas>=1.0.5->category_encoders) (2.8.2)\n",
            "Requirement already satisfied: pytz>=2020.1 in /usr/local/lib/python3.11/dist-packages (from pandas>=1.0.5->category_encoders) (2025.1)\n",
            "Requirement already satisfied: tzdata>=2022.7 in /usr/local/lib/python3.11/dist-packages (from pandas>=1.0.5->category_encoders) (2025.1)\n",
            "Requirement already satisfied: joblib>=1.2.0 in /usr/local/lib/python3.11/dist-packages (from scikit-learn>=1.6.0->category_encoders) (1.4.2)\n",
            "Requirement already satisfied: threadpoolctl>=3.1.0 in /usr/local/lib/python3.11/dist-packages (from scikit-learn>=1.6.0->category_encoders) (3.5.0)\n",
            "Requirement already satisfied: packaging>=21.3 in /usr/local/lib/python3.11/dist-packages (from statsmodels>=0.9.0->category_encoders) (24.2)\n",
            "Requirement already satisfied: six>=1.5 in /usr/local/lib/python3.11/dist-packages (from python-dateutil>=2.8.2->pandas>=1.0.5->category_encoders) (1.17.0)\n",
            "Downloading category_encoders-2.8.1-py3-none-any.whl (85 kB)\n",
            "\u001b[?25l   \u001b[90m━━━━━━━━━━━━━━━━━━━━━━━━━━━━━━━━━━━━━━━━\u001b[0m \u001b[32m0.0/85.7 kB\u001b[0m \u001b[31m?\u001b[0m eta \u001b[36m-:--:--\u001b[0m\r\u001b[2K   \u001b[90m━━━━━━━━━━━━━━━━━━━━━━━━━━━━━━━━━━━━━━━━\u001b[0m \u001b[32m85.7/85.7 kB\u001b[0m \u001b[31m4.7 MB/s\u001b[0m eta \u001b[36m0:00:00\u001b[0m\n",
            "\u001b[?25hInstalling collected packages: category_encoders\n",
            "Successfully installed category_encoders-2.8.1\n"
          ]
        },
        {
          "output_type": "display_data",
          "data": {
            "text/plain": [
              "<Figure size 640x480 with 1 Axes>"
            ],
            "image/png": "[encoded data removed]"
          },
          "metadata": {}
        },
        {
          "output_type": "stream",
          "name": "stdout",
          "text": [
            "Optimal number of clusters for Model: None\n"
          ]
        }
      ]
    },
    {
      "cell_type": "markdown",
      "source": [
        "According to the Elbow Method, the optimal number of Categories for the **Model** Variable is **5**"
      ],
      "metadata": {
        "id": "Zl2RN7gSL8Fn"
      }
    },
    {
      "cell_type": "code",
      "source": [
        "optimal_k_model2 = find_optimal_clusters_elbow(data, 'State')\n",
        "print(f\"Optimal number of clusters for Model: {optimal_k_model2}\")"
      ],
      "metadata": {
        "colab": {
          "base_uri": "https://localhost:8080/",
          "height": 775
        },
        "id": "FfahlMUgVLLT",
        "outputId": "1e96a1dd-5454-4ac7-fd4e-bb6007f777ca"
      },
      "execution_count": null,
      "outputs": [
        {
          "output_type": "stream",
          "name": "stdout",
          "text": [
            "Requirement already satisfied: category_encoders in /usr/local/lib/python3.11/dist-packages (2.8.1)\n",
            "Requirement already satisfied: numpy>=1.14.0 in /usr/local/lib/python3.11/dist-packages (from category_encoders) (1.26.4)\n",
            "Requirement already satisfied: pandas>=1.0.5 in /usr/local/lib/python3.11/dist-packages (from category_encoders) (2.2.2)\n",
            "Requirement already satisfied: patsy>=0.5.1 in /usr/local/lib/python3.11/dist-packages (from category_encoders) (1.0.1)\n",
            "Requirement already satisfied: scikit-learn>=1.6.0 in /usr/local/lib/python3.11/dist-packages (from category_encoders) (1.6.1)\n",
            "Requirement already satisfied: scipy>=1.0.0 in /usr/local/lib/python3.11/dist-packages (from category_encoders) (1.14.1)\n",
            "Requirement already satisfied: statsmodels>=0.9.0 in /usr/local/lib/python3.11/dist-packages (from category_encoders) (0.14.4)\n",
            "Requirement already satisfied: python-dateutil>=2.8.2 in /usr/local/lib/python3.11/dist-packages (from pandas>=1.0.5->category_encoders) (2.8.2)\n",
            "Requirement already satisfied: pytz>=2020.1 in /usr/local/lib/python3.11/dist-packages (from pandas>=1.0.5->category_encoders) (2025.1)\n",
            "Requirement already satisfied: tzdata>=2022.7 in /usr/local/lib/python3.11/dist-packages (from pandas>=1.0.5->category_encoders) (2025.1)\n",
            "Requirement already satisfied: joblib>=1.2.0 in /usr/local/lib/python3.11/dist-packages (from scikit-learn>=1.6.0->category_encoders) (1.4.2)\n",
            "Requirement already satisfied: threadpoolctl>=3.1.0 in /usr/local/lib/python3.11/dist-packages (from scikit-learn>=1.6.0->category_encoders) (3.5.0)\n",
            "Requirement already satisfied: packaging>=21.3 in /usr/local/lib/python3.11/dist-packages (from statsmodels>=0.9.0->category_encoders) (24.2)\n",
            "Requirement already satisfied: six>=1.5 in /usr/local/lib/python3.11/dist-packages (from python-dateutil>=2.8.2->pandas>=1.0.5->category_encoders) (1.17.0)\n"
          ]
        },
        {
          "output_type": "display_data",
          "data": {
            "text/plain": [
              "<Figure size 640x480 with 1 Axes>"
            ],
            "image/png": "[encoded data removed]"
          },
          "metadata": {}
        },
        {
          "output_type": "stream",
          "name": "stdout",
          "text": [
            "Optimal number of clusters for Model: None\n"
          ]
        }
      ]
    },
    {
      "cell_type": "markdown",
      "source": [
        "According to the Elbow Method, the optimal number of Categories for the **State** Variable is **5**"
      ],
      "metadata": {
        "id": "FB0Lc4jTVYa0"
      }
    },
    {
      "cell_type": "code",
      "source": [
        "optimal_k_model3 = find_optimal_clusters_elbow(data, 'Make')\n",
        "print(f\"Optimal number of clusters for Model: {optimal_k_model3}\")"
      ],
      "metadata": {
        "colab": {
          "base_uri": "https://localhost:8080/",
          "height": 775
        },
        "id": "eGsU-9fwVggE",
        "outputId": "0ce9b67d-abcd-4fb8-dc41-22d1c5a2c4f9"
      },
      "execution_count": null,
      "outputs": [
        {
          "output_type": "stream",
          "name": "stdout",
          "text": [
            "Requirement already satisfied: category_encoders in /usr/local/lib/python3.11/dist-packages (2.8.1)\n",
            "Requirement already satisfied: numpy>=1.14.0 in /usr/local/lib/python3.11/dist-packages (from category_encoders) (1.26.4)\n",
            "Requirement already satisfied: pandas>=1.0.5 in /usr/local/lib/python3.11/dist-packages (from category_encoders) (2.2.2)\n",
            "Requirement already satisfied: patsy>=0.5.1 in /usr/local/lib/python3.11/dist-packages (from category_encoders) (1.0.1)\n",
            "Requirement already satisfied: scikit-learn>=1.6.0 in /usr/local/lib/python3.11/dist-packages (from category_encoders) (1.6.1)\n",
            "Requirement already satisfied: scipy>=1.0.0 in /usr/local/lib/python3.11/dist-packages (from category_encoders) (1.14.1)\n",
            "Requirement already satisfied: statsmodels>=0.9.0 in /usr/local/lib/python3.11/dist-packages (from category_encoders) (0.14.4)\n",
            "Requirement already satisfied: python-dateutil>=2.8.2 in /usr/local/lib/python3.11/dist-packages (from pandas>=1.0.5->category_encoders) (2.8.2)\n",
            "Requirement already satisfied: pytz>=2020.1 in /usr/local/lib/python3.11/dist-packages (from pandas>=1.0.5->category_encoders) (2025.1)\n",
            "Requirement already satisfied: tzdata>=2022.7 in /usr/local/lib/python3.11/dist-packages (from pandas>=1.0.5->category_encoders) (2025.1)\n",
            "Requirement already satisfied: joblib>=1.2.0 in /usr/local/lib/python3.11/dist-packages (from scikit-learn>=1.6.0->category_encoders) (1.4.2)\n",
            "Requirement already satisfied: threadpoolctl>=3.1.0 in /usr/local/lib/python3.11/dist-packages (from scikit-learn>=1.6.0->category_encoders) (3.5.0)\n",
            "Requirement already satisfied: packaging>=21.3 in /usr/local/lib/python3.11/dist-packages (from statsmodels>=0.9.0->category_encoders) (24.2)\n",
            "Requirement already satisfied: six>=1.5 in /usr/local/lib/python3.11/dist-packages (from python-dateutil>=2.8.2->pandas>=1.0.5->category_encoders) (1.17.0)\n"
          ]
        },
        {
          "output_type": "display_data",
          "data": {
            "text/plain": [
              "<Figure size 640x480 with 1 Axes>"
            ],
            "image/png": "[encoded data removed]"
          },
          "metadata": {}
        },
        {
          "output_type": "stream",
          "name": "stdout",
          "text": [
            "Optimal number of clusters for Model: None\n"
          ]
        }
      ]
    },
    {
      "cell_type": "markdown",
      "source": [
        "According to the Elbow Method, the optimal number of Categories for the **Make** Variable is **4**"
      ],
      "metadata": {
        "id": "4_Pr-JXPVm3I"
      }
    },
    {
      "cell_type": "markdown",
      "source": [
        "Closing, the categories of variables can be grouped as follows:\n",
        "\n",
        "1.   \"**Model**\" : 5.\n",
        "2.   \"**State**\" : 5.\n",
        "3.   \"**Make**\" : 4.\n",
        "\n",
        "\n"
      ],
      "metadata": {
        "id": "Nr-RB7NIVtWa"
      }
    },
    {
      "cell_type": "markdown",
      "source": [
        "With the results of the clusters, the reduction of variables is then carried out."
      ],
      "metadata": {
        "id": "glDCNw4AWWWn"
      }
    },
    {
      "cell_type": "code",
      "source": [
        "import pandas as pd\n",
        "\n",
        "def reduce_categories_by_price(data, feature, n_categories):\n",
        "    \"\"\"Reduces a categorical feature to a specified number of categories based on average price.\n",
        "\n",
        "    Args:\n",
        "        data (pd.DataFrame): The input DataFrame.\n",
        "        feature (str): The name of the categorical feature to reduce.\n",
        "        n_categories (int, optional): The desired number of categories. Defaults to 3.\n",
        "\n",
        "    Returns:\n",
        "        pd.DataFrame: The DataFrame with the reduced categorical feature.\n",
        "    \"\"\"\n",
        "\n",
        "    # Calculate average price for each category\n",
        "    category_prices = data.groupby(feature)['Price'].mean().sort_values()\n",
        "\n",
        "    # Divide categories into n_categories quantiles based on average price\n",
        "    category_bins = pd.qcut(category_prices, q=n_categories, labels=False, duplicates='drop')\n",
        "\n",
        "    # Create a dictionary mapping original categories to new categories\n",
        "    category_mapping = dict(zip(category_prices.index, category_bins))\n",
        "\n",
        "    # Replace original categories with new categories in the DataFrame\n",
        "    data[feature] = data[feature].map(category_mapping)\n",
        "\n",
        "    #If mapping dict has less than n_categories items, fill values that weren't mapped with -1\n",
        "    if len(category_mapping) < n_categories:\n",
        "        for i in range(n_categories):\n",
        "            if i not in data[feature].unique():\n",
        "                data[feature] = data[feature].fillna(i)\n",
        "\n",
        "    return data\n",
        "\n",
        "# Apply the function to reduce categories for 'State', 'Make', and 'Model'\n",
        "data = reduce_categories_by_price(data, 'Model',5)\n",
        "data = reduce_categories_by_price(data, 'State',5)\n",
        "data = reduce_categories_by_price(data, 'Make',4)\n",
        "data.head()"
      ],
      "metadata": {
        "colab": {
          "base_uri": "https://localhost:8080/",
          "height": 206
        },
        "id": "lbUeF2kVWpbR",
        "outputId": "504ffafc-3db4-4fff-a776-95c1ce9d436b"
      },
      "execution_count": null,
      "outputs": [
        {
          "output_type": "execute_result",
          "data": {
            "text/plain": [
              "   Price  Year  Mileage  State  Make  Model\n",
              "0  21490  2014    31909      0     1      3\n",
              "1  21250  2016    25741      1     2      3\n",
              "2  20925  2016    24633      1     0      2\n",
              "3  14500  2012    84026      3     2      3\n",
              "4  32488  2013    22816      2     2      4"
            ],
            "text/html": [
              "\n",
              "  <div id=\"df-7e84a166-c25c-4df0-aea0-08b3f6592a27\" class=\"colab-df-container\">\n",
              "    <div>\n",
              "<style scoped>\n",
              "    .dataframe tbody tr th:only-of-type {\n",
              "        vertical-align: middle;\n",
              "    }\n",
              "\n",
              "    .dataframe tbody tr th {\n",
              "        vertical-align: top;\n",
              "    }\n",
              "\n",
              "    .dataframe thead th {\n",
              "        text-align: right;\n",
              "    }\n",
              "</style>\n",
              "<table border=\"1\" class=\"dataframe\">\n",
              "  <thead>\n",
              "    <tr style=\"text-align: right;\">\n",
              "      <th></th>\n",
              "      <th>Price</th>\n",
              "      <th>Year</th>\n",
              "      <th>Mileage</th>\n",
              "      <th>State</th>\n",
              "      <th>Make</th>\n",
              "      <th>Model</th>\n",
              "    </tr>\n",
              "  </thead>\n",
              "  <tbody>\n",
              "    <tr>\n",
              "      <th>0</th>\n",
              "      <td>21490</td>\n",
              "      <td>2014</td>\n",
              "      <td>31909</td>\n",
              "      <td>0</td>\n",
              "      <td>1</td>\n",
              "      <td>3</td>\n",
              "    </tr>\n",
              "    <tr>\n",
              "      <th>1</th>\n",
              "      <td>21250</td>\n",
              "      <td>2016</td>\n",
              "      <td>25741</td>\n",
              "      <td>1</td>\n",
              "      <td>2</td>\n",
              "      <td>3</td>\n",
              "    </tr>\n",
              "    <tr>\n",
              "      <th>2</th>\n",
              "      <td>20925</td>\n",
              "      <td>2016</td>\n",
              "      <td>24633</td>\n",
              "      <td>1</td>\n",
              "      <td>0</td>\n",
              "      <td>2</td>\n",
              "    </tr>\n",
              "    <tr>\n",
              "      <th>3</th>\n",
              "      <td>14500</td>\n",
              "      <td>2012</td>\n",
              "      <td>84026</td>\n",
              "      <td>3</td>\n",
              "      <td>2</td>\n",
              "      <td>3</td>\n",
              "    </tr>\n",
              "    <tr>\n",
              "      <th>4</th>\n",
              "      <td>32488</td>\n",
              "      <td>2013</td>\n",
              "      <td>22816</td>\n",
              "      <td>2</td>\n",
              "      <td>2</td>\n",
              "      <td>4</td>\n",
              "    </tr>\n",
              "  </tbody>\n",
              "</table>\n",
              "</div>\n",
              "    <div class=\"colab-df-buttons\">\n",
              "\n",
              "  <div class=\"colab-df-container\">\n",
              "    <button class=\"colab-df-convert\" onclick=\"convertToInteractive('df-7e84a166-c25c-4df0-aea0-08b3f6592a27')\"\n",
              "            title=\"Convert this dataframe to an interactive table.\"\n",
              "            style=\"display:none;\">\n",
              "\n",
              "  <svg xmlns=\"http://www.w3.org/2000/svg\" height=\"24px\" viewBox=\"0 -960 960 960\">\n",
              "    <path d=\"M120-120v-720h720v720H120Zm60-500h600v-160H180v160Zm220 220h160v-160H400v160Zm0 220h160v-160H400v160ZM180-400h160v-160H180v160Zm440 0h160v-160H620v160ZM180-180h160v-160H180v160Zm440 0h160v-160H620v160Z\"/>\n",
              "  </svg>\n",
              "    </button>\n",
              "\n",
              "  <style>\n",
              "    .colab-df-container {\n",
              "      display:flex;\n",
              "      gap: 12px;\n",
              "    }\n",
              "\n",
              "    .colab-df-convert {\n",
              "      background-color: #E8F0FE;\n",
              "      border: none;\n",
              "      border-radius: 50%;\n",
              "      cursor: pointer;\n",
              "      display: none;\n",
              "      fill: #1967D2;\n",
              "      height: 32px;\n",
              "      padding: 0 0 0 0;\n",
              "      width: 32px;\n",
              "    }\n",
              "\n",
              "    .colab-df-convert:hover {\n",
              "      background-color: #E2EBFA;\n",
              "      box-shadow: 0px 1px 2px rgba(60, 64, 67, 0.3), 0px 1px 3px 1px rgba(60, 64, 67, 0.15);\n",
              "      fill: #174EA6;\n",
              "    }\n",
              "\n",
              "    .colab-df-buttons div {\n",
              "      margin-bottom: 4px;\n",
              "    }\n",
              "\n",
              "    [theme=dark] .colab-df-convert {\n",
              "      background-color: #3B4455;\n",
              "      fill: #D2E3FC;\n",
              "    }\n",
              "\n",
              "    [theme=dark] .colab-df-convert:hover {\n",
              "      background-color: #434B5C;\n",
              "      box-shadow: 0px 1px 3px 1px rgba(0, 0, 0, 0.15);\n",
              "      filter: drop-shadow(0px 1px 2px rgba(0, 0, 0, 0.3));\n",
              "      fill: #FFFFFF;\n",
              "    }\n",
              "  </style>\n",
              "\n",
              "    <script>\n",
              "      const buttonEl =\n",
              "        document.querySelector('#df-7e84a166-c25c-4df0-aea0-08b3f6592a27 button.colab-df-convert');\n",
              "      buttonEl.style.display =\n",
              "        google.colab.kernel.accessAllowed ? 'block' : 'none';\n",
              "\n",
              "      async function convertToInteractive(key) {\n",
              "        const element = document.querySelector('#df-7e84a166-c25c-4df0-aea0-08b3f6592a27');\n",
              "        const dataTable =\n",
              "          await google.colab.kernel.invokeFunction('convertToInteractive',\n",
              "                                                    [key], {});\n",
              "        if (!dataTable) return;\n",
              "\n",
              "        const docLinkHtml = 'Like what you see? Visit the ' +\n",
              "          '<a target=\"_blank\" href=https://colab.research.google.com/notebooks/data_table.ipynb>data table notebook</a>'\n",
              "          + ' to learn more about interactive tables.';\n",
              "        element.innerHTML = '';\n",
              "        dataTable['output_type'] = 'display_data';\n",
              "        await google.colab.output.renderOutput(dataTable, element);\n",
              "        const docLink = document.createElement('div');\n",
              "        docLink.innerHTML = docLinkHtml;\n",
              "        element.appendChild(docLink);\n",
              "      }\n",
              "    </script>\n",
              "  </div>\n",
              "\n",
              "\n",
              "<div id=\"df-b449c749-f9f8-4a1d-a234-aa04b1db9f93\">\n",
              "  <button class=\"colab-df-quickchart\" onclick=\"quickchart('df-b449c749-f9f8-4a1d-a234-aa04b1db9f93')\"\n",
              "            title=\"Suggest charts\"\n",
              "            style=\"display:none;\">\n",
              "\n",
              "<svg xmlns=\"http://www.w3.org/2000/svg\" height=\"24px\"viewBox=\"0 0 24 24\"\n",
              "     width=\"24px\">\n",
              "    <g>\n",
              "        <path d=\"M19 3H5c-1.1 0-2 .9-2 2v14c0 1.1.9 2 2 2h14c1.1 0 2-.9 2-2V5c0-1.1-.9-2-2-2zM9 17H7v-7h2v7zm4 0h-2V7h2v10zm4 0h-2v-4h2v4z\"/>\n",
              "    </g>\n",
              "</svg>\n",
              "  </button>\n",
              "\n",
              "<style>\n",
              "  .colab-df-quickchart {\n",
              "      --bg-color: #E8F0FE;\n",
              "      --fill-color: #1967D2;\n",
              "      --hover-bg-color: #E2EBFA;\n",
              "      --hover-fill-color: #174EA6;\n",
              "      --disabled-fill-color: #AAA;\n",
              "      --disabled-bg-color: #DDD;\n",
              "  }\n",
              "\n",
              "  [theme=dark] .colab-df-quickchart {\n",
              "      --bg-color: #3B4455;\n",
              "      --fill-color: #D2E3FC;\n",
              "      --hover-bg-color: #434B5C;\n",
              "      --hover-fill-color: #FFFFFF;\n",
              "      --disabled-bg-color: #3B4455;\n",
              "      --disabled-fill-color: #666;\n",
              "  }\n",
              "\n",
              "  .colab-df-quickchart {\n",
              "    background-color: var(--bg-color);\n",
              "    border: none;\n",
              "    border-radius: 50%;\n",
              "    cursor: pointer;\n",
              "    display: none;\n",
              "    fill: var(--fill-color);\n",
              "    height: 32px;\n",
              "    padding: 0;\n",
              "    width: 32px;\n",
              "  }\n",
              "\n",
              "  .colab-df-quickchart:hover {\n",
              "    background-color: var(--hover-bg-color);\n",
              "    box-shadow: 0 1px 2px rgba(60, 64, 67, 0.3), 0 1px 3px 1px rgba(60, 64, 67, 0.15);\n",
              "    fill: var(--button-hover-fill-color);\n",
              "  }\n",
              "\n",
              "  .colab-df-quickchart-complete:disabled,\n",
              "  .colab-df-quickchart-complete:disabled:hover {\n",
              "    background-color: var(--disabled-bg-color);\n",
              "    fill: var(--disabled-fill-color);\n",
              "    box-shadow: none;\n",
              "  }\n",
              "\n",
              "  .colab-df-spinner {\n",
              "    border: 2px solid var(--fill-color);\n",
              "    border-color: transparent;\n",
              "    border-bottom-color: var(--fill-color);\n",
              "    animation:\n",
              "      spin 1s steps(1) infinite;\n",
              "  }\n",
              "\n",
              "  @keyframes spin {\n",
              "    0% {\n",
              "      border-color: transparent;\n",
              "      border-bottom-color: var(--fill-color);\n",
              "      border-left-color: var(--fill-color);\n",
              "    }\n",
              "    20% {\n",
              "      border-color: transparent;\n",
              "      border-left-color: var(--fill-color);\n",
              "      border-top-color: var(--fill-color);\n",
              "    }\n",
              "    30% {\n",
              "      border-color: transparent;\n",
              "      border-left-color: var(--fill-color);\n",
              "      border-top-color: var(--fill-color);\n",
              "      border-right-color: var(--fill-color);\n",
              "    }\n",
              "    40% {\n",
              "      border-color: transparent;\n",
              "      border-right-color: var(--fill-color);\n",
              "      border-top-color: var(--fill-color);\n",
              "    }\n",
              "    60% {\n",
              "      border-color: transparent;\n",
              "      border-right-color: var(--fill-color);\n",
              "    }\n",
              "    80% {\n",
              "      border-color: transparent;\n",
              "      border-right-color: var(--fill-color);\n",
              "      border-bottom-color: var(--fill-color);\n",
              "    }\n",
              "    90% {\n",
              "      border-color: transparent;\n",
              "      border-bottom-color: var(--fill-color);\n",
              "    }\n",
              "  }\n",
              "</style>\n",
              "\n",
              "  <script>\n",
              "    async function quickchart(key) {\n",
              "      const quickchartButtonEl =\n",
              "        document.querySelector('#' + key + ' button');\n",
              "      quickchartButtonEl.disabled = true;  // To prevent multiple clicks.\n",
              "      quickchartButtonEl.classList.add('colab-df-spinner');\n",
              "      try {\n",
              "        const charts = await google.colab.kernel.invokeFunction(\n",
              "            'suggestCharts', [key], {});\n",
              "      } catch (error) {\n",
              "        console.error('Error during call to suggestCharts:', error);\n",
              "      }\n",
              "      quickchartButtonEl.classList.remove('colab-df-spinner');\n",
              "      quickchartButtonEl.classList.add('colab-df-quickchart-complete');\n",
              "    }\n",
              "    (() => {\n",
              "      let quickchartButtonEl =\n",
              "        document.querySelector('#df-b449c749-f9f8-4a1d-a234-aa04b1db9f93 button');\n",
              "      quickchartButtonEl.style.display =\n",
              "        google.colab.kernel.accessAllowed ? 'block' : 'none';\n",
              "    })();\n",
              "  </script>\n",
              "</div>\n",
              "\n",
              "    </div>\n",
              "  </div>\n"
            ],
            "application/vnd.google.colaboratory.intrinsic+json": {
              "type": "dataframe",
              "variable_name": "data"
            }
          },
          "metadata": {},
          "execution_count": 15
        }
      ]
    },
    {
      "cell_type": "markdown",
      "source": [
        "Also, a part of the reduced variables we create a new variable \"Car age\" wich represent the how old is the car and also we try to reduce the effect of the atipical mileage data usint the logarithm."
      ],
      "metadata": {
        "id": "RVrHjSFQWwkK"
      }
    },
    {
      "cell_type": "code",
      "source": [
        "# Calculate car age\n",
        "data['Car_Age'] = 2025 - data['Year']\n",
        "\n",
        "# Calculate the logarithm of Mileage\n",
        "data['Log_Mileage'] = np.log1p(data['Mileage'])"
      ],
      "metadata": {
        "id": "ZCYLLvWrXGto"
      },
      "execution_count": null,
      "outputs": []
    },
    {
      "cell_type": "markdown",
      "source": [
        "# **First Model XGBoost**"
      ],
      "metadata": {
        "id": "pbluLkQRXue6"
      }
    },
    {
      "cell_type": "markdown",
      "source": [
        "Once we train the Linear Regression Model the first model we want to train is a XGBoost using GridSearch for now the best hyperparameter and then evaluate it, with the KFolds=10"
      ],
      "metadata": {
        "id": "zps-hF-RYBlR"
      }
    },
    {
      "cell_type": "code",
      "source": [
        "import pandas as pd\n",
        "import numpy as np\n",
        "from sklearn.model_selection import KFold\n",
        "from sklearn.metrics import mean_squared_error, mean_absolute_percentage_error\n",
        "from sklearn.linear_model import LinearRegression\n",
        "from sklearn.preprocessing import OneHotEncoder\n",
        "import xgboost as xgb\n",
        "from sklearn.model_selection import GridSearchCV\n",
        "\n",
        "\n",
        "# Prepare the data\n",
        "X = data[['Year', 'State', 'Make', 'Model','Car_Age','Log_Mileage']]\n",
        "y = data['Price']\n",
        "\n",
        "# Split Data Train and Test\n",
        "X_train, X_test, y_train, y_test = train_test_split(X, y, test_size=0.2, random_state=42)\n",
        "\n",
        "# One-hot encode categorical features\n",
        "encoder = OneHotEncoder(handle_unknown='ignore', sparse_output=False)\n",
        "X_train_encoded = encoder.fit_transform(X_train[['State', 'Make', 'Model']])\n",
        "encoded_feature_names = encoder.get_feature_names_out(['State', 'Make', 'Model'])\n",
        "X_train_encoded_df = pd.DataFrame(X_train_encoded, columns=encoded_feature_names, index=X_train.index)\n",
        "X_train_final = pd.concat([X_train[['Year','Car_Age', 'Log_Mileage']], X_train_encoded_df], axis=1)\n",
        "\n",
        "\n",
        "# Define the parameter grid for XGBoost\n",
        "param_grid = {\n",
        "    'n_estimators': [50, 100, 200],\n",
        "    'learning_rate': [0.01, 0.1, 0.2],\n",
        "    'max_depth': [3, 5, 7],\n",
        "    'subsample': [0.8, 0.9, 1.0],\n",
        "    'colsample_bytree': [0.8, 0.9, 1.0]\n",
        "}\n",
        "\n",
        "# Initialize XGBoost model\n",
        "xgb_model = xgb.XGBRegressor(objective='reg:squarederror',\n",
        "                            eval_metric='rmse',  # Agregar eval_metric\n",
        "                            seed=42)\n",
        "\n",
        "# Initialize GridSearchCV\n",
        "grid_search = GridSearchCV(estimator=xgb_model, param_grid=param_grid,\n",
        "                          scoring='neg_root_mean_squared_error',  # Cambiar scoring\n",
        "                          cv=5, n_jobs=-1)\n",
        "\n",
        "\n",
        "# Perform the grid search\n",
        "grid_search.fit(X_train_final, y_train)\n",
        "\n",
        "\n",
        "# Get the best parameters and best score\n",
        "print(\"Best parameters found: \", grid_search.best_params_)\n",
        "print(\"Lowest RMSE found: \", np.abs(grid_search.best_score_))  # Imprimir el RMSE directamente\n",
        "\n",
        "# Use the best model for predictions and further evaluation.\n",
        "best_xgb_model = grid_search.best_estimator_"
      ],
      "metadata": {
        "colab": {
          "base_uri": "https://localhost:8080/"
        },
        "id": "fpIWI648Y8gJ",
        "outputId": "01496b29-bd27-4940-a098-03aada6b0745"
      },
      "execution_count": null,
      "outputs": [
        {
          "output_type": "stream",
          "name": "stdout",
          "text": [
            "Best parameters found:  {'colsample_bytree': 0.8, 'learning_rate': 0.1, 'max_depth': 7, 'n_estimators': 100, 'subsample': 0.9}\n",
            "Lowest RMSE found:  5064.49482421875\n"
          ]
        }
      ]
    },
    {
      "cell_type": "code",
      "source": [
        "# Use the best model from the grid search to evaluate with RMSE and MAPE\n",
        "best_xgb_model = grid_search.best_estimator_\n",
        "\n",
        "kf = KFold(n_splits=10, shuffle=True, random_state=42)\n",
        "mape_scores = []\n",
        "rmse_scores = []\n",
        "\n",
        "for train_index, val_index in kf.split(X_train_final):\n",
        "    X_train_fold, X_val_fold = X_train_final.iloc[train_index], X_train_final.iloc[val_index]\n",
        "    y_train_fold, y_val_fold = y_train.iloc[train_index], y_train.iloc[val_index]\n",
        "\n",
        "    # Train the best model\n",
        "    best_xgb_model.fit(X_train_fold, y_train_fold)\n",
        "\n",
        "    # Make predictions\n",
        "    y_pred = best_xgb_model.predict(X_val_fold)\n",
        "\n",
        "    # Calculate MAPE and RMSE\n",
        "    mape = mean_absolute_percentage_error(y_val_fold, y_pred)\n",
        "    rmse = np.sqrt(mean_squared_error(y_val_fold, y_pred))\n",
        "\n",
        "    # Store the scores\n",
        "    mape_scores.append(mape)\n",
        "    rmse_scores.append(rmse)\n",
        "\n",
        "# Print the average scores\n",
        "print(f\"Average MAPE across all folds: {np.mean(mape_scores)}\")\n",
        "print(f\"Average RMSE across all folds: {np.mean(rmse_scores)}\")"
      ],
      "metadata": {
        "id": "h2xKjJ_lokz8",
        "colab": {
          "base_uri": "https://localhost:8080/"
        },
        "outputId": "3de43365-f6c1-48b8-fa94-0701c4939e6d"
      },
      "execution_count": null,
      "outputs": [
        {
          "output_type": "stream",
          "name": "stdout",
          "text": [
            "Average MAPE across all folds: 0.17034565508365632\n",
            "Average RMSE across all folds: 5064.4225611218335\n"
          ]
        }
      ]
    },
    {
      "cell_type": "markdown",
      "source": [
        "Below are the results of XGBoost without the hyperparameter search and the best model for MAPE indicator will be the one we evaluate. The model uses KFolds with 10 folds."
      ],
      "metadata": {
        "id": "R3uRUFA3osEU"
      }
    },
    {
      "cell_type": "markdown",
      "source": [
        "Only the categories are reduced to the model because reducing the dimensionality of the variables \"State\" and \"Make\" worsens the quality of the model according to the results obtained with them. If you want to check it you can \"activate\" the lines"
      ],
      "metadata": {
        "id": "wjJxC961ouV6"
      }
    },
    {
      "cell_type": "code",
      "source": [
        "import pandas as pd\n",
        "import numpy as np\n",
        "import xgboost as xgb\n",
        "from sklearn.model_selection import KFold\n",
        "from sklearn.metrics import mean_absolute_percentage_error, mean_squared_error\n",
        "from sklearn.preprocessing import OneHotEncoder\n",
        "\n",
        "# Assuming 'data' is your DataFrame with 'Price', 'Year', 'Mileage', 'Make', 'Model' columns\n",
        "\n",
        "# 1. Prepare the data\n",
        "X = data[['Year', 'Mileage', \"State\", 'Make', 'Model']]\n",
        "y = data['Price']\n",
        "\n",
        "# 2. One-hot encode categorical features\n",
        "encoder = OneHotEncoder(handle_unknown='ignore', sparse_output=False)\n",
        "encoded_features = encoder.fit_transform(X[['Make', 'Model']])\n",
        "encoded_feature_names = encoder.get_feature_names_out(['Make', 'Model'])\n",
        "X_encoded = pd.DataFrame(encoded_features, columns=encoded_feature_names, index=X.index)\n",
        "X = pd.concat([X[['Year', 'Mileage']], X_encoded], axis=1)\n",
        "\n",
        "# 3. K-fold cross-validation\n",
        "kf = KFold(n_splits=10, shuffle=True, random_state=42)\n",
        "mape_scores = []\n",
        "rmse_scores = []  # List to store RMSE scores\n",
        "predictions = []  # Store predictions for each fold\n",
        "\n",
        "for train_index, val_index in kf.split(X):\n",
        "    X_train, X_val = X.iloc[train_index], X.iloc[val_index]\n",
        "    y_train, y_val = y.iloc[train_index], y.iloc[val_index]\n",
        "\n",
        "    # 4. Train XGBoost model\n",
        "    model = xgb.XGBRegressor(objective='reg:squarederror', random_state=42)\n",
        "    model.fit(X_train, y_train)\n",
        "\n",
        "    # 5. Make predictions and evaluate\n",
        "    y_pred = model.predict(X_val)\n",
        "    mape = mean_absolute_percentage_error(y_val, y_pred)\n",
        "    rmse = np.sqrt(mean_squared_error(y_val, y_pred))  # Calculate RMSE\n",
        "    mape_scores.append(mape)\n",
        "    rmse_scores.append(rmse)  # Add RMSE to the list\n",
        "    predictions.extend(y_pred)  # Add predictions to the list\n",
        "\n",
        "# 6. Calculate average MAPE and RMSE\n",
        "avg_mape = np.mean(mape_scores)\n",
        "avg_rmse = np.mean(rmse_scores)  # Calculate average RMSE\n",
        "print(f\"Average MAPE across 10 folds: {avg_mape}\")\n",
        "print(f\"Average RMSE across 10 folds: {avg_rmse}\")  # Print average RMSE\n",
        "\n",
        "# 7. Add predictions to the original DataFrame (optional)\n",
        "data['Predicted_Price'] = predictions"
      ],
      "metadata": {
        "id": "0o3djjXmoou8",
        "colab": {
          "base_uri": "https://localhost:8080/"
        },
        "outputId": "80dd3008-121a-466e-8ce1-4c31213fe7e0"
      },
      "execution_count": null,
      "outputs": [
        {
          "output_type": "stream",
          "name": "stdout",
          "text": [
            "Average MAPE across 10 folds: 0.17187687754631042\n",
            "Average RMSE across 10 folds: 5108.708278333839\n"
          ]
        }
      ]
    },
    {
      "cell_type": "markdown",
      "source": [
        "**SECOND MODEL-LINEAR REGRESSION ADJUSTING ATIPICAL DATA WITHOUT AFFECTING CATEGORICAL VARIABLES**"
      ],
      "metadata": {
        "id": "XEwWps8Qo0U8"
      }
    },
    {
      "cell_type": "markdown",
      "source": [
        "Through many trial and error tests, we found that by not dummifying or changing the number of categories of the categorical variables and only reducing the impact of outliers in \"Mileage\", along with the creation of the \"Car_Age\" variable, an improvement in the RMSE indicator was found."
      ],
      "metadata": {
        "id": "L4AHDM1Qo3Bb"
      }
    },
    {
      "cell_type": "code",
      "source": [
        "# Preparar los datos\n",
        "data1 = pd.read_csv('https://github.com/sergiomora03/AdvancedTopicsAnalytics/raw/main/datasets/dataTrain_carListings.zip')\n",
        "\n",
        "# Calculate car age\n",
        "data1['Car_Age'] = 2025 - data1['Year']\n",
        "\n",
        "# Calculate the logarithm of Mileage\n",
        "data1['Log_Mileage'] = np.log1p(data1['Mileage'])\n",
        "\n",
        "\n",
        "\n",
        "X = data1[['Year', 'State', 'Make', 'Model','Car_Age','Log_Mileage']]\n",
        "y = data1['Price']\n",
        "\n",
        "# Split Data Train and Test\n",
        "X_train, X_test, y_train, y_test = train_test_split(X, y, test_size=0.2, random_state=42)\n",
        "\n",
        "# Crear un objeto OneHotEncoder\n",
        "encoder = OneHotEncoder(handle_unknown='ignore', sparse_output=False)\n",
        "\n",
        "# Ajustar el encoder a los datos de entrenamiento y transformarlos\n",
        "X_train_encoded = encoder.fit_transform(X_train[['State', 'Make', 'Model']])\n",
        "\n",
        "# Obtener los nombres de las características después de la codificación\n",
        "encoded_feature_names = encoder.get_feature_names_out(['State', 'Make', 'Model'])\n",
        "\n",
        "# Crear un DataFrame con las características codificadas\n",
        "X_train_encoded_df = pd.DataFrame(X_train_encoded, columns=encoded_feature_names, index=X_train.index)\n",
        "\n",
        "# Concatenar las características codificadas con las características numéricas\n",
        "X_train_final = pd.concat([X_train[['Year','Car_Age','Log_Mileage']], X_train_encoded_df], axis=1)\n",
        "\n",
        "# Inicializar el modelo de regresión lineal\n",
        "linear_model2 = LinearRegression()\n",
        "\n",
        "# Validación cruzada KFold\n",
        "kf = KFold(n_splits=10, shuffle=True, random_state=42)\n",
        "mape_scores = []\n",
        "rmse_scores = []\n",
        "\n",
        "for train_index, val_index in kf.split(X_train_final):\n",
        "    X_train_fold, X_val_fold = X_train_final.iloc[train_index], X_train_final.iloc[val_index]\n",
        "    y_train_fold, y_val_fold = y_train.iloc[train_index], y_train.iloc[val_index]\n",
        "\n",
        "    # Ajustar el modelo de regresión lineal\n",
        "    linear_model2.fit(X_train_fold, y_train_fold)\n",
        "\n",
        "    # Hacer predicciones\n",
        "    y_pred = linear_model2.predict(X_val_fold)\n",
        "\n",
        "    # Calcular MAPE y RMSE\n",
        "    mape = mean_absolute_percentage_error(y_val_fold, y_pred)\n",
        "    rmse = np.sqrt(mean_squared_error(y_val_fold, y_pred))\n",
        "\n",
        "    # Agregar las puntuaciones\n",
        "    mape_scores.append(mape)\n",
        "    rmse_scores.append(rmse)\n",
        "\n",
        "# Imprimir las puntuaciones promedio\n",
        "print(f\"Promedio de MAPE en todos los folds: {np.mean(mape_scores)}\")\n",
        "print(f\"Promedio de RMSE en todos los folds: {np.mean(rmse_scores)}\")"
      ],
      "metadata": {
        "id": "nMYcXTMCo5wo",
        "colab": {
          "base_uri": "https://localhost:8080/"
        },
        "outputId": "cd51744f-02d6-4604-8bd2-ef95fe6ddbdc"
      },
      "execution_count": null,
      "outputs": [
        {
          "output_type": "stream",
          "name": "stdout",
          "text": [
            "Promedio de MAPE en todos los folds: 0.16795323088863923\n",
            "Promedio de RMSE en todos los folds: 4488.911313713497\n"
          ]
        }
      ]
    },
    {
      "cell_type": "markdown",
      "source": [
        "**THIRD MODEL- ANN**"
      ],
      "metadata": {
        "id": "7w9I9YMlo9kS"
      }
    },
    {
      "cell_type": "markdown",
      "source": [
        "Why is this structure suitable for prediction in your case?\n",
        "\n",
        "Regression problem: You are trying to predict a continuous value (car price), which makes a regression neural network structure suitable. The output layer without activation function and the MSE loss function are typical in this type of problems. Problem complexity: Predicting the price of a car depends on several features, some with non-linear relationships. The network structure with multiple dense layers and the relu activation function allows to model this complexity. Number of features: The number of neurons in the first hidden layer (128) is related to the number of input features. This gives the network enough capacity to learn from the features, due to we have a lot Pyramid structure: Gradual reduction of neurons in the hidden layers helps the network to learn more abstract and refined representations of the data, which can improve the prediction accuracy. In summary, this neural network structure is a good choice for your car price prediction problem because it is a typical structure for regression, has the ability to model the complexity of the problem, and uses a configuration of layers and neurons that is well suited to the number of features and the nature of the data.\n",
        "\n",
        "It is always advisable to experiment with different neural network structures and configurations to find the one that best fits your specific problem."
      ],
      "metadata": {
        "id": "EHDliK7qpEkX"
      }
    },
    {
      "cell_type": "code",
      "source": [
        "import pandas as pd\n",
        "import numpy as np\n",
        "from sklearn.model_selection import train_test_split\n",
        "from sklearn.preprocessing import StandardScaler, OneHotEncoder\n",
        "from sklearn.compose import ColumnTransformer\n",
        "from tensorflow import keras\n",
        "from tensorflow.keras import layers\n",
        "from sklearn.metrics import mean_squared_error, mean_absolute_percentage_error\n",
        "\n",
        "# Load your data (replace 'your_data.csv' with the actual file path)\n",
        "# Assuming 'data' is your DataFrame with 'Price', 'Year', 'Mileage', 'State', 'Make', 'Model' columns\n",
        "data = pd.read_csv('https://github.com/sergiomora03/AdvancedTopicsAnalytics/raw/main/datasets/dataTrain_carListings.zip')\n",
        "\n",
        "# Feature Engineering (same as before)\n",
        "data['Car_Age'] = 2025 - data['Year']\n",
        "data['Log_Mileage'] = np.log1p(data['Mileage'])\n",
        "\n",
        "\n",
        "# Prepare the data\n",
        "X = data[['Year', 'State', 'Make', 'Model', 'Car_Age', 'Log_Mileage']]\n",
        "y = data['Price']\n",
        "\n",
        "# Split Data Train and Test\n",
        "X_train, X_val, y_train, y_val = train_test_split(X, y, test_size=0.2, random_state=42)\n",
        "\n",
        "# Preprocessing: One-hot encoding for categorical features and scaling for numerical features\n",
        "numerical_features = ['Year', 'Car_Age', 'Log_Mileage']\n",
        "categorical_features = ['State', 'Make', 'Model']\n",
        "\n",
        "preprocessor = ColumnTransformer(\n",
        "    transformers=[\n",
        "        ('num', StandardScaler(), numerical_features),\n",
        "        ('cat', OneHotEncoder(handle_unknown='ignore', sparse_output=False), categorical_features)\n",
        "    ])\n",
        "\n",
        "X_train_processed = preprocessor.fit_transform(X_train)\n",
        "X_val_processed = preprocessor.transform(X_val)\n",
        "\n",
        "# Define the ANN model\n",
        "modelANN = keras.Sequential([\n",
        "    layers.Dense(128, activation='relu', input_shape=(X_train_processed.shape[1],)),\n",
        "    layers.Dense(64, activation='relu'),\n",
        "    layers.Dense(32, activation='relu'),\n",
        "    layers.Dense(1) # Output layer (no activation for regression)\n",
        "])\n",
        "\n",
        "# Compile the model\n",
        "#model.compile(optimizer='adam', loss='mse', metrics=['mae']) # Mean Squared Error\n",
        "modelANN.compile(optimizer='adam', loss='mse', metrics=[keras.metrics.RootMeanSquaredError()])\n",
        "\n",
        "# Train the model\n",
        "history = modelANN.fit(X_train_processed, y_train, epochs=50, batch_size=32, validation_data=(X_val_processed, y_val))\n",
        "\n",
        "# Make predictions on the validation set\n",
        "y_pred = modelANN.predict(X_val_processed).flatten()\n",
        "\n",
        "# Evaluate the model\n",
        "rmse = np.sqrt(mean_squared_error(y_val, y_pred))\n",
        "mape = mean_absolute_percentage_error(y_val, y_pred)\n",
        "\n",
        "print(f'RMSE: {rmse}')\n",
        "print(f'MAPE: {mape}')"
      ],
      "metadata": {
        "id": "9Fr6C8oPpDwq",
        "colab": {
          "base_uri": "https://localhost:8080/"
        },
        "outputId": "0ffe5910-8c91-489b-8a15-cbaeb9dda876"
      },
      "execution_count": null,
      "outputs": [
        {
          "output_type": "stream",
          "name": "stderr",
          "text": [
            "/usr/local/lib/python3.11/dist-packages/keras/src/layers/core/dense.py:87: UserWarning: Do not pass an `input_shape`/`input_dim` argument to a layer. When using Sequential models, prefer using an `Input(shape)` object as the first layer in the model instead.\n",
            "  super().__init__(activity_regularizer=activity_regularizer, **kwargs)\n"
          ]
        }
      ]
    },
    {
      "cell_type": "code",
      "source": [
        "import pandas as pd\n",
        "import numpy as np\n",
        "from sklearn.model_selection import train_test_split\n",
        "from sklearn.preprocessing import StandardScaler, OneHotEncoder\n",
        "from sklearn.compose import ColumnTransformer\n",
        "from tensorflow import keras\n",
        "from tensorflow.keras import layers\n",
        "from sklearn.metrics import mean_squared_error, mean_absolute_percentage_error\n",
        "\n",
        "# Load your data (replace 'your_data.csv' with the actual file path)\n",
        "# Assuming 'data' is your DataFrame with 'Price', 'Year', 'Mileage', 'State', 'Make', 'Model' columns\n",
        "data3 = pd.read_csv('https://github.com/sergiomora03/AdvancedTopicsAnalytics/raw/main/datasets/dataTrain_carListings.zip')\n",
        "\n",
        "# Feature Engineering (same as before)\n",
        "data3['Car_Age'] = 2025 - data3['Year']\n",
        "data3['Log_Mileage'] = np.log1p(data3['Mileage'])\n",
        "\n",
        "# Prepare the data\n",
        "X = data3[['Year', 'State', 'Make', 'Model', 'Car_Age', 'Log_Mileage']]\n",
        "y = data3['Price']\n",
        "\n",
        "# Split data into training and validation sets\n",
        "X_train, X_val, y_train, y_val = train_test_split(X, y, test_size=0.2, random_state=42)\n",
        "\n",
        "# Preprocessing: One-hot encoding for categorical features and scaling for numerical features\n",
        "numerical_features = ['Year', 'Car_Age', 'Log_Mileage']\n",
        "categorical_features = ['State', 'Make', 'Model']\n",
        "\n",
        "preprocessor = ColumnTransformer(\n",
        "    transformers=[\n",
        "        ('num', StandardScaler(), numerical_features),\n",
        "        ('cat', OneHotEncoder(handle_unknown='ignore', sparse_output=False), categorical_features)\n",
        "    ])\n",
        "\n",
        "X_train_processed = preprocessor.fit_transform(X_train)\n",
        "X_val_processed = preprocessor.transform(X_val)\n",
        "\n",
        "\n",
        "def build_and_train_model(epochs, num_neurons, num_layers):\n",
        "    modelANN2 = keras.Sequential()\n",
        "    modelANN2.add(layers.Dense(num_neurons, activation='relu', input_shape=(X_train_processed.shape[1],)))\n",
        "    for _ in range(num_layers - 1):\n",
        "        modelANN2.add(layers.Dense(num_neurons, activation='relu'))\n",
        "    modelANN2.add(layers.Dense(1))  # Output layer\n",
        "    modelANN2.compile(optimizer='adam', loss='mse', metrics=[keras.metrics.RootMeanSquaredError()])\n",
        "    modelANN2.fit(X_train_processed, y_train, epochs=epochs, batch_size=32, verbose=0) #verbose=0 to hide training output\n",
        "    return modelANN2\n",
        "\n",
        "#Hyperparameter search (example - adjust as needed)\n",
        "best_rmse = float('inf')\n",
        "best_hyperparams = {}\n",
        "\n",
        "for epochs in [50, 100]: #Example epochs values\n",
        "    for num_neurons in [64, 128]: # Example neuron values\n",
        "        for num_layers in [2, 3]: # Example number of layers\n",
        "            modelANN2 = build_and_train_model(epochs, num_neurons, num_layers)\n",
        "            y_pred = modelANN2.predict(X_val_processed).flatten()\n",
        "            rmse = np.sqrt(mean_squared_error(y_val, y_pred))\n",
        "\n",
        "            if rmse < best_rmse:\n",
        "                best_rmse = rmse\n",
        "                best_hyperparams = {'epochs': epochs, 'num_neurons': num_neurons, 'num_layers': num_layers}\n",
        "\n",
        "print(f\"Best Hyperparameters: {best_hyperparams}, RMSE: {best_rmse}\")\n",
        "\n",
        "# Train final model with best hyperparameters\n",
        "final_modelANN2 = build_and_train_model(**best_hyperparams)\n",
        "y_pred_final = final_modelANN2.predict(X_val_processed).flatten()\n",
        "rmse_final = np.sqrt(mean_squared_error(y_val, y_pred_final))\n",
        "mape_final = mean_absolute_percentage_error(y_val, y_pred_final)\n",
        "\n",
        "print(f\"Final Model RMSE: {rmse_final}\")\n",
        "print(f\"Final Model MAPE: {mape_final}\")"
      ],
      "metadata": {
        "id": "Oeb8ZzxUpQth"
      },
      "execution_count": null,
      "outputs": []
    },
    {
      "cell_type": "code",
      "source": [
        "from tensorflow.keras.models import save_model\n",
        "final_modelANN2.save(\"car_price_model_ANN.keras\")"
      ],
      "metadata": {
        "id": "tIY2ijz7OxpD"
      },
      "execution_count": null,
      "outputs": []
    },
    {
      "cell_type": "markdown",
      "source": [
        "from tensorflow.keras.models import load_model\n",
        "load_model = load_model(\"car_price_model_ANN.keras\")"
      ],
      "metadata": {
        "id": "qQ4ovxDNIf7d"
      }
    },
    {
      "cell_type": "markdown",
      "source": [],
      "metadata": {
        "id": "r3JWQcoUIfz-"
      }
    },
    {
      "cell_type": "code",
      "source": [],
      "metadata": {
        "id": "xfGRWQ4EPypD"
      },
      "execution_count": null,
      "outputs": []
    },
    {
      "cell_type": "markdown",
      "metadata": {
        "id": "Ftau7hH-eK4N"
      },
      "source": [
        "# Exercise P0.2 (50%)-DAVID\n",
        "\n",
        "Create an API of the model.\n",
        "\n",
        "Example:\n",
        "![](https://github.com/sergiomora03/AdvancedTopicsAnalytics/blob/main/notebooks/img/img015.PNG?raw=true)\n",
        "\n",
        "#### Evaluation:\n",
        "- 40% - API hosted on a cloud service\n",
        "- 10% - Show screenshots of the model doing the predictions on the local machine\n"
      ]
    },
    {
      "cell_type": "code",
      "source": [],
      "metadata": {
        "id": "dm5AV8lkN1R_"
      },
      "execution_count": null,
      "outputs": []
    },
    {
      "cell_type": "code",
      "execution_count": null,
      "metadata": {
        "id": "AWooSefzf3U6",
        "colab": {
          "base_uri": "https://localhost:8080/"
        },
        "outputId": "a6d6d1d4-4d18-401c-b636-2bc971503a3b"
      },
      "outputs": [
        {
          "output_type": "stream",
          "name": "stdout",
          "text": [
            "Requirement already satisfied: flask in /usr/local/lib/python3.11/dist-packages (3.1.0)\n",
            "Requirement already satisfied: tensorflow in /usr/local/lib/python3.11/dist-packages (2.18.0)\n",
            "Collecting flask-cors\n",
            "  Downloading flask_cors-5.0.1-py3-none-any.whl.metadata (961 bytes)\n",
            "Requirement already satisfied: Werkzeug>=3.1 in /usr/local/lib/python3.11/dist-packages (from flask) (3.1.3)\n",
            "Requirement already satisfied: Jinja2>=3.1.2 in /usr/local/lib/python3.11/dist-packages (from flask) (3.1.6)\n",
            "Requirement already satisfied: itsdangerous>=2.2 in /usr/local/lib/python3.11/dist-packages (from flask) (2.2.0)\n",
            "Requirement already satisfied: click>=8.1.3 in /usr/local/lib/python3.11/dist-packages (from flask) (8.1.8)\n",
            "Requirement already satisfied: blinker>=1.9 in /usr/local/lib/python3.11/dist-packages (from flask) (1.9.0)\n",
            "Requirement already satisfied: absl-py>=1.0.0 in /usr/local/lib/python3.11/dist-packages (from tensorflow) (1.4.0)\n",
            "Requirement already satisfied: astunparse>=1.6.0 in /usr/local/lib/python3.11/dist-packages (from tensorflow) (1.6.3)\n",
            "Requirement already satisfied: flatbuffers>=24.3.25 in /usr/local/lib/python3.11/dist-packages (from tensorflow) (25.2.10)\n",
            "Requirement already satisfied: gast!=0.5.0,!=0.5.1,!=0.5.2,>=0.2.1 in /usr/local/lib/python3.11/dist-packages (from tensorflow) (0.6.0)\n",
            "Requirement already satisfied: google-pasta>=0.1.1 in /usr/local/lib/python3.11/dist-packages (from tensorflow) (0.2.0)\n",
            "Requirement already satisfied: libclang>=13.0.0 in /usr/local/lib/python3.11/dist-packages (from tensorflow) (18.1.1)\n",
            "Requirement already satisfied: opt-einsum>=2.3.2 in /usr/local/lib/python3.11/dist-packages (from tensorflow) (3.4.0)\n",
            "Requirement already satisfied: packaging in /usr/local/lib/python3.11/dist-packages (from tensorflow) (24.2)\n",
            "Requirement already satisfied: protobuf!=4.21.0,!=4.21.1,!=4.21.2,!=4.21.3,!=4.21.4,!=4.21.5,<6.0.0dev,>=3.20.3 in /usr/local/lib/python3.11/dist-packages (from tensorflow) (4.25.6)\n",
            "Requirement already satisfied: requests<3,>=2.21.0 in /usr/local/lib/python3.11/dist-packages (from tensorflow) (2.32.3)\n",
            "Requirement already satisfied: setuptools in /usr/local/lib/python3.11/dist-packages (from tensorflow) (75.1.0)\n",
            "Requirement already satisfied: six>=1.12.0 in /usr/local/lib/python3.11/dist-packages (from tensorflow) (1.17.0)\n",
            "Requirement already satisfied: termcolor>=1.1.0 in /usr/local/lib/python3.11/dist-packages (from tensorflow) (2.5.0)\n",
            "Requirement already satisfied: typing-extensions>=3.6.6 in /usr/local/lib/python3.11/dist-packages (from tensorflow) (4.12.2)\n",
            "Requirement already satisfied: wrapt>=1.11.0 in /usr/local/lib/python3.11/dist-packages (from tensorflow) (1.17.2)\n",
            "Requirement already satisfied: grpcio<2.0,>=1.24.3 in /usr/local/lib/python3.11/dist-packages (from tensorflow) (1.71.0)\n",
            "Requirement already satisfied: tensorboard<2.19,>=2.18 in /usr/local/lib/python3.11/dist-packages (from tensorflow) (2.18.0)\n",
            "Requirement already satisfied: keras>=3.5.0 in /usr/local/lib/python3.11/dist-packages (from tensorflow) (3.8.0)\n",
            "Requirement already satisfied: numpy<2.1.0,>=1.26.0 in /usr/local/lib/python3.11/dist-packages (from tensorflow) (1.26.4)\n",
            "Requirement already satisfied: h5py>=3.11.0 in /usr/local/lib/python3.11/dist-packages (from tensorflow) (3.12.1)\n",
            "Requirement already satisfied: ml-dtypes<0.5.0,>=0.4.0 in /usr/local/lib/python3.11/dist-packages (from tensorflow) (0.4.1)\n",
            "Requirement already satisfied: tensorflow-io-gcs-filesystem>=0.23.1 in /usr/local/lib/python3.11/dist-packages (from tensorflow) (0.37.1)\n",
            "Requirement already satisfied: wheel<1.0,>=0.23.0 in /usr/local/lib/python3.11/dist-packages (from astunparse>=1.6.0->tensorflow) (0.45.1)\n",
            "Requirement already satisfied: MarkupSafe>=2.0 in /usr/local/lib/python3.11/dist-packages (from Jinja2>=3.1.2->flask) (3.0.2)\n",
            "Requirement already satisfied: rich in /usr/local/lib/python3.11/dist-packages (from keras>=3.5.0->tensorflow) (13.9.4)\n",
            "Requirement already satisfied: namex in /usr/local/lib/python3.11/dist-packages (from keras>=3.5.0->tensorflow) (0.0.8)\n",
            "Requirement already satisfied: optree in /usr/local/lib/python3.11/dist-packages (from keras>=3.5.0->tensorflow) (0.14.1)\n",
            "Requirement already satisfied: charset-normalizer<4,>=2 in /usr/local/lib/python3.11/dist-packages (from requests<3,>=2.21.0->tensorflow) (3.4.1)\n",
            "Requirement already satisfied: idna<4,>=2.5 in /usr/local/lib/python3.11/dist-packages (from requests<3,>=2.21.0->tensorflow) (3.10)\n",
            "Requirement already satisfied: urllib3<3,>=1.21.1 in /usr/local/lib/python3.11/dist-packages (from requests<3,>=2.21.0->tensorflow) (2.3.0)\n",
            "Requirement already satisfied: certifi>=2017.4.17 in /usr/local/lib/python3.11/dist-packages (from requests<3,>=2.21.0->tensorflow) (2025.1.31)\n",
            "Requirement already satisfied: markdown>=2.6.8 in /usr/local/lib/python3.11/dist-packages (from tensorboard<2.19,>=2.18->tensorflow) (3.7)\n",
            "Requirement already satisfied: tensorboard-data-server<0.8.0,>=0.7.0 in /usr/local/lib/python3.11/dist-packages (from tensorboard<2.19,>=2.18->tensorflow) (0.7.2)\n",
            "Requirement already satisfied: markdown-it-py>=2.2.0 in /usr/local/lib/python3.11/dist-packages (from rich->keras>=3.5.0->tensorflow) (3.0.0)\n",
            "Requirement already satisfied: pygments<3.0.0,>=2.13.0 in /usr/local/lib/python3.11/dist-packages (from rich->keras>=3.5.0->tensorflow) (2.18.0)\n",
            "Requirement already satisfied: mdurl~=0.1 in /usr/local/lib/python3.11/dist-packages (from markdown-it-py>=2.2.0->rich->keras>=3.5.0->tensorflow) (0.1.2)\n",
            "Downloading flask_cors-5.0.1-py3-none-any.whl (11 kB)\n",
            "Installing collected packages: flask-cors\n",
            "Successfully installed flask-cors-5.0.1\n"
          ]
        }
      ],
      "source": [
        "  pip install flask tensorflow flask-cors"
      ]
    },
    {
      "cell_type": "code",
      "source": [
        "from flask import Flask, request, jsonify\n",
        "from tensorflow.keras.models import load_model\n",
        "import numpy as np\n",
        "\n",
        "# Load the trained model\n",
        "model = load_model(\"car_price_model_ANN.keras\")\n",
        "\n",
        "# Initialize Flask app\n",
        "app = Flask(__name__)\n",
        "\n",
        "@app.route('/predict', methods=['POST'])\n",
        "def predict():\n",
        "    try:\n",
        "        # Get JSON data from request\n",
        "        data = request.get_json()\n",
        "\n",
        "        # Ensure the input is a valid format (list or single feature array)\n",
        "        features = np.array(data[\"features\"]).reshape(1, -1)  # Assuming single prediction\n",
        "\n",
        "        # Make prediction\n",
        "        prediction = model.predict(features).tolist()\n",
        "\n",
        "        return jsonify({\"prediction\": prediction})\n",
        "\n",
        "    except Exception as e:\n",
        "        return jsonify({\"error\": str(e)}), 400\n",
        "\n",
        "# Run the API locally\n",
        "if __name__ == '__main__':\n",
        "    app.run(debug=True)\n"
      ],
      "metadata": {
        "id": "Io4aQw3jGvTR",
        "colab": {
          "base_uri": "https://localhost:8080/",
          "height": 357
        },
        "outputId": "7b6ddee7-18c0-4bdf-8df9-d26701d0ca82"
      },
      "execution_count": null,
      "outputs": [
        {
          "output_type": "error",
          "ename": "ValueError",
          "evalue": "File not found: filepath=car_price_model_ANN.keras. Please ensure the file is an accessible `.keras` zip file.",
          "traceback": [
            "\u001b[0;31m---------------------------------------------------------------------------\u001b[0m",
            "\u001b[0;31mValueError\u001b[0m                                Traceback (most recent call last)",
            "\u001b[0;32m<ipython-input-2-e76c397c7758>\u001b[0m in \u001b[0;36m<cell line: 0>\u001b[0;34m()\u001b[0m\n\u001b[1;32m      4\u001b[0m \u001b[0;34m\u001b[0m\u001b[0m\n\u001b[1;32m      5\u001b[0m \u001b[0;31m# Load the trained model\u001b[0m\u001b[0;34m\u001b[0m\u001b[0;34m\u001b[0m\u001b[0m\n\u001b[0;32m----> 6\u001b[0;31m \u001b[0mmodel\u001b[0m \u001b[0;34m=\u001b[0m \u001b[0mload_model\u001b[0m\u001b[0;34m(\u001b[0m\u001b[0;34m\"car_price_model_ANN.keras\"\u001b[0m\u001b[0;34m)\u001b[0m\u001b[0;34m\u001b[0m\u001b[0;34m\u001b[0m\u001b[0m\n\u001b[0m\u001b[1;32m      7\u001b[0m \u001b[0;34m\u001b[0m\u001b[0m\n\u001b[1;32m      8\u001b[0m \u001b[0;31m# Initialize Flask app\u001b[0m\u001b[0;34m\u001b[0m\u001b[0;34m\u001b[0m\u001b[0m\n",
            "\u001b[0;32m/usr/local/lib/python3.11/dist-packages/keras/src/saving/saving_api.py\u001b[0m in \u001b[0;36mload_model\u001b[0;34m(filepath, custom_objects, compile, safe_mode)\u001b[0m\n\u001b[1;32m    198\u001b[0m         )\n\u001b[1;32m    199\u001b[0m     \u001b[0;32melif\u001b[0m \u001b[0mstr\u001b[0m\u001b[0;34m(\u001b[0m\u001b[0mfilepath\u001b[0m\u001b[0;34m)\u001b[0m\u001b[0;34m.\u001b[0m\u001b[0mendswith\u001b[0m\u001b[0;34m(\u001b[0m\u001b[0;34m\".keras\"\u001b[0m\u001b[0;34m)\u001b[0m\u001b[0;34m:\u001b[0m\u001b[0;34m\u001b[0m\u001b[0;34m\u001b[0m\u001b[0m\n\u001b[0;32m--> 200\u001b[0;31m         raise ValueError(\n\u001b[0m\u001b[1;32m    201\u001b[0m             \u001b[0;34mf\"File not found: filepath={filepath}. \"\u001b[0m\u001b[0;34m\u001b[0m\u001b[0;34m\u001b[0m\u001b[0m\n\u001b[1;32m    202\u001b[0m             \u001b[0;34m\"Please ensure the file is an accessible `.keras` \"\u001b[0m\u001b[0;34m\u001b[0m\u001b[0;34m\u001b[0m\u001b[0m\n",
            "\u001b[0;31mValueError\u001b[0m: File not found: filepath=car_price_model_ANN.keras. Please ensure the file is an accessible `.keras` zip file."
          ]
        }
      ]
    },
    {
      "cell_type": "code",
      "source": [
        "python app.py"
      ],
      "metadata": {
        "id": "kr7C1BpSGvVV"
      },
      "execution_count": null,
      "outputs": []
    },
    {
      "cell_type": "code",
      "source": [
        "curl -X POST \"http://127.0.0.1:5000/predict\" -H \"Content-Type: application/json\" -d '{\"features\": [1.2, 3.4, 5.6, 7.8]}'\n"
      ],
      "metadata": {
        "id": "NlJfPYCrGvYz"
      },
      "execution_count": null,
      "outputs": []
    },
    {
      "cell_type": "code",
      "source": [
        "gcloud auth login"
      ],
      "metadata": {
        "id": "_WcJvtDaG3-X"
      },
      "execution_count": null,
      "outputs": []
    },
    {
      "cell_type": "code",
      "source": [
        "FROM python:3.9\n",
        "WORKDIR /app\n",
        "COPY . /app\n",
        "RUN pip install flask tensorflow flask-cors\n",
        "CMD [\"python\", \"app.py\"]\n"
      ],
      "metadata": {
        "id": "Y5RI57EEG37G"
      },
      "execution_count": null,
      "outputs": []
    },
    {
      "cell_type": "code",
      "source": [
        "gcloud builds submit --tag gcr.io/YOUR_PROJECT_ID/car-price-api\n"
      ],
      "metadata": {
        "id": "i6_-esvPG33w"
      },
      "execution_count": null,
      "outputs": []
    },
    {
      "cell_type": "code",
      "source": [
        "gcloud run deploy car-price-api --image gcr.io/YOUR_PROJECT_ID/car-price-api --platform managed --allow-unauthenticated\n"
      ],
      "metadata": {
        "id": "x6rv70OqG31X"
      },
      "execution_count": null,
      "outputs": []
    },
    {
      "cell_type": "code",
      "source": [
        "curl -X POST \"http://127.0.0.1:5000/predict\" -H \"Content-Type: application/json\" -d '{\"features\": [1.2, 3.4, 5.6, 7.8]}'"
      ],
      "metadata": {
        "id": "JPI082tiG3zO"
      },
      "execution_count": null,
      "outputs": []
    },
    {
      "cell_type": "code",
      "source": [],
      "metadata": {
        "id": "xtXr8gahG3xE"
      },
      "execution_count": null,
      "outputs": []
    },
    {
      "cell_type": "code",
      "source": [],
      "metadata": {
        "id": "6JJw08bBG3tA"
      },
      "execution_count": null,
      "outputs": []
    },
    {
      "cell_type": "code",
      "source": [],
      "metadata": {
        "id": "12whff-PG3qt"
      },
      "execution_count": null,
      "outputs": []
    }
  ],
  "metadata": {
    "colab": {
      "provenance": [],
      "gpuType": "T4"
    },
    "kernelspec": {
      "display_name": "Python 3",
      "name": "python3"
    },
    "language_info": {
      "codemirror_mode": {
        "name": "ipython",
        "version": 3
      },
      "file_extension": ".py",
      "mimetype": "text/x-python",
      "name": "python",
      "nbconvert_exporter": "python",
      "pygments_lexer": "ipython3",
      "version": "3.7.1"
    },
    "accelerator": "GPU"
  },
  "nbformat": 4,
  "nbformat_minor": 0
}